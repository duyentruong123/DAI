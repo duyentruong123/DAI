{
 "cells": [
  {
   "cell_type": "markdown",
   "id": "f27388a0-82e4-4f0a-b5d7-d7c871395c9d",
   "metadata": {
    "id": "f27388a0-82e4-4f0a-b5d7-d7c871395c9d"
   },
   "source": [
    "## Data and AI in Economics\n",
    "Here is our work for the final project. Our mission is Bankruptcy prediction\n",
    "Group members:\n",
    "* Agyn Abdimomyn - 259655\n",
    "* Thi Thanh Duyen Truong - 257804\n",
    "* Mouhcine Leyne - 257968\n",
    "* Trung Anh Ha - 214993\n",
    "\n",
    "\n",
    "## Content:\n",
    "**1. [Introduction](#part1)**\n",
    "\n",
    "**2. [Importing librabries](#part2)**\n",
    "\n",
    "**3. [Importing, oversampling and standardizing the data](#part3)**\n",
    "* **3.1 [Importing data  and Overview of the Dataset](#part31)**\n",
    "* **3.2 [Oversampling the data](#part32)**\n",
    "* **3.3 [Data standardization](#part33)**\n",
    "\n",
    "**4. [Features Selection and Exploratory Data Analysis (EDA)](#part4)**\n",
    "* **4.1 [Features Selection](#part41)**\n",
    "* **4.2 [Exploratory Data Analysis (EDA)](#part42)**\n",
    "    * **4.2.1 [Distribution of quantitative data](#part421)**\n",
    "    * **4.2.2 [Correlation of selected features](#part422)**\n",
    "    \n",
    "**5. [Data Modeling and Evaluation](#part5)**\n",
    "* **5.1 [Modeling](#part51)**\n",
    "    * **5.1.1 [Splitting data into training and test set](#part511)**\n",
    "    * **5.1.2 [Build function to train and evaluate models](#part512)**\n",
    "* **5.2 [Models Analysis and Evaluation](#part52)**\n",
    "* **5.3 [Evaluating estimator performance of the best model](#part53)**\n",
    "\n",
    "**6. [Conclusion and future work](#part6)**\n"
   ]
  },
  {
   "cell_type": "markdown",
   "id": "68171d0a-ec50-4579-b504-902831e952cf",
   "metadata": {
    "id": "68171d0a-ec50-4579-b504-902831e952cf"
   },
   "source": [
    "## 1. Introduction <a name=\"part1\"></a>\n",
    "Bankruptcy prediction is one of the vital areas of research in financial risk management departments, aiming to identify firms that are likely to become financially unsustainable. If predicted accurately these models can provide early warnings, that allow shareholders to take preventive actions to avoid potential losses. The efficiency and accuracy of bankruptcy prediction models have increased significantly with the development of deep learning and machine learning technology, outperforming more conventional statistical techniques.\n",
    "\n",
    "This research uses a highly-regarded dataset called Company Bankruptcy Prediction from Kaggle.com. The data was collected by the Taiwan Economic Journal from 1999 to 2009, with involvement from the Taiwan Stock Exchange to identify bankrupt companies. The dataset contains 6819 entries, each with 96 attributes representing conventional accounting ratios that reflect a company's financial stability. This dataset provides a comprehensive foundation for predictive modeling and explanatory data analysis (EDA) due to its extensive financial indicators, market data, and macroeconomic components.\n",
    "\n",
    "This research has two main goals. First, we aim to perform a comprehensive Exploratory Data Analysis (EDA) to uncover important financial traits and patterns associated with both bankrupt and non-bankrupt businesses. This involves analyzing distributions, correlations, and relationships within the data to identify key factors that differentiate distressed companies from healthy ones. Second, we will use machine learning models specifically designed to predict bankruptcy, enhancing the accuracy and reliability of these models.\n",
    "\n",
    "This research is important because it has the potential to add to the body of information already available in financial risk management and to offer useful tools for identifying financial hardship early on. Through a methodical examination of past financial data and the application of sophisticated analytical methods, our goal is to increase the precision of bankruptcy forecasts and provide stakeholders with useful information."
   ]
  },
  {
   "cell_type": "markdown",
   "id": "285e6924",
   "metadata": {
    "id": "285e6924"
   },
   "source": [
    "## 2. Importing libraries <a name=\"part2\"></a>"
   ]
  },
  {
   "cell_type": "code",
   "execution_count": null,
   "id": "d9a37334",
   "metadata": {
    "id": "d9a37334"
   },
   "outputs": [],
   "source": [
    "# To supress warnings\n",
    "import warnings\n",
    "warnings.filterwarnings(\"ignore\")\n",
    "warnings.filterwarnings(\"ignore\", category=DeprecationWarning)\n",
    "\n",
    "# Basic libraries for organization, statistical operations and plotting\n",
    "import pandas as pd\n",
    "import numpy as np\n",
    "import matplotlib.pyplot as plt\n",
    "%matplotlib inline\n",
    "import seaborn as sns\n",
    "import scipy.stats as stats\n",
    "\n",
    "# Library to deal with the data imbalance\n",
    "from imblearn.over_sampling import BorderlineSMOTE\n",
    "from sklearn.model_selection import RandomizedSearchCV\n",
    "from sklearn.model_selection import cross_val_score\n",
    "\n",
    "# Import classification models\n",
    "from sklearn.model_selection import train_test_split\n",
    "\n",
    "from sklearn.metrics import accuracy_score, precision_score, recall_score, f1_score, roc_auc_score\n",
    "from sklearn.metrics import confusion_matrix\n",
    "\n",
    "\n",
    "from sklearn.preprocessing import StandardScaler\n",
    "from sklearn.feature_selection import SelectKBest, f_classif\n",
    "\n",
    "# Import machine learning models\n",
    "from sklearn.linear_model import SGDClassifier, LogisticRegression\n",
    "from sklearn.svm import SVC\n",
    "from sklearn.tree import DecisionTreeClassifier\n",
    "from sklearn.neighbors import KNeighborsClassifier\n",
    "from sklearn.ensemble import RandomForestClassifier, GradientBoostingClassifier\n",
    "from sklearn.ensemble import VotingClassifier\n",
    "from sklearn.neural_network import MLPClassifier\n",
    "from xgboost import XGBClassifier, XGBRFClassifier"
   ]
  },
  {
   "cell_type": "markdown",
   "id": "b14029ca",
   "metadata": {
    "id": "b14029ca"
   },
   "source": [
    "## 3. Importing, oversampling and standardizing the data  <a name=\"part3\"></a>"
   ]
  },
  {
   "cell_type": "markdown",
   "id": "a5cc729a",
   "metadata": {
    "id": "a5cc729a"
   },
   "source": [
    "### 3.1 Importing data and Overview of the Dataset  <a name=\"part31\"></a>"
   ]
  },
  {
   "cell_type": "code",
   "execution_count": null,
   "id": "73f521d1",
   "metadata": {
    "id": "73f521d1",
    "outputId": "87ff31c7-82cb-4518-ac84-f86ec15d0ef6",
    "scrolled": true
   },
   "outputs": [
    {
     "name": "stdout",
     "output_type": "stream",
     "text": [
      "<class 'pandas.core.frame.DataFrame'>\n",
      "RangeIndex: 6819 entries, 0 to 6818\n",
      "Data columns (total 96 columns):\n",
      " #   Column                                                    Non-Null Count  Dtype  \n",
      "---  ------                                                    --------------  -----  \n",
      " 0   Bankrupt?                                                 6819 non-null   int64  \n",
      " 1    ROA(C) before interest and depreciation before interest  6819 non-null   float64\n",
      " 2    ROA(A) before interest and % after tax                   6819 non-null   float64\n",
      " 3    ROA(B) before interest and depreciation after tax        6819 non-null   float64\n",
      " 4    Operating Gross Margin                                   6819 non-null   float64\n",
      " 5    Realized Sales Gross Margin                              6819 non-null   float64\n",
      " 6    Operating Profit Rate                                    6819 non-null   float64\n",
      " 7    Pre-tax net Interest Rate                                6819 non-null   float64\n",
      " 8    After-tax net Interest Rate                              6819 non-null   float64\n",
      " 9    Non-industry income and expenditure/revenue              6819 non-null   float64\n",
      " 10   Continuous interest rate (after tax)                     6819 non-null   float64\n",
      " 11   Operating Expense Rate                                   6819 non-null   float64\n",
      " 12   Research and development expense rate                    6819 non-null   float64\n",
      " 13   Cash flow rate                                           6819 non-null   float64\n",
      " 14   Interest-bearing debt interest rate                      6819 non-null   float64\n",
      " 15   Tax rate (A)                                             6819 non-null   float64\n",
      " 16   Net Value Per Share (B)                                  6819 non-null   float64\n",
      " 17   Net Value Per Share (A)                                  6819 non-null   float64\n",
      " 18   Net Value Per Share (C)                                  6819 non-null   float64\n",
      " 19   Persistent EPS in the Last Four Seasons                  6819 non-null   float64\n",
      " 20   Cash Flow Per Share                                      6819 non-null   float64\n",
      " 21   Revenue Per Share (Yuan ¥)                               6819 non-null   float64\n",
      " 22   Operating Profit Per Share (Yuan ¥)                      6819 non-null   float64\n",
      " 23   Per Share Net profit before tax (Yuan ¥)                 6819 non-null   float64\n",
      " 24   Realized Sales Gross Profit Growth Rate                  6819 non-null   float64\n",
      " 25   Operating Profit Growth Rate                             6819 non-null   float64\n",
      " 26   After-tax Net Profit Growth Rate                         6819 non-null   float64\n",
      " 27   Regular Net Profit Growth Rate                           6819 non-null   float64\n",
      " 28   Continuous Net Profit Growth Rate                        6819 non-null   float64\n",
      " 29   Total Asset Growth Rate                                  6819 non-null   float64\n",
      " 30   Net Value Growth Rate                                    6819 non-null   float64\n",
      " 31   Total Asset Return Growth Rate Ratio                     6819 non-null   float64\n",
      " 32   Cash Reinvestment %                                      6819 non-null   float64\n",
      " 33   Current Ratio                                            6819 non-null   float64\n",
      " 34   Quick Ratio                                              6819 non-null   float64\n",
      " 35   Interest Expense Ratio                                   6819 non-null   float64\n",
      " 36   Total debt/Total net worth                               6819 non-null   float64\n",
      " 37   Debt ratio %                                             6819 non-null   float64\n",
      " 38   Net worth/Assets                                         6819 non-null   float64\n",
      " 39   Long-term fund suitability ratio (A)                     6819 non-null   float64\n",
      " 40   Borrowing dependency                                     6819 non-null   float64\n",
      " 41   Contingent liabilities/Net worth                         6819 non-null   float64\n",
      " 42   Operating profit/Paid-in capital                         6819 non-null   float64\n",
      " 43   Net profit before tax/Paid-in capital                    6819 non-null   float64\n",
      " 44   Inventory and accounts receivable/Net value              6819 non-null   float64\n",
      " 45   Total Asset Turnover                                     6819 non-null   float64\n",
      " 46   Accounts Receivable Turnover                             6819 non-null   float64\n",
      " 47   Average Collection Days                                  6819 non-null   float64\n",
      " 48   Inventory Turnover Rate (times)                          6819 non-null   float64\n",
      " 49   Fixed Assets Turnover Frequency                          6819 non-null   float64\n",
      " 50   Net Worth Turnover Rate (times)                          6819 non-null   float64\n",
      " 51   Revenue per person                                       6819 non-null   float64\n",
      " 52   Operating profit per person                              6819 non-null   float64\n",
      " 53   Allocation rate per person                               6819 non-null   float64\n",
      " 54   Working Capital to Total Assets                          6819 non-null   float64\n",
      " 55   Quick Assets/Total Assets                                6819 non-null   float64\n",
      " 56   Current Assets/Total Assets                              6819 non-null   float64\n",
      " 57   Cash/Total Assets                                        6819 non-null   float64\n",
      " 58   Quick Assets/Current Liability                           6819 non-null   float64\n",
      " 59   Cash/Current Liability                                   6819 non-null   float64\n",
      " 60   Current Liability to Assets                              6819 non-null   float64\n",
      " 61   Operating Funds to Liability                             6819 non-null   float64\n",
      " 62   Inventory/Working Capital                                6819 non-null   float64\n",
      " 63   Inventory/Current Liability                              6819 non-null   float64\n",
      " 64   Current Liabilities/Liability                            6819 non-null   float64\n",
      " 65   Working Capital/Equity                                   6819 non-null   float64\n",
      " 66   Current Liabilities/Equity                               6819 non-null   float64\n",
      " 67   Long-term Liability to Current Assets                    6819 non-null   float64\n",
      " 68   Retained Earnings to Total Assets                        6819 non-null   float64\n",
      " 69   Total income/Total expense                               6819 non-null   float64\n",
      " 70   Total expense/Assets                                     6819 non-null   float64\n",
      " 71   Current Asset Turnover Rate                              6819 non-null   float64\n",
      " 72   Quick Asset Turnover Rate                                6819 non-null   float64\n",
      " 73   Working capitcal Turnover Rate                           6819 non-null   float64\n",
      " 74   Cash Turnover Rate                                       6819 non-null   float64\n",
      " 75   Cash Flow to Sales                                       6819 non-null   float64\n",
      " 76   Fixed Assets to Assets                                   6819 non-null   float64\n",
      " 77   Current Liability to Liability                           6819 non-null   float64\n",
      " 78   Current Liability to Equity                              6819 non-null   float64\n",
      " 79   Equity to Long-term Liability                            6819 non-null   float64\n",
      " 80   Cash Flow to Total Assets                                6819 non-null   float64\n",
      " 81   Cash Flow to Liability                                   6819 non-null   float64\n",
      " 82   CFO to Assets                                            6819 non-null   float64\n",
      " 83   Cash Flow to Equity                                      6819 non-null   float64\n",
      " 84   Current Liability to Current Assets                      6819 non-null   float64\n",
      " 85   Liability-Assets Flag                                    6819 non-null   int64  \n",
      " 86   Net Income to Total Assets                               6819 non-null   float64\n",
      " 87   Total assets to GNP price                                6819 non-null   float64\n",
      " 88   No-credit Interval                                       6819 non-null   float64\n",
      " 89   Gross Profit to Sales                                    6819 non-null   float64\n",
      " 90   Net Income to Stockholder's Equity                       6819 non-null   float64\n",
      " 91   Liability to Equity                                      6819 non-null   float64\n",
      " 92   Degree of Financial Leverage (DFL)                       6819 non-null   float64\n",
      " 93   Interest Coverage Ratio (Interest expense to EBIT)       6819 non-null   float64\n",
      " 94   Net Income Flag                                          6819 non-null   int64  \n",
      " 95   Equity to Liability                                      6819 non-null   float64\n",
      "dtypes: float64(93), int64(3)\n",
      "memory usage: 5.0 MB\n"
     ]
    }
   ],
   "source": [
    "# Load the dataset\n",
    "dataset = pd.read_csv('data.csv')\n",
    "\n",
    "# Display basic information about the dataset\n",
    "data_info = dataset.info()\n",
    "data_head = dataset.head(2)\n",
    "\n",
    "data_info"
   ]
  },
  {
   "cell_type": "markdown",
   "id": "575f506d",
   "metadata": {
    "id": "575f506d"
   },
   "source": [
    "There are total 96 columns.\n",
    "All columns have 6819 non-null entries, indicating there are **no missing values** in the dataset."
   ]
  },
  {
   "cell_type": "code",
   "execution_count": null,
   "id": "965765a2",
   "metadata": {
    "id": "965765a2",
    "outputId": "7b2ba4be-0c86-45c4-c0e2-f44335f92468"
   },
   "outputs": [
    {
     "data": {
      "text/html": [
       "<div>\n",
       "<style scoped>\n",
       "    .dataframe tbody tr th:only-of-type {\n",
       "        vertical-align: middle;\n",
       "    }\n",
       "\n",
       "    .dataframe tbody tr th {\n",
       "        vertical-align: top;\n",
       "    }\n",
       "\n",
       "    .dataframe thead th {\n",
       "        text-align: right;\n",
       "    }\n",
       "</style>\n",
       "<table border=\"1\" class=\"dataframe\">\n",
       "  <thead>\n",
       "    <tr style=\"text-align: right;\">\n",
       "      <th></th>\n",
       "      <th>Bankrupt?</th>\n",
       "      <th>ROA(C) before interest and depreciation before interest</th>\n",
       "      <th>ROA(A) before interest and % after tax</th>\n",
       "      <th>ROA(B) before interest and depreciation after tax</th>\n",
       "      <th>Operating Gross Margin</th>\n",
       "      <th>Realized Sales Gross Margin</th>\n",
       "      <th>Operating Profit Rate</th>\n",
       "      <th>Pre-tax net Interest Rate</th>\n",
       "      <th>After-tax net Interest Rate</th>\n",
       "      <th>Non-industry income and expenditure/revenue</th>\n",
       "      <th>...</th>\n",
       "      <th>Net Income to Total Assets</th>\n",
       "      <th>Total assets to GNP price</th>\n",
       "      <th>No-credit Interval</th>\n",
       "      <th>Gross Profit to Sales</th>\n",
       "      <th>Net Income to Stockholder's Equity</th>\n",
       "      <th>Liability to Equity</th>\n",
       "      <th>Degree of Financial Leverage (DFL)</th>\n",
       "      <th>Interest Coverage Ratio (Interest expense to EBIT)</th>\n",
       "      <th>Net Income Flag</th>\n",
       "      <th>Equity to Liability</th>\n",
       "    </tr>\n",
       "  </thead>\n",
       "  <tbody>\n",
       "    <tr>\n",
       "      <th>0</th>\n",
       "      <td>1</td>\n",
       "      <td>0.370594</td>\n",
       "      <td>0.424389</td>\n",
       "      <td>0.40575</td>\n",
       "      <td>0.601457</td>\n",
       "      <td>0.601457</td>\n",
       "      <td>0.998969</td>\n",
       "      <td>0.796887</td>\n",
       "      <td>0.808809</td>\n",
       "      <td>0.302646</td>\n",
       "      <td>...</td>\n",
       "      <td>0.716845</td>\n",
       "      <td>0.009219</td>\n",
       "      <td>0.622879</td>\n",
       "      <td>0.601453</td>\n",
       "      <td>0.827890</td>\n",
       "      <td>0.290202</td>\n",
       "      <td>0.026601</td>\n",
       "      <td>0.564050</td>\n",
       "      <td>1</td>\n",
       "      <td>0.016469</td>\n",
       "    </tr>\n",
       "    <tr>\n",
       "      <th>1</th>\n",
       "      <td>1</td>\n",
       "      <td>0.464291</td>\n",
       "      <td>0.538214</td>\n",
       "      <td>0.51673</td>\n",
       "      <td>0.610235</td>\n",
       "      <td>0.610235</td>\n",
       "      <td>0.998946</td>\n",
       "      <td>0.797380</td>\n",
       "      <td>0.809301</td>\n",
       "      <td>0.303556</td>\n",
       "      <td>...</td>\n",
       "      <td>0.795297</td>\n",
       "      <td>0.008323</td>\n",
       "      <td>0.623652</td>\n",
       "      <td>0.610237</td>\n",
       "      <td>0.839969</td>\n",
       "      <td>0.283846</td>\n",
       "      <td>0.264577</td>\n",
       "      <td>0.570175</td>\n",
       "      <td>1</td>\n",
       "      <td>0.020794</td>\n",
       "    </tr>\n",
       "  </tbody>\n",
       "</table>\n",
       "<p>2 rows × 96 columns</p>\n",
       "</div>"
      ],
      "text/plain": [
       "   Bankrupt?   ROA(C) before interest and depreciation before interest  \\\n",
       "0          1                                           0.370594          \n",
       "1          1                                           0.464291          \n",
       "\n",
       "    ROA(A) before interest and % after tax  \\\n",
       "0                                 0.424389   \n",
       "1                                 0.538214   \n",
       "\n",
       "    ROA(B) before interest and depreciation after tax  \\\n",
       "0                                            0.40575    \n",
       "1                                            0.51673    \n",
       "\n",
       "    Operating Gross Margin   Realized Sales Gross Margin  \\\n",
       "0                 0.601457                      0.601457   \n",
       "1                 0.610235                      0.610235   \n",
       "\n",
       "    Operating Profit Rate   Pre-tax net Interest Rate  \\\n",
       "0                0.998969                    0.796887   \n",
       "1                0.998946                    0.797380   \n",
       "\n",
       "    After-tax net Interest Rate   Non-industry income and expenditure/revenue  \\\n",
       "0                      0.808809                                      0.302646   \n",
       "1                      0.809301                                      0.303556   \n",
       "\n",
       "   ...   Net Income to Total Assets   Total assets to GNP price  \\\n",
       "0  ...                     0.716845                    0.009219   \n",
       "1  ...                     0.795297                    0.008323   \n",
       "\n",
       "    No-credit Interval   Gross Profit to Sales  \\\n",
       "0             0.622879                0.601453   \n",
       "1             0.623652                0.610237   \n",
       "\n",
       "    Net Income to Stockholder's Equity   Liability to Equity  \\\n",
       "0                             0.827890              0.290202   \n",
       "1                             0.839969              0.283846   \n",
       "\n",
       "    Degree of Financial Leverage (DFL)  \\\n",
       "0                             0.026601   \n",
       "1                             0.264577   \n",
       "\n",
       "    Interest Coverage Ratio (Interest expense to EBIT)   Net Income Flag  \\\n",
       "0                                           0.564050                   1   \n",
       "1                                           0.570175                   1   \n",
       "\n",
       "    Equity to Liability  \n",
       "0              0.016469  \n",
       "1              0.020794  \n",
       "\n",
       "[2 rows x 96 columns]"
      ]
     },
     "execution_count": 3,
     "metadata": {},
     "output_type": "execute_result"
    }
   ],
   "source": [
    "data_head"
   ]
  },
  {
   "cell_type": "code",
   "execution_count": null,
   "id": "1c85389c",
   "metadata": {
    "id": "1c85389c",
    "outputId": "ed2f69fb-faa1-4382-fb9c-7ca1565a8bab"
   },
   "outputs": [
    {
     "data": {
      "text/plain": [
       "0"
      ]
     },
     "execution_count": 4,
     "metadata": {},
     "output_type": "execute_result"
    }
   ],
   "source": [
    "#  Checking duplicated values\n",
    "dataset.duplicated().sum()"
   ]
  },
  {
   "cell_type": "markdown",
   "id": "b73ea622",
   "metadata": {
    "id": "b73ea622"
   },
   "source": [
    "### 3.2 Oversampling the data <a name=\"part32\"></a>"
   ]
  },
  {
   "cell_type": "code",
   "execution_count": null,
   "id": "ffbe1b84",
   "metadata": {
    "id": "ffbe1b84",
    "outputId": "1e8779c2-9f5d-4e4e-c6a9-58c393cb255a",
    "scrolled": true
   },
   "outputs": [
    {
     "data": {
      "text/plain": [
       "Bankrupt?\n",
       "0    6599\n",
       "1     220\n",
       "Name: count, dtype: int64"
      ]
     },
     "execution_count": 5,
     "metadata": {},
     "output_type": "execute_result"
    }
   ],
   "source": [
    "dataset['Bankrupt?'].value_counts()"
   ]
  },
  {
   "cell_type": "markdown",
   "id": "b144779a",
   "metadata": {
    "id": "b144779a"
   },
   "source": [
    "The dataset is highly imbalanced, which leads to a bias in the model's training process, favoring classes with more samples over those with fewer samples. To address this issue, we need to oversample the bankruptcy companies' data. We have chosen Borderline-SMOTE to oversample our dataset. This method allows us to specifically select samples from the minority class and generate new synthetic samples that inherit the characteristics of the bankruptcy companies. By extracting features from the minority class, Borderline-SMOTE creates new samples that enhance the representation of the minority class in the dataset."
   ]
  },
  {
   "cell_type": "code",
   "execution_count": null,
   "id": "bbbf4d73",
   "metadata": {
    "id": "bbbf4d73"
   },
   "outputs": [],
   "source": [
    "# define dataset\n",
    "X = dataset.drop('Bankrupt?', axis = 1)\n",
    "y = dataset['Bankrupt?']"
   ]
  },
  {
   "cell_type": "code",
   "execution_count": null,
   "id": "93230e4c",
   "metadata": {
    "id": "93230e4c"
   },
   "outputs": [],
   "source": [
    "# Initalize borderline-SMOTE for imbalanced dataset\n",
    "oversample = BorderlineSMOTE()\n",
    "# transform the dataset\n",
    "X, y = oversample.fit_resample(X, y)"
   ]
  },
  {
   "cell_type": "code",
   "execution_count": null,
   "id": "2a9a8444",
   "metadata": {
    "id": "2a9a8444"
   },
   "outputs": [],
   "source": [
    "# convert from array to panda.dataframe\n",
    "df_oversampled = pd.DataFrame(X, columns = [name for name in dataset.columns if name != 'Bankrupt?']  )\n",
    "df_oversampled.insert(0, 'Bankrupt?', y)"
   ]
  },
  {
   "cell_type": "code",
   "execution_count": null,
   "id": "bdf2706c",
   "metadata": {
    "id": "bdf2706c",
    "outputId": "4b0b8c4b-b7b0-49ac-9227-b60de7ac7b79"
   },
   "outputs": [
    {
     "data": {
      "text/plain": [
       "Bankrupt?\n",
       "1    6599\n",
       "0    6599\n",
       "Name: count, dtype: int64"
      ]
     },
     "execution_count": 9,
     "metadata": {},
     "output_type": "execute_result"
    }
   ],
   "source": [
    "# Check if the dataset is balanced\n",
    "df_oversampled['Bankrupt?'].value_counts()"
   ]
  },
  {
   "cell_type": "markdown",
   "id": "0a7764ab",
   "metadata": {
    "id": "0a7764ab"
   },
   "source": [
    "After oversampling, we checked for null values again to ensure there were none. The presence of NaN values would prevent us from being able to split the data effectively. If any NaN values are found, they must be addressed before proceeding with the data splitting process."
   ]
  },
  {
   "cell_type": "code",
   "execution_count": null,
   "id": "8fdcb86f",
   "metadata": {
    "id": "8fdcb86f",
    "outputId": "1c4dc101-a19f-41de-a858-07e992181a0f"
   },
   "outputs": [
    {
     "data": {
      "text/plain": [
       "0"
      ]
     },
     "execution_count": 10,
     "metadata": {},
     "output_type": "execute_result"
    }
   ],
   "source": [
    "# Check for null values in the oversampled dataset\n",
    "df_oversampled.isnull().sum().sum()"
   ]
  },
  {
   "cell_type": "code",
   "execution_count": null,
   "id": "d6e53f56",
   "metadata": {
    "id": "d6e53f56",
    "outputId": "dbb24a70-d9c8-493e-b28f-5bd09d29f1d7"
   },
   "outputs": [
    {
     "data": {
      "text/html": [
       "<div>\n",
       "<style scoped>\n",
       "    .dataframe tbody tr th:only-of-type {\n",
       "        vertical-align: middle;\n",
       "    }\n",
       "\n",
       "    .dataframe tbody tr th {\n",
       "        vertical-align: top;\n",
       "    }\n",
       "\n",
       "    .dataframe thead th {\n",
       "        text-align: right;\n",
       "    }\n",
       "</style>\n",
       "<table border=\"1\" class=\"dataframe\">\n",
       "  <thead>\n",
       "    <tr style=\"text-align: right;\">\n",
       "      <th></th>\n",
       "      <th>Bankrupt?</th>\n",
       "      <th>ROA(C) before interest and depreciation before interest</th>\n",
       "      <th>ROA(A) before interest and % after tax</th>\n",
       "      <th>ROA(B) before interest and depreciation after tax</th>\n",
       "      <th>Operating Gross Margin</th>\n",
       "      <th>Realized Sales Gross Margin</th>\n",
       "      <th>Operating Profit Rate</th>\n",
       "      <th>Pre-tax net Interest Rate</th>\n",
       "      <th>After-tax net Interest Rate</th>\n",
       "      <th>Non-industry income and expenditure/revenue</th>\n",
       "      <th>...</th>\n",
       "      <th>Net Income to Total Assets</th>\n",
       "      <th>Total assets to GNP price</th>\n",
       "      <th>No-credit Interval</th>\n",
       "      <th>Gross Profit to Sales</th>\n",
       "      <th>Net Income to Stockholder's Equity</th>\n",
       "      <th>Liability to Equity</th>\n",
       "      <th>Degree of Financial Leverage (DFL)</th>\n",
       "      <th>Interest Coverage Ratio (Interest expense to EBIT)</th>\n",
       "      <th>Net Income Flag</th>\n",
       "      <th>Equity to Liability</th>\n",
       "    </tr>\n",
       "  </thead>\n",
       "  <tbody>\n",
       "    <tr>\n",
       "      <th>count</th>\n",
       "      <td>13198.0</td>\n",
       "      <td>13198.00</td>\n",
       "      <td>13198.00</td>\n",
       "      <td>13198.00</td>\n",
       "      <td>13198.00</td>\n",
       "      <td>13198.00</td>\n",
       "      <td>13198.00</td>\n",
       "      <td>13198.00</td>\n",
       "      <td>13198.00</td>\n",
       "      <td>13198.00</td>\n",
       "      <td>...</td>\n",
       "      <td>13198.00</td>\n",
       "      <td>1.319800e+04</td>\n",
       "      <td>13198.00</td>\n",
       "      <td>13198.00</td>\n",
       "      <td>13198.00</td>\n",
       "      <td>13198.00</td>\n",
       "      <td>13198.00</td>\n",
       "      <td>13198.00</td>\n",
       "      <td>13198.0</td>\n",
       "      <td>13198.00</td>\n",
       "    </tr>\n",
       "    <tr>\n",
       "      <th>mean</th>\n",
       "      <td>0.5</td>\n",
       "      <td>0.46</td>\n",
       "      <td>0.51</td>\n",
       "      <td>0.51</td>\n",
       "      <td>0.60</td>\n",
       "      <td>0.60</td>\n",
       "      <td>1.00</td>\n",
       "      <td>0.80</td>\n",
       "      <td>0.81</td>\n",
       "      <td>0.30</td>\n",
       "      <td>...</td>\n",
       "      <td>0.78</td>\n",
       "      <td>3.567514e+07</td>\n",
       "      <td>0.62</td>\n",
       "      <td>0.60</td>\n",
       "      <td>0.83</td>\n",
       "      <td>0.29</td>\n",
       "      <td>0.03</td>\n",
       "      <td>0.57</td>\n",
       "      <td>1.0</td>\n",
       "      <td>0.03</td>\n",
       "    </tr>\n",
       "    <tr>\n",
       "      <th>std</th>\n",
       "      <td>0.5</td>\n",
       "      <td>0.07</td>\n",
       "      <td>0.09</td>\n",
       "      <td>0.08</td>\n",
       "      <td>0.02</td>\n",
       "      <td>0.02</td>\n",
       "      <td>0.01</td>\n",
       "      <td>0.01</td>\n",
       "      <td>0.01</td>\n",
       "      <td>0.01</td>\n",
       "      <td>...</td>\n",
       "      <td>0.06</td>\n",
       "      <td>4.972963e+08</td>\n",
       "      <td>0.01</td>\n",
       "      <td>0.02</td>\n",
       "      <td>0.04</td>\n",
       "      <td>0.03</td>\n",
       "      <td>0.01</td>\n",
       "      <td>0.01</td>\n",
       "      <td>0.0</td>\n",
       "      <td>0.04</td>\n",
       "    </tr>\n",
       "    <tr>\n",
       "      <th>min</th>\n",
       "      <td>0.0</td>\n",
       "      <td>0.00</td>\n",
       "      <td>0.00</td>\n",
       "      <td>0.00</td>\n",
       "      <td>0.00</td>\n",
       "      <td>0.00</td>\n",
       "      <td>0.00</td>\n",
       "      <td>0.00</td>\n",
       "      <td>0.00</td>\n",
       "      <td>0.00</td>\n",
       "      <td>...</td>\n",
       "      <td>0.00</td>\n",
       "      <td>0.000000e+00</td>\n",
       "      <td>0.00</td>\n",
       "      <td>0.00</td>\n",
       "      <td>0.00</td>\n",
       "      <td>0.00</td>\n",
       "      <td>0.00</td>\n",
       "      <td>0.00</td>\n",
       "      <td>1.0</td>\n",
       "      <td>0.00</td>\n",
       "    </tr>\n",
       "    <tr>\n",
       "      <th>25%</th>\n",
       "      <td>0.0</td>\n",
       "      <td>0.43</td>\n",
       "      <td>0.48</td>\n",
       "      <td>0.48</td>\n",
       "      <td>0.60</td>\n",
       "      <td>0.60</td>\n",
       "      <td>1.00</td>\n",
       "      <td>0.80</td>\n",
       "      <td>0.81</td>\n",
       "      <td>0.30</td>\n",
       "      <td>...</td>\n",
       "      <td>0.76</td>\n",
       "      <td>0.000000e+00</td>\n",
       "      <td>0.62</td>\n",
       "      <td>0.60</td>\n",
       "      <td>0.84</td>\n",
       "      <td>0.28</td>\n",
       "      <td>0.03</td>\n",
       "      <td>0.56</td>\n",
       "      <td>1.0</td>\n",
       "      <td>0.02</td>\n",
       "    </tr>\n",
       "    <tr>\n",
       "      <th>50%</th>\n",
       "      <td>0.5</td>\n",
       "      <td>0.47</td>\n",
       "      <td>0.53</td>\n",
       "      <td>0.52</td>\n",
       "      <td>0.60</td>\n",
       "      <td>0.60</td>\n",
       "      <td>1.00</td>\n",
       "      <td>0.80</td>\n",
       "      <td>0.81</td>\n",
       "      <td>0.30</td>\n",
       "      <td>...</td>\n",
       "      <td>0.79</td>\n",
       "      <td>0.000000e+00</td>\n",
       "      <td>0.62</td>\n",
       "      <td>0.60</td>\n",
       "      <td>0.84</td>\n",
       "      <td>0.28</td>\n",
       "      <td>0.03</td>\n",
       "      <td>0.57</td>\n",
       "      <td>1.0</td>\n",
       "      <td>0.02</td>\n",
       "    </tr>\n",
       "    <tr>\n",
       "      <th>75%</th>\n",
       "      <td>1.0</td>\n",
       "      <td>0.50</td>\n",
       "      <td>0.56</td>\n",
       "      <td>0.55</td>\n",
       "      <td>0.61</td>\n",
       "      <td>0.61</td>\n",
       "      <td>1.00</td>\n",
       "      <td>0.80</td>\n",
       "      <td>0.81</td>\n",
       "      <td>0.30</td>\n",
       "      <td>...</td>\n",
       "      <td>0.81</td>\n",
       "      <td>1.000000e-02</td>\n",
       "      <td>0.62</td>\n",
       "      <td>0.61</td>\n",
       "      <td>0.84</td>\n",
       "      <td>0.29</td>\n",
       "      <td>0.03</td>\n",
       "      <td>0.57</td>\n",
       "      <td>1.0</td>\n",
       "      <td>0.04</td>\n",
       "    </tr>\n",
       "    <tr>\n",
       "      <th>max</th>\n",
       "      <td>1.0</td>\n",
       "      <td>1.00</td>\n",
       "      <td>1.00</td>\n",
       "      <td>1.00</td>\n",
       "      <td>1.00</td>\n",
       "      <td>1.00</td>\n",
       "      <td>1.00</td>\n",
       "      <td>1.00</td>\n",
       "      <td>1.00</td>\n",
       "      <td>1.00</td>\n",
       "      <td>...</td>\n",
       "      <td>1.00</td>\n",
       "      <td>9.820000e+09</td>\n",
       "      <td>1.00</td>\n",
       "      <td>1.00</td>\n",
       "      <td>1.00</td>\n",
       "      <td>1.00</td>\n",
       "      <td>1.00</td>\n",
       "      <td>1.00</td>\n",
       "      <td>1.0</td>\n",
       "      <td>1.00</td>\n",
       "    </tr>\n",
       "  </tbody>\n",
       "</table>\n",
       "<p>8 rows × 96 columns</p>\n",
       "</div>"
      ],
      "text/plain": [
       "       Bankrupt?   ROA(C) before interest and depreciation before interest  \\\n",
       "count    13198.0                                           13198.00          \n",
       "mean         0.5                                               0.46          \n",
       "std          0.5                                               0.07          \n",
       "min          0.0                                               0.00          \n",
       "25%          0.0                                               0.43          \n",
       "50%          0.5                                               0.47          \n",
       "75%          1.0                                               0.50          \n",
       "max          1.0                                               1.00          \n",
       "\n",
       "        ROA(A) before interest and % after tax  \\\n",
       "count                                 13198.00   \n",
       "mean                                      0.51   \n",
       "std                                       0.09   \n",
       "min                                       0.00   \n",
       "25%                                       0.48   \n",
       "50%                                       0.53   \n",
       "75%                                       0.56   \n",
       "max                                       1.00   \n",
       "\n",
       "        ROA(B) before interest and depreciation after tax  \\\n",
       "count                                           13198.00    \n",
       "mean                                                0.51    \n",
       "std                                                 0.08    \n",
       "min                                                 0.00    \n",
       "25%                                                 0.48    \n",
       "50%                                                 0.52    \n",
       "75%                                                 0.55    \n",
       "max                                                 1.00    \n",
       "\n",
       "        Operating Gross Margin   Realized Sales Gross Margin  \\\n",
       "count                 13198.00                      13198.00   \n",
       "mean                      0.60                          0.60   \n",
       "std                       0.02                          0.02   \n",
       "min                       0.00                          0.00   \n",
       "25%                       0.60                          0.60   \n",
       "50%                       0.60                          0.60   \n",
       "75%                       0.61                          0.61   \n",
       "max                       1.00                          1.00   \n",
       "\n",
       "        Operating Profit Rate   Pre-tax net Interest Rate  \\\n",
       "count                13198.00                    13198.00   \n",
       "mean                     1.00                        0.80   \n",
       "std                      0.01                        0.01   \n",
       "min                      0.00                        0.00   \n",
       "25%                      1.00                        0.80   \n",
       "50%                      1.00                        0.80   \n",
       "75%                      1.00                        0.80   \n",
       "max                      1.00                        1.00   \n",
       "\n",
       "        After-tax net Interest Rate  \\\n",
       "count                      13198.00   \n",
       "mean                           0.81   \n",
       "std                            0.01   \n",
       "min                            0.00   \n",
       "25%                            0.81   \n",
       "50%                            0.81   \n",
       "75%                            0.81   \n",
       "max                            1.00   \n",
       "\n",
       "        Non-industry income and expenditure/revenue  ...  \\\n",
       "count                                      13198.00  ...   \n",
       "mean                                           0.30  ...   \n",
       "std                                            0.01  ...   \n",
       "min                                            0.00  ...   \n",
       "25%                                            0.30  ...   \n",
       "50%                                            0.30  ...   \n",
       "75%                                            0.30  ...   \n",
       "max                                            1.00  ...   \n",
       "\n",
       "        Net Income to Total Assets   Total assets to GNP price  \\\n",
       "count                     13198.00                1.319800e+04   \n",
       "mean                          0.78                3.567514e+07   \n",
       "std                           0.06                4.972963e+08   \n",
       "min                           0.00                0.000000e+00   \n",
       "25%                           0.76                0.000000e+00   \n",
       "50%                           0.79                0.000000e+00   \n",
       "75%                           0.81                1.000000e-02   \n",
       "max                           1.00                9.820000e+09   \n",
       "\n",
       "        No-credit Interval   Gross Profit to Sales  \\\n",
       "count             13198.00                13198.00   \n",
       "mean                  0.62                    0.60   \n",
       "std                   0.01                    0.02   \n",
       "min                   0.00                    0.00   \n",
       "25%                   0.62                    0.60   \n",
       "50%                   0.62                    0.60   \n",
       "75%                   0.62                    0.61   \n",
       "max                   1.00                    1.00   \n",
       "\n",
       "        Net Income to Stockholder's Equity   Liability to Equity  \\\n",
       "count                             13198.00              13198.00   \n",
       "mean                                  0.83                  0.29   \n",
       "std                                   0.04                  0.03   \n",
       "min                                   0.00                  0.00   \n",
       "25%                                   0.84                  0.28   \n",
       "50%                                   0.84                  0.28   \n",
       "75%                                   0.84                  0.29   \n",
       "max                                   1.00                  1.00   \n",
       "\n",
       "        Degree of Financial Leverage (DFL)  \\\n",
       "count                             13198.00   \n",
       "mean                                  0.03   \n",
       "std                                   0.01   \n",
       "min                                   0.00   \n",
       "25%                                   0.03   \n",
       "50%                                   0.03   \n",
       "75%                                   0.03   \n",
       "max                                   1.00   \n",
       "\n",
       "        Interest Coverage Ratio (Interest expense to EBIT)   Net Income Flag  \\\n",
       "count                                           13198.00             13198.0   \n",
       "mean                                                0.57                 1.0   \n",
       "std                                                 0.01                 0.0   \n",
       "min                                                 0.00                 1.0   \n",
       "25%                                                 0.56                 1.0   \n",
       "50%                                                 0.57                 1.0   \n",
       "75%                                                 0.57                 1.0   \n",
       "max                                                 1.00                 1.0   \n",
       "\n",
       "        Equity to Liability  \n",
       "count              13198.00  \n",
       "mean                   0.03  \n",
       "std                    0.04  \n",
       "min                    0.00  \n",
       "25%                    0.02  \n",
       "50%                    0.02  \n",
       "75%                    0.04  \n",
       "max                    1.00  \n",
       "\n",
       "[8 rows x 96 columns]"
      ]
     },
     "execution_count": 11,
     "metadata": {},
     "output_type": "execute_result"
    }
   ],
   "source": [
    "df_oversampled.describe().round(2)"
   ]
  },
  {
   "cell_type": "markdown",
   "id": "8a1d14c5",
   "metadata": {
    "id": "8a1d14c5"
   },
   "source": [
    "### 3.3 Data standardization <a name=\"part33\"></a>\n",
    "We observed that the mean is not equal to 0 and the standard deviation is smaller than 1, as shown in the table above. Therefore, we need to standardize our dataset. Data standardization ensures consistency when comparing each attribute in models. By transforming the data to have a mean of 0 and a standard deviation of 1, we can improve the performance and reliability of our analysis."
   ]
  },
  {
   "cell_type": "code",
   "execution_count": null,
   "id": "a481e5ea",
   "metadata": {
    "id": "a481e5ea",
    "scrolled": true
   },
   "outputs": [],
   "source": [
    "# we can use the sklearn standardscale for this\n",
    "scale = StandardScaler()\n",
    "\n",
    "# all the numerical data are standardised\n",
    "df_scale = scale.fit_transform(df_oversampled)\n",
    "\n",
    "# transforms matrix back to a dataframe\n",
    "df_scaled = pd.DataFrame(df_scale, columns=df_oversampled.columns, index=df_oversampled.index)"
   ]
  },
  {
   "cell_type": "code",
   "execution_count": null,
   "id": "7ee7a711",
   "metadata": {
    "id": "7ee7a711",
    "outputId": "3555d15b-a3a9-4555-de0e-6e853eaf85c3"
   },
   "outputs": [
    {
     "data": {
      "text/plain": [
       "0"
      ]
     },
     "execution_count": 13,
     "metadata": {},
     "output_type": "execute_result"
    }
   ],
   "source": [
    "# Check for null values in the oversampled dataset\n",
    "df_scaled.isnull().sum().sum()"
   ]
  },
  {
   "cell_type": "code",
   "execution_count": null,
   "id": "f679bf50",
   "metadata": {
    "id": "f679bf50",
    "outputId": "b0a6d6d4-62d0-4f4c-aad3-f8bfa3c792c7"
   },
   "outputs": [
    {
     "data": {
      "text/html": [
       "<div>\n",
       "<style scoped>\n",
       "    .dataframe tbody tr th:only-of-type {\n",
       "        vertical-align: middle;\n",
       "    }\n",
       "\n",
       "    .dataframe tbody tr th {\n",
       "        vertical-align: top;\n",
       "    }\n",
       "\n",
       "    .dataframe thead th {\n",
       "        text-align: right;\n",
       "    }\n",
       "</style>\n",
       "<table border=\"1\" class=\"dataframe\">\n",
       "  <thead>\n",
       "    <tr style=\"text-align: right;\">\n",
       "      <th></th>\n",
       "      <th>Bankrupt?</th>\n",
       "      <th>ROA(C) before interest and depreciation before interest</th>\n",
       "      <th>ROA(A) before interest and % after tax</th>\n",
       "      <th>ROA(B) before interest and depreciation after tax</th>\n",
       "      <th>Operating Gross Margin</th>\n",
       "      <th>Realized Sales Gross Margin</th>\n",
       "      <th>Operating Profit Rate</th>\n",
       "      <th>Pre-tax net Interest Rate</th>\n",
       "      <th>After-tax net Interest Rate</th>\n",
       "      <th>Non-industry income and expenditure/revenue</th>\n",
       "      <th>...</th>\n",
       "      <th>Net Income to Total Assets</th>\n",
       "      <th>Total assets to GNP price</th>\n",
       "      <th>No-credit Interval</th>\n",
       "      <th>Gross Profit to Sales</th>\n",
       "      <th>Net Income to Stockholder's Equity</th>\n",
       "      <th>Liability to Equity</th>\n",
       "      <th>Degree of Financial Leverage (DFL)</th>\n",
       "      <th>Interest Coverage Ratio (Interest expense to EBIT)</th>\n",
       "      <th>Net Income Flag</th>\n",
       "      <th>Equity to Liability</th>\n",
       "    </tr>\n",
       "  </thead>\n",
       "  <tbody>\n",
       "    <tr>\n",
       "      <th>count</th>\n",
       "      <td>13198.0</td>\n",
       "      <td>13198.00</td>\n",
       "      <td>13198.00</td>\n",
       "      <td>13198.00</td>\n",
       "      <td>13198.00</td>\n",
       "      <td>13198.00</td>\n",
       "      <td>13198.00</td>\n",
       "      <td>13198.00</td>\n",
       "      <td>13198.00</td>\n",
       "      <td>13198.00</td>\n",
       "      <td>...</td>\n",
       "      <td>13198.00</td>\n",
       "      <td>13198.00</td>\n",
       "      <td>13198.00</td>\n",
       "      <td>13198.00</td>\n",
       "      <td>13198.00</td>\n",
       "      <td>13198.00</td>\n",
       "      <td>13198.00</td>\n",
       "      <td>13198.00</td>\n",
       "      <td>13198.0</td>\n",
       "      <td>13198.00</td>\n",
       "    </tr>\n",
       "    <tr>\n",
       "      <th>mean</th>\n",
       "      <td>0.0</td>\n",
       "      <td>0.00</td>\n",
       "      <td>-0.00</td>\n",
       "      <td>0.00</td>\n",
       "      <td>0.00</td>\n",
       "      <td>-0.00</td>\n",
       "      <td>0.00</td>\n",
       "      <td>0.00</td>\n",
       "      <td>0.00</td>\n",
       "      <td>-0.00</td>\n",
       "      <td>...</td>\n",
       "      <td>0.00</td>\n",
       "      <td>0.00</td>\n",
       "      <td>0.00</td>\n",
       "      <td>0.00</td>\n",
       "      <td>0.00</td>\n",
       "      <td>-0.00</td>\n",
       "      <td>-0.00</td>\n",
       "      <td>-0.00</td>\n",
       "      <td>0.0</td>\n",
       "      <td>-0.00</td>\n",
       "    </tr>\n",
       "    <tr>\n",
       "      <th>std</th>\n",
       "      <td>1.0</td>\n",
       "      <td>1.00</td>\n",
       "      <td>1.00</td>\n",
       "      <td>1.00</td>\n",
       "      <td>1.00</td>\n",
       "      <td>1.00</td>\n",
       "      <td>1.00</td>\n",
       "      <td>1.00</td>\n",
       "      <td>1.00</td>\n",
       "      <td>1.00</td>\n",
       "      <td>...</td>\n",
       "      <td>1.00</td>\n",
       "      <td>1.00</td>\n",
       "      <td>1.00</td>\n",
       "      <td>1.00</td>\n",
       "      <td>1.00</td>\n",
       "      <td>1.00</td>\n",
       "      <td>1.00</td>\n",
       "      <td>1.00</td>\n",
       "      <td>0.0</td>\n",
       "      <td>1.00</td>\n",
       "    </tr>\n",
       "    <tr>\n",
       "      <th>min</th>\n",
       "      <td>-1.0</td>\n",
       "      <td>-6.22</td>\n",
       "      <td>-5.84</td>\n",
       "      <td>-6.32</td>\n",
       "      <td>-38.90</td>\n",
       "      <td>-38.95</td>\n",
       "      <td>-106.65</td>\n",
       "      <td>-85.89</td>\n",
       "      <td>-82.55</td>\n",
       "      <td>-37.72</td>\n",
       "      <td>...</td>\n",
       "      <td>-12.36</td>\n",
       "      <td>-0.07</td>\n",
       "      <td>-62.33</td>\n",
       "      <td>-38.90</td>\n",
       "      <td>-23.47</td>\n",
       "      <td>-10.29</td>\n",
       "      <td>-2.22</td>\n",
       "      <td>-55.12</td>\n",
       "      <td>0.0</td>\n",
       "      <td>-0.84</td>\n",
       "    </tr>\n",
       "    <tr>\n",
       "      <th>25%</th>\n",
       "      <td>-1.0</td>\n",
       "      <td>-0.45</td>\n",
       "      <td>-0.42</td>\n",
       "      <td>-0.42</td>\n",
       "      <td>-0.39</td>\n",
       "      <td>-0.39</td>\n",
       "      <td>0.01</td>\n",
       "      <td>0.01</td>\n",
       "      <td>0.01</td>\n",
       "      <td>-0.02</td>\n",
       "      <td>...</td>\n",
       "      <td>-0.31</td>\n",
       "      <td>-0.07</td>\n",
       "      <td>-0.07</td>\n",
       "      <td>-0.39</td>\n",
       "      <td>0.04</td>\n",
       "      <td>-0.26</td>\n",
       "      <td>-0.08</td>\n",
       "      <td>-0.08</td>\n",
       "      <td>0.0</td>\n",
       "      <td>-0.39</td>\n",
       "    </tr>\n",
       "    <tr>\n",
       "      <th>50%</th>\n",
       "      <td>0.0</td>\n",
       "      <td>0.07</td>\n",
       "      <td>0.17</td>\n",
       "      <td>0.11</td>\n",
       "      <td>-0.08</td>\n",
       "      <td>-0.08</td>\n",
       "      <td>0.02</td>\n",
       "      <td>0.03</td>\n",
       "      <td>0.03</td>\n",
       "      <td>0.01</td>\n",
       "      <td>...</td>\n",
       "      <td>0.22</td>\n",
       "      <td>-0.07</td>\n",
       "      <td>-0.01</td>\n",
       "      <td>-0.08</td>\n",
       "      <td>0.15</td>\n",
       "      <td>-0.12</td>\n",
       "      <td>-0.07</td>\n",
       "      <td>-0.01</td>\n",
       "      <td>0.0</td>\n",
       "      <td>-0.28</td>\n",
       "    </tr>\n",
       "    <tr>\n",
       "      <th>75%</th>\n",
       "      <td>1.0</td>\n",
       "      <td>0.54</td>\n",
       "      <td>0.57</td>\n",
       "      <td>0.56</td>\n",
       "      <td>0.37</td>\n",
       "      <td>0.37</td>\n",
       "      <td>0.03</td>\n",
       "      <td>0.05</td>\n",
       "      <td>0.05</td>\n",
       "      <td>0.02</td>\n",
       "      <td>...</td>\n",
       "      <td>0.58</td>\n",
       "      <td>-0.07</td>\n",
       "      <td>0.02</td>\n",
       "      <td>0.37</td>\n",
       "      <td>0.21</td>\n",
       "      <td>0.04</td>\n",
       "      <td>-0.06</td>\n",
       "      <td>0.05</td>\n",
       "      <td>0.0</td>\n",
       "      <td>0.02</td>\n",
       "    </tr>\n",
       "    <tr>\n",
       "      <th>max</th>\n",
       "      <td>1.0</td>\n",
       "      <td>7.18</td>\n",
       "      <td>5.56</td>\n",
       "      <td>6.09</td>\n",
       "      <td>25.62</td>\n",
       "      <td>25.65</td>\n",
       "      <td>0.14</td>\n",
       "      <td>21.88</td>\n",
       "      <td>19.50</td>\n",
       "      <td>86.63</td>\n",
       "      <td>...</td>\n",
       "      <td>3.58</td>\n",
       "      <td>19.68</td>\n",
       "      <td>37.59</td>\n",
       "      <td>25.62</td>\n",
       "      <td>4.67</td>\n",
       "      <td>25.74</td>\n",
       "      <td>77.84</td>\n",
       "      <td>42.39</td>\n",
       "      <td>0.0</td>\n",
       "      <td>23.05</td>\n",
       "    </tr>\n",
       "  </tbody>\n",
       "</table>\n",
       "<p>8 rows × 96 columns</p>\n",
       "</div>"
      ],
      "text/plain": [
       "       Bankrupt?   ROA(C) before interest and depreciation before interest  \\\n",
       "count    13198.0                                           13198.00          \n",
       "mean         0.0                                               0.00          \n",
       "std          1.0                                               1.00          \n",
       "min         -1.0                                              -6.22          \n",
       "25%         -1.0                                              -0.45          \n",
       "50%          0.0                                               0.07          \n",
       "75%          1.0                                               0.54          \n",
       "max          1.0                                               7.18          \n",
       "\n",
       "        ROA(A) before interest and % after tax  \\\n",
       "count                                 13198.00   \n",
       "mean                                     -0.00   \n",
       "std                                       1.00   \n",
       "min                                      -5.84   \n",
       "25%                                      -0.42   \n",
       "50%                                       0.17   \n",
       "75%                                       0.57   \n",
       "max                                       5.56   \n",
       "\n",
       "        ROA(B) before interest and depreciation after tax  \\\n",
       "count                                           13198.00    \n",
       "mean                                                0.00    \n",
       "std                                                 1.00    \n",
       "min                                                -6.32    \n",
       "25%                                                -0.42    \n",
       "50%                                                 0.11    \n",
       "75%                                                 0.56    \n",
       "max                                                 6.09    \n",
       "\n",
       "        Operating Gross Margin   Realized Sales Gross Margin  \\\n",
       "count                 13198.00                      13198.00   \n",
       "mean                      0.00                         -0.00   \n",
       "std                       1.00                          1.00   \n",
       "min                     -38.90                        -38.95   \n",
       "25%                      -0.39                         -0.39   \n",
       "50%                      -0.08                         -0.08   \n",
       "75%                       0.37                          0.37   \n",
       "max                      25.62                         25.65   \n",
       "\n",
       "        Operating Profit Rate   Pre-tax net Interest Rate  \\\n",
       "count                13198.00                    13198.00   \n",
       "mean                     0.00                        0.00   \n",
       "std                      1.00                        1.00   \n",
       "min                   -106.65                      -85.89   \n",
       "25%                      0.01                        0.01   \n",
       "50%                      0.02                        0.03   \n",
       "75%                      0.03                        0.05   \n",
       "max                      0.14                       21.88   \n",
       "\n",
       "        After-tax net Interest Rate  \\\n",
       "count                      13198.00   \n",
       "mean                           0.00   \n",
       "std                            1.00   \n",
       "min                          -82.55   \n",
       "25%                            0.01   \n",
       "50%                            0.03   \n",
       "75%                            0.05   \n",
       "max                           19.50   \n",
       "\n",
       "        Non-industry income and expenditure/revenue  ...  \\\n",
       "count                                      13198.00  ...   \n",
       "mean                                          -0.00  ...   \n",
       "std                                            1.00  ...   \n",
       "min                                          -37.72  ...   \n",
       "25%                                           -0.02  ...   \n",
       "50%                                            0.01  ...   \n",
       "75%                                            0.02  ...   \n",
       "max                                           86.63  ...   \n",
       "\n",
       "        Net Income to Total Assets   Total assets to GNP price  \\\n",
       "count                     13198.00                    13198.00   \n",
       "mean                          0.00                        0.00   \n",
       "std                           1.00                        1.00   \n",
       "min                         -12.36                       -0.07   \n",
       "25%                          -0.31                       -0.07   \n",
       "50%                           0.22                       -0.07   \n",
       "75%                           0.58                       -0.07   \n",
       "max                           3.58                       19.68   \n",
       "\n",
       "        No-credit Interval   Gross Profit to Sales  \\\n",
       "count             13198.00                13198.00   \n",
       "mean                  0.00                    0.00   \n",
       "std                   1.00                    1.00   \n",
       "min                 -62.33                  -38.90   \n",
       "25%                  -0.07                   -0.39   \n",
       "50%                  -0.01                   -0.08   \n",
       "75%                   0.02                    0.37   \n",
       "max                  37.59                   25.62   \n",
       "\n",
       "        Net Income to Stockholder's Equity   Liability to Equity  \\\n",
       "count                             13198.00              13198.00   \n",
       "mean                                  0.00                 -0.00   \n",
       "std                                   1.00                  1.00   \n",
       "min                                 -23.47                -10.29   \n",
       "25%                                   0.04                 -0.26   \n",
       "50%                                   0.15                 -0.12   \n",
       "75%                                   0.21                  0.04   \n",
       "max                                   4.67                 25.74   \n",
       "\n",
       "        Degree of Financial Leverage (DFL)  \\\n",
       "count                             13198.00   \n",
       "mean                                 -0.00   \n",
       "std                                   1.00   \n",
       "min                                  -2.22   \n",
       "25%                                  -0.08   \n",
       "50%                                  -0.07   \n",
       "75%                                  -0.06   \n",
       "max                                  77.84   \n",
       "\n",
       "        Interest Coverage Ratio (Interest expense to EBIT)   Net Income Flag  \\\n",
       "count                                           13198.00             13198.0   \n",
       "mean                                               -0.00                 0.0   \n",
       "std                                                 1.00                 0.0   \n",
       "min                                               -55.12                 0.0   \n",
       "25%                                                -0.08                 0.0   \n",
       "50%                                                -0.01                 0.0   \n",
       "75%                                                 0.05                 0.0   \n",
       "max                                                42.39                 0.0   \n",
       "\n",
       "        Equity to Liability  \n",
       "count              13198.00  \n",
       "mean                  -0.00  \n",
       "std                    1.00  \n",
       "min                   -0.84  \n",
       "25%                   -0.39  \n",
       "50%                   -0.28  \n",
       "75%                    0.02  \n",
       "max                   23.05  \n",
       "\n",
       "[8 rows x 96 columns]"
      ]
     },
     "execution_count": 14,
     "metadata": {},
     "output_type": "execute_result"
    }
   ],
   "source": [
    "df_scaled.describe().round(2)"
   ]
  },
  {
   "cell_type": "markdown",
   "id": "9e7086a7",
   "metadata": {
    "id": "9e7086a7"
   },
   "source": [
    "## 4. Features Selection and Exploratory Data Analysis (EDA) <a name=\"part4\"></a>"
   ]
  },
  {
   "cell_type": "markdown",
   "id": "19566320",
   "metadata": {
    "id": "19566320"
   },
   "source": [
    "Since the dataset has a total of 95 financial features, using all of them would make the analysis workload very high. Therefore, I will select the best features using `SelectKBest` and then conduct Exploratory Data Analysis based on those selected features"
   ]
  },
  {
   "cell_type": "markdown",
   "id": "9a04246a",
   "metadata": {
    "id": "9a04246a"
   },
   "source": [
    "### 4.1 Features Selection <a name=\"part41\"></a>\n",
    "\n",
    "We select the most relevant features (variables) from dataset that contribute the most to the prediction using `SelectKbest`.\n",
    "* `SelectKBest` is a feature selection method from the `sklearn.feature_selection` module. It selects the top `k` features based on a statistical test.\n",
    "* `f_classif` is a scoring function for classification tasks that computes the ANOVA F-value between the label and each feature.\n",
    "* `k=18` specifies the number of top features to select.\n",
    "* `.fit(X, y)` fits the `SelectKBest` method to the data, `X` and `y`. This means it calculates the statistical tests and ranks the features accordingly.\n",
    "* `feature_selection.get_support()` returns a boolean array indicating which features were selected (True for selected features, False for not selected).\n"
   ]
  },
  {
   "cell_type": "code",
   "execution_count": null,
   "id": "a752991c",
   "metadata": {
    "id": "a752991c",
    "outputId": "c6842e2c-5732-46bf-a2b6-9cda8b5e9b14"
   },
   "outputs": [
    {
     "data": {
      "text/plain": [
       "Index([' ROA(C) before interest and depreciation before interest',\n",
       "       ' ROA(A) before interest and % after tax',\n",
       "       ' ROA(B) before interest and depreciation after tax',\n",
       "       ' Net Value Per Share (B)', ' Net Value Per Share (A)',\n",
       "       ' Net Value Per Share (C)', ' Persistent EPS in the Last Four Seasons',\n",
       "       ' Operating Profit Per Share (Yuan ¥)',\n",
       "       ' Per Share Net profit before tax (Yuan ¥)', ' Debt ratio %',\n",
       "       ' Net worth/Assets', ' Operating profit/Paid-in capital',\n",
       "       ' Net profit before tax/Paid-in capital',\n",
       "       ' Working Capital to Total Assets', ' Current Liability to Assets',\n",
       "       ' Retained Earnings to Total Assets',\n",
       "       ' Current Liability to Current Assets', ' Net Income to Total Assets'],\n",
       "      dtype='object')"
      ]
     },
     "execution_count": 15,
     "metadata": {},
     "output_type": "execute_result"
    }
   ],
   "source": [
    "y = df_scaled['Bankrupt?']\n",
    "X = df_scaled.drop(columns=['Bankrupt?'])\n",
    "\n",
    "# k number of specified features\n",
    "feature_selection = SelectKBest(f_classif, k=18).fit(X, y)\n",
    "selected_features = X.columns[feature_selection.get_support()]\n",
    "selected_features"
   ]
  },
  {
   "cell_type": "code",
   "execution_count": null,
   "id": "a690379c",
   "metadata": {
    "id": "a690379c",
    "outputId": "26fe00f8-59b4-4911-f234-cf42af4bcef5"
   },
   "outputs": [
    {
     "data": {
      "text/html": [
       "<div>\n",
       "<style scoped>\n",
       "    .dataframe tbody tr th:only-of-type {\n",
       "        vertical-align: middle;\n",
       "    }\n",
       "\n",
       "    .dataframe tbody tr th {\n",
       "        vertical-align: top;\n",
       "    }\n",
       "\n",
       "    .dataframe thead th {\n",
       "        text-align: right;\n",
       "    }\n",
       "</style>\n",
       "<table border=\"1\" class=\"dataframe\">\n",
       "  <thead>\n",
       "    <tr style=\"text-align: right;\">\n",
       "      <th></th>\n",
       "      <th>Bankrupt?</th>\n",
       "      <th>ROA(C) before interest and depreciation before interest</th>\n",
       "      <th>ROA(A) before interest and % after tax</th>\n",
       "      <th>ROA(B) before interest and depreciation after tax</th>\n",
       "      <th>Net Value Per Share (B)</th>\n",
       "      <th>Net Value Per Share (A)</th>\n",
       "      <th>Net Value Per Share (C)</th>\n",
       "      <th>Persistent EPS in the Last Four Seasons</th>\n",
       "      <th>Operating Profit Per Share (Yuan ¥)</th>\n",
       "      <th>Per Share Net profit before tax (Yuan ¥)</th>\n",
       "      <th>Debt ratio %</th>\n",
       "      <th>Net worth/Assets</th>\n",
       "      <th>Operating profit/Paid-in capital</th>\n",
       "      <th>Net profit before tax/Paid-in capital</th>\n",
       "      <th>Working Capital to Total Assets</th>\n",
       "      <th>Current Liability to Assets</th>\n",
       "      <th>Retained Earnings to Total Assets</th>\n",
       "      <th>Current Liability to Current Assets</th>\n",
       "      <th>Net Income to Total Assets</th>\n",
       "    </tr>\n",
       "  </thead>\n",
       "  <tbody>\n",
       "    <tr>\n",
       "      <th>0</th>\n",
       "      <td>1.0</td>\n",
       "      <td>-1.252135</td>\n",
       "      <td>-0.997550</td>\n",
       "      <td>-1.288157</td>\n",
       "      <td>-0.907246</td>\n",
       "      <td>-0.905552</td>\n",
       "      <td>-0.909360</td>\n",
       "      <td>-1.134948</td>\n",
       "      <td>-0.091286</td>\n",
       "      <td>-0.858234</td>\n",
       "      <td>0.939225</td>\n",
       "      <td>-0.939225</td>\n",
       "      <td>-0.095690</td>\n",
       "      <td>-0.902273</td>\n",
       "      <td>-1.757907</td>\n",
       "      <td>0.566556</td>\n",
       "      <td>-0.516646</td>\n",
       "      <td>2.323552</td>\n",
       "      <td>-0.933832</td>\n",
       "    </tr>\n",
       "    <tr>\n",
       "      <th>1</th>\n",
       "      <td>1.0</td>\n",
       "      <td>0.002924</td>\n",
       "      <td>0.299986</td>\n",
       "      <td>0.088856</td>\n",
       "      <td>0.213942</td>\n",
       "      <td>0.214147</td>\n",
       "      <td>0.208983</td>\n",
       "      <td>-0.010704</td>\n",
       "      <td>-0.179587</td>\n",
       "      <td>0.081642</td>\n",
       "      <td>0.352403</td>\n",
       "      <td>-0.352403</td>\n",
       "      <td>-0.182720</td>\n",
       "      <td>0.089887</td>\n",
       "      <td>-0.510781</td>\n",
       "      <td>-1.105052</td>\n",
       "      <td>0.351477</td>\n",
       "      <td>0.097220</td>\n",
       "      <td>0.317193</td>\n",
       "    </tr>\n",
       "    <tr>\n",
       "      <th>2</th>\n",
       "      <td>1.0</td>\n",
       "      <td>-0.509025</td>\n",
       "      <td>-0.146819</td>\n",
       "      <td>-0.462481</td>\n",
       "      <td>0.072072</td>\n",
       "      <td>0.072465</td>\n",
       "      <td>0.582680</td>\n",
       "      <td>-0.811828</td>\n",
       "      <td>-0.235184</td>\n",
       "      <td>-0.735641</td>\n",
       "      <td>0.938251</td>\n",
       "      <td>-0.938251</td>\n",
       "      <td>-0.240630</td>\n",
       "      <td>-0.575469</td>\n",
       "      <td>0.737227</td>\n",
       "      <td>-0.342768</td>\n",
       "      <td>-0.308394</td>\n",
       "      <td>-0.611312</td>\n",
       "      <td>-0.011741</td>\n",
       "    </tr>\n",
       "    <tr>\n",
       "      <th>3</th>\n",
       "      <td>1.0</td>\n",
       "      <td>-0.860337</td>\n",
       "      <td>-0.691187</td>\n",
       "      <td>-0.643159</td>\n",
       "      <td>-0.703394</td>\n",
       "      <td>-0.701970</td>\n",
       "      <td>-0.706025</td>\n",
       "      <td>-0.440641</td>\n",
       "      <td>-0.820587</td>\n",
       "      <td>-0.560833</td>\n",
       "      <td>0.034622</td>\n",
       "      <td>-0.034622</td>\n",
       "      <td>-0.833627</td>\n",
       "      <td>-0.590575</td>\n",
       "      <td>-0.914468</td>\n",
       "      <td>-0.332545</td>\n",
       "      <td>-0.401977</td>\n",
       "      <td>0.712420</td>\n",
       "      <td>-0.571702</td>\n",
       "    </tr>\n",
       "    <tr>\n",
       "      <th>4</th>\n",
       "      <td>1.0</td>\n",
       "      <td>0.012719</td>\n",
       "      <td>0.302472</td>\n",
       "      <td>0.157939</td>\n",
       "      <td>-0.268141</td>\n",
       "      <td>-0.267296</td>\n",
       "      <td>-0.271877</td>\n",
       "      <td>0.090771</td>\n",
       "      <td>-0.052041</td>\n",
       "      <td>0.036237</td>\n",
       "      <td>-0.690133</td>\n",
       "      <td>0.690133</td>\n",
       "      <td>-0.053333</td>\n",
       "      <td>0.042173</td>\n",
       "      <td>-0.499453</td>\n",
       "      <td>-0.120134</td>\n",
       "      <td>-0.185323</td>\n",
       "      <td>0.095643</td>\n",
       "      <td>0.312708</td>\n",
       "    </tr>\n",
       "  </tbody>\n",
       "</table>\n",
       "</div>"
      ],
      "text/plain": [
       "   Bankrupt?   ROA(C) before interest and depreciation before interest  \\\n",
       "0        1.0                                          -1.252135          \n",
       "1        1.0                                           0.002924          \n",
       "2        1.0                                          -0.509025          \n",
       "3        1.0                                          -0.860337          \n",
       "4        1.0                                           0.012719          \n",
       "\n",
       "    ROA(A) before interest and % after tax  \\\n",
       "0                                -0.997550   \n",
       "1                                 0.299986   \n",
       "2                                -0.146819   \n",
       "3                                -0.691187   \n",
       "4                                 0.302472   \n",
       "\n",
       "    ROA(B) before interest and depreciation after tax  \\\n",
       "0                                          -1.288157    \n",
       "1                                           0.088856    \n",
       "2                                          -0.462481    \n",
       "3                                          -0.643159    \n",
       "4                                           0.157939    \n",
       "\n",
       "    Net Value Per Share (B)   Net Value Per Share (A)  \\\n",
       "0                 -0.907246                 -0.905552   \n",
       "1                  0.213942                  0.214147   \n",
       "2                  0.072072                  0.072465   \n",
       "3                 -0.703394                 -0.701970   \n",
       "4                 -0.268141                 -0.267296   \n",
       "\n",
       "    Net Value Per Share (C)   Persistent EPS in the Last Four Seasons  \\\n",
       "0                 -0.909360                                 -1.134948   \n",
       "1                  0.208983                                 -0.010704   \n",
       "2                  0.582680                                 -0.811828   \n",
       "3                 -0.706025                                 -0.440641   \n",
       "4                 -0.271877                                  0.090771   \n",
       "\n",
       "    Operating Profit Per Share (Yuan ¥)  \\\n",
       "0                             -0.091286   \n",
       "1                             -0.179587   \n",
       "2                             -0.235184   \n",
       "3                             -0.820587   \n",
       "4                             -0.052041   \n",
       "\n",
       "    Per Share Net profit before tax (Yuan ¥)   Debt ratio %  \\\n",
       "0                                  -0.858234       0.939225   \n",
       "1                                   0.081642       0.352403   \n",
       "2                                  -0.735641       0.938251   \n",
       "3                                  -0.560833       0.034622   \n",
       "4                                   0.036237      -0.690133   \n",
       "\n",
       "    Net worth/Assets   Operating profit/Paid-in capital  \\\n",
       "0          -0.939225                          -0.095690   \n",
       "1          -0.352403                          -0.182720   \n",
       "2          -0.938251                          -0.240630   \n",
       "3          -0.034622                          -0.833627   \n",
       "4           0.690133                          -0.053333   \n",
       "\n",
       "    Net profit before tax/Paid-in capital   Working Capital to Total Assets  \\\n",
       "0                               -0.902273                         -1.757907   \n",
       "1                                0.089887                         -0.510781   \n",
       "2                               -0.575469                          0.737227   \n",
       "3                               -0.590575                         -0.914468   \n",
       "4                                0.042173                         -0.499453   \n",
       "\n",
       "    Current Liability to Assets   Retained Earnings to Total Assets  \\\n",
       "0                      0.566556                           -0.516646   \n",
       "1                     -1.105052                            0.351477   \n",
       "2                     -0.342768                           -0.308394   \n",
       "3                     -0.332545                           -0.401977   \n",
       "4                     -0.120134                           -0.185323   \n",
       "\n",
       "    Current Liability to Current Assets   Net Income to Total Assets  \n",
       "0                              2.323552                    -0.933832  \n",
       "1                              0.097220                     0.317193  \n",
       "2                             -0.611312                    -0.011741  \n",
       "3                              0.712420                    -0.571702  \n",
       "4                              0.095643                     0.312708  "
      ]
     },
     "execution_count": 16,
     "metadata": {},
     "output_type": "execute_result"
    }
   ],
   "source": [
    "# Create a new dataset with 18 selected features above and column 'Bankrupt?''\n",
    "df = df_scaled.drop(\n",
    "    columns=[column for column in df_scaled.columns\n",
    "             if column not in selected_features\n",
    "             and column != 'Bankrupt?'])\n",
    "df.head()"
   ]
  },
  {
   "cell_type": "code",
   "execution_count": null,
   "id": "94bd0bec",
   "metadata": {
    "id": "94bd0bec",
    "outputId": "9139c5f2-0c60-4578-f66f-52ecfef96692",
    "scrolled": true
   },
   "outputs": [
    {
     "name": "stdout",
     "output_type": "stream",
     "text": [
      "<class 'pandas.core.frame.DataFrame'>\n",
      "RangeIndex: 13198 entries, 0 to 13197\n",
      "Data columns (total 19 columns):\n",
      " #   Column                                                    Non-Null Count  Dtype  \n",
      "---  ------                                                    --------------  -----  \n",
      " 0   Bankrupt?                                                 13198 non-null  float64\n",
      " 1    ROA(C) before interest and depreciation before interest  13198 non-null  float64\n",
      " 2    ROA(A) before interest and % after tax                   13198 non-null  float64\n",
      " 3    ROA(B) before interest and depreciation after tax        13198 non-null  float64\n",
      " 4    Net Value Per Share (B)                                  13198 non-null  float64\n",
      " 5    Net Value Per Share (A)                                  13198 non-null  float64\n",
      " 6    Net Value Per Share (C)                                  13198 non-null  float64\n",
      " 7    Persistent EPS in the Last Four Seasons                  13198 non-null  float64\n",
      " 8    Operating Profit Per Share (Yuan ¥)                      13198 non-null  float64\n",
      " 9    Per Share Net profit before tax (Yuan ¥)                 13198 non-null  float64\n",
      " 10   Debt ratio %                                             13198 non-null  float64\n",
      " 11   Net worth/Assets                                         13198 non-null  float64\n",
      " 12   Operating profit/Paid-in capital                         13198 non-null  float64\n",
      " 13   Net profit before tax/Paid-in capital                    13198 non-null  float64\n",
      " 14   Working Capital to Total Assets                          13198 non-null  float64\n",
      " 15   Current Liability to Assets                              13198 non-null  float64\n",
      " 16   Retained Earnings to Total Assets                        13198 non-null  float64\n",
      " 17   Current Liability to Current Assets                      13198 non-null  float64\n",
      " 18   Net Income to Total Assets                               13198 non-null  float64\n",
      "dtypes: float64(19)\n",
      "memory usage: 1.9 MB\n"
     ]
    }
   ],
   "source": [
    "df.info()"
   ]
  },
  {
   "cell_type": "markdown",
   "id": "7868a178",
   "metadata": {
    "id": "7868a178"
   },
   "source": [
    "### 4.2 Exploratory Data Analysis (EDA) <a name=\"part42\"></a>"
   ]
  },
  {
   "cell_type": "markdown",
   "id": "7e6459b9",
   "metadata": {
    "id": "7e6459b9"
   },
   "source": [
    "#### 4.2.1 Distribution of quantitative data <a name=\"part421\"></a>\n",
    "A box plot visualizes the distribution of numerical data, making it easy to compare different variables or categories. The box represents the middle 50% of the data (the quartiles), and the lines (whiskers) extend to show the range of the rest of the data, excluding outliers. Outliers are identified using a method based on the interquartile range (IQR)."
   ]
  },
  {
   "cell_type": "code",
   "execution_count": null,
   "id": "dd75c1d9",
   "metadata": {
    "id": "dd75c1d9",
    "outputId": "87d70002-1ad4-49ec-c641-2c9d1606781d"
   },
   "outputs": [
    {
     "data": {
      "image/png": "[encoded data removed]",
      "text/plain": [
       "<Figure size 1296x1728 with 18 Axes>"
      ]
     },
     "metadata": {
      "needs_background": "light"
     },
     "output_type": "display_data"
    }
   ],
   "source": [
    "# Create a figure with 6 rows and 3 columns\n",
    "fig, axes = plt.subplots(6, 3, figsize=(18, 24))\n",
    "\n",
    "# Iterate through the numerical features and create boxplots\n",
    "for i, feature in enumerate(selected_features):\n",
    "    ax = axes[i // 3, i % 3]\n",
    "    sns.boxplot(x='Bankrupt?', y=feature, data=dataset, ax=ax)\n",
    "    ax.set_title(feature)\n",
    "\n",
    "# Adjust the spacing between plots\n",
    "plt.subplots_adjust(hspace=0.4, wspace=0.4)\n",
    "\n",
    "# Save the figure\n",
    "#plt.savefig('boxplots.png')\n",
    "\n",
    "# Show the plot\n",
    "plt.show()"
   ]
  },
  {
   "cell_type": "markdown",
   "id": "28e1fdc7",
   "metadata": {
    "id": "28e1fdc7"
   },
   "source": [
    "**ROA(A), ROA(B), and ROA(C)** may be helpful to disguinish the bankruptcy company. Because the not bankrupt companies have higher median, right skewed and smaller spread of IQR than the bankrupt companies. That indicate that they have higher and stable return on their assets than the bankrupt companies. So, a company can use the return on asset to pay its annual debts.\n",
    "\n",
    "\n",
    "The distributions of **Net Value Per Share (A, B, C)** are quite similar. For both bankrupt and non-bankrupt companies, the median values are close, but non-bankrupt companies have slightly higher median values. The range of values is larger for non-bankrupt companies.\n",
    "\n",
    "**Profitability Metrics (Operating Profit Per Share, Net Profit Before Tax, Operating Profit/Paid-in Capital, Net Profit Before Tax/Paid-in Capital, Net Income to Total Assets)**: Non-bankrupt companies show better profitability, indicated by higher median values and wider distributions. They generate higher profits and utilize their capital more efficiently, resulting in better overall financial performance.\n",
    "\n",
    "**Debt and Liability Metrics (Debt Ratio %, Current Liability to Assets, Current Liability to Current Assets)**: Bankrupt companies have higher debt ratios and liabilities, suggesting greater financial stress. Higher reliance on debt and significant short-term obligations point to liquidity issues and financial instability.\n",
    "\n",
    "**Asset Efficiency Metrics (Net Worth/Assets, Working Capital to Total Assets, Retained Earnings to Total Assets)**: Non-bankrupt companies demonstrate superior asset efficiency with higher ratios. They maintain stronger equity positions, better liquidity, and reinvest more earnings, contributing to their financial stability and growth potential.”\n",
    "\n",
    "\n"
   ]
  },
  {
   "cell_type": "markdown",
   "id": "de6c8a7b",
   "metadata": {
    "id": "de6c8a7b"
   },
   "source": [
    "#### 4.2.2 Correlation of selected features <a name=\"part422\"></a>\n",
    "The function `dataframe.corr()` is used to find the pairwise correlation of all columns in the `selected_feature` dataframe. Method of correlation is `pearson` standard correlation coefficient. Then we use `seaborn.heatmap` to plot the correlations."
   ]
  },
  {
   "cell_type": "code",
   "execution_count": null,
   "id": "c9c899ef",
   "metadata": {
    "id": "c9c899ef",
    "outputId": "50364ebd-b479-4a68-8aa3-9037493e2806"
   },
   "outputs": [
    {
     "data": {
      "image/png": "[encoded data removed]",
      "text/plain": [
       "<Figure size 720x576 with 2 Axes>"
      ]
     },
     "metadata": {
      "needs_background": "light"
     },
     "output_type": "display_data"
    }
   ],
   "source": [
    "# Calculate the correlation matrix between features\n",
    "correlation_matrix_features = dataset[selected_features].corr()\n",
    "\n",
    "# Create a heatmap of the correlation matrix\n",
    "fig, ax = plt.subplots(figsize=(10, 8))\n",
    "sns.heatmap(correlation_matrix_features, annot=True, fmt=\".2f\", ax=ax, cmap=\"coolwarm\")\n",
    "plt.title(\"Correlation Heatmap of Numerical Features\")\n",
    "#plt.savefig('correlation_features_heatmap.png')\n",
    "plt.show()"
   ]
  },
  {
   "cell_type": "markdown",
   "id": "ce917ed7",
   "metadata": {
    "id": "ce917ed7"
   },
   "source": [
    "The correlation heatmap of numerical features provides several key insights about the relationships between different financial metrics. Here are some notable observations:\n",
    "\n",
    "* **ROA Metrics**: ROA(C), ROA(A), and ROA(B) are highly correlated with each other (close to 1.00). This indicates that these three return on assets metrics move together and reflect similar underlying financial performance.\n",
    "\n",
    "* **Net Value Per Share (A, B, C)**: These three metrics are perfectly correlated (1.00), showing that different calculations of net value per share provide consistent information.\n",
    "\n",
    "* **Net Profit Metrics**: Operating Profit Per Share, Per Share Net Profit before Tax, Operating Profit/Paid-in Capital, and Net Profit before Tax/Paid-in Capital show high correlations (0.66 to 0.96). This suggests that profitability metrics are strongly linked and provide a consistent view of company performance.\n",
    "\n",
    "* **Retained Earnings to Total Assets** is moderately correlated with profitability and efficiency metrics, such as ROA and net profit metrics (0.47 to 0.67).\n",
    "\n",
    "* **Debt Ratio %** has moderate negative correlations with profitability metrics and net worth/assets ratios (-0.25 to -0.26). This indicates that higher debt levels are associated with lower profitability and net worth.\n",
    "\n",
    "* **Current Liability to Assets** shows weak negative correlations with several metrics (-0.20 to -0.22), suggesting that higher current liabilities relative to assets might indicate weaker financial positions but not as strongly as debt ratio.\n",
    "\n",
    "* **Working Capital to Total Assets**: This metric shows moderate positive correlations with profitability and efficiency metrics (0.26 to 0.30), indicating that higher working capital relative to total assets is associated with better financial health.\n",
    "\n",
    "* **Net Income to Total Assets**: This metric has very high correlations with ROA metrics (0.89 to 0.96), reinforcing the importance of net income in evaluating return on assets.\n",
    "\n",
    "#### Summary:\n",
    "* **Profitability Metrics** (ROA, net profit measures) are strongly interrelated, reflecting consistent indicators of financial performance.\n",
    "\n",
    "* **Debt Levels** (debt ratio, current liabilities) are negatively correlated with profitability, suggesting that higher debt is linked to poorer financial health.\n",
    "\n",
    "* **Asset Efficiency** (net worth/assets, working capital/total assets) positively correlates with profitability metrics, indicating that efficient asset management contributes to better financial outcomes.\n",
    "\n",
    "\n"
   ]
  },
  {
   "cell_type": "markdown",
   "id": "7d20e927",
   "metadata": {
    "id": "7d20e927"
   },
   "source": [
    "## 5. Data Modeling and Evaluation <a name=\"part5\"></a>"
   ]
  },
  {
   "cell_type": "markdown",
   "id": "2964e1ab",
   "metadata": {
    "id": "2964e1ab"
   },
   "source": [
    "For bankruptcy prediction, classification is typically used rather than regression. This is because bankruptcy prediction involves predicting a categorical outcome, specifically whether a company will go bankrupt (class 1) or not (class 0). Classification models are designed to handle such binary or multi-class outcomes effectively."
   ]
  },
  {
   "cell_type": "markdown",
   "id": "97bdf1f6",
   "metadata": {
    "id": "97bdf1f6"
   },
   "source": [
    "Firstly, we leverage several models to learn and train.\n",
    "Secondly, we use our models to predict using the test data, and we fine-tune the models' parameters to ensure each model is best-fit.\n",
    "Then, we focus on the accuracy of the predictions and blend the models with accuracy higher than 90% by using ensemble learning (Hard Voting).\n",
    "Finally, we verify our aggregate model with test data and inspect our final accuracy."
   ]
  },
  {
   "cell_type": "markdown",
   "id": "3dae0aaf",
   "metadata": {
    "id": "3dae0aaf"
   },
   "source": [
    "### 5.1. Modeling <a name=\"part51\"></a>"
   ]
  },
  {
   "cell_type": "markdown",
   "id": "90f5c3fa",
   "metadata": {
    "id": "90f5c3fa"
   },
   "source": [
    "#### 5.1.1 Splitting data into training and test set <a name=\"part511\"></a>"
   ]
  },
  {
   "cell_type": "code",
   "execution_count": null,
   "id": "b5f702c3",
   "metadata": {
    "id": "b5f702c3"
   },
   "outputs": [],
   "source": [
    "y = df['Bankrupt?']\n",
    "X = df.drop(columns=['Bankrupt?'])\n",
    "\n",
    "# split data into 80% training set and 20% test set\n",
    "X_train, X_test, y_train, y_test = train_test_split(X, y, random_state=42, test_size=0.2)"
   ]
  },
  {
   "cell_type": "code",
   "execution_count": null,
   "id": "43f2d6bb",
   "metadata": {
    "id": "43f2d6bb",
    "outputId": "4ebc1ef0-9160-47e2-eb20-791cbb889eb1"
   },
   "outputs": [
    {
     "data": {
      "text/plain": [
       "{'Original dataset': 13198, 'Training set': 10558, 'Test set': 2640}"
      ]
     },
     "execution_count": 21,
     "metadata": {},
     "output_type": "execute_result"
    }
   ],
   "source": [
    "# Printing the number of entries in each set\n",
    "num_entries = {\n",
    "    'Original dataset': df.shape[0],\n",
    "    'Training set': y_train.shape[0],\n",
    "    'Test set': y_test.shape[0],\n",
    "    }\n",
    "\n",
    "num_entries"
   ]
  },
  {
   "cell_type": "code",
   "execution_count": null,
   "id": "5a5bfff3",
   "metadata": {
    "id": "5a5bfff3"
   },
   "outputs": [],
   "source": [
    "# change the values of y_train, y_test from -1 and 1 into  0 and 1\n",
    "y_train = np.where(y_train<=0,0,1)\n",
    "y_test = np.where(y_test<=0,0,1)"
   ]
  },
  {
   "cell_type": "markdown",
   "id": "65cae1aa",
   "metadata": {
    "id": "65cae1aa"
   },
   "source": [
    "#### 5.1.2 Build function to train and evaluate models <a name=\"part512\"></a>\n",
    "We initialize these lists to store names of models and values of metrics (accuracy, precision, recall, F1 score, and ROC AUC score)."
   ]
  },
  {
   "cell_type": "code",
   "execution_count": null,
   "id": "a3093cb2",
   "metadata": {
    "id": "a3093cb2"
   },
   "outputs": [],
   "source": [
    "models = []\n",
    "accuracy_scores = []\n",
    "precision_scores = []\n",
    "recall_scores = []\n",
    "f1_scores = []\n",
    "roc_auc_scores = []"
   ]
  },
  {
   "cell_type": "markdown",
   "id": "d3974c41",
   "metadata": {
    "id": "d3974c41"
   },
   "source": [
    "We defined a function `train_and_evaluate_model` that trains a machine learning model, evaluates its performance on the test dataset, and collects various performance metrics. Additionally, it prints out the confusion matrix, the number of misclassified instances and accuracy score of model."
   ]
  },
  {
   "cell_type": "code",
   "execution_count": null,
   "id": "1618c6bb",
   "metadata": {
    "id": "1618c6bb"
   },
   "outputs": [],
   "source": [
    "def train_and_evaluate_model(model, model_name):\n",
    "    # Training the Model using the training data\n",
    "    model.fit(X_train, y_train)\n",
    "    # Using the trained model to make predictions on the test dataset\n",
    "    y_pred = model.predict(X_test)\n",
    "    # Calculating Performance Metrics\n",
    "    acc = accuracy_score(y_test, y_pred)\n",
    "    precision = precision_score(y_test, y_pred, average='macro')\n",
    "    recall = recall_score(y_test, y_pred, average='macro')\n",
    "    f1 = f1_score(y_test, y_pred, average='macro')\n",
    "    roc_auc = roc_auc_score(y_test, y_pred, average='macro')\n",
    "\n",
    "    # Making the Confusion Matrix\n",
    "    cm = confusion_matrix(y_test, y_pred)\n",
    "    print(cm)\n",
    "\n",
    "\n",
    "    # Number of wrong classifier:\n",
    "    # Number of predictions which differ from the validation data\n",
    "    print('Number of wrong classifiers：%d' % (y_pred != y_test).sum())\n",
    "\n",
    "    # Accuracy\n",
    "    print(f\"Accuracy score of '{model_name}': {acc* 100:.4f}%\")\n",
    "\n",
    "    # Appending the Metrics to Lists for later comparision\n",
    "    accuracy_scores.append(acc)\n",
    "    precision_scores.append(precision)\n",
    "    recall_scores.append(recall)\n",
    "    f1_scores.append(f1)\n",
    "    roc_auc_scores.append(roc_auc)\n",
    "    models.append(model_name)"
   ]
  },
  {
   "cell_type": "markdown",
   "id": "1da55395",
   "metadata": {
    "id": "1da55395"
   },
   "source": [
    "Here are some commonly used machine learning classification algorithms for predicting bankruptcy:\n",
    "1. **Stochastic Gradient Descent Classifier**\n",
    "2. **Logistic Regression**\n",
    "3. **Support Vector Machines (SVM)**\n",
    "4. **Decision Trees**\n",
    "5. **k-Nearest Neighbors (k-NN)**\n",
    "6. **Random Forests**\n",
    "7. **Gradient Boosting Classifier**\n",
    "8. **Extreme Gradient Boosting Classifier**\n",
    "9. **Extreme Gradient Boosting Random Forest Classifier**\n",
    "10. **Hard Voting**"
   ]
  },
  {
   "cell_type": "markdown",
   "id": "2c812e95",
   "metadata": {
    "id": "2c812e95"
   },
   "source": [
    "### 5.2 Models Analysis and Evaluation <a name=\"part52\"></a>\n",
    "\n",
    "Firstly, we train models with default parameters of the models.\n",
    "Secondly, we try to get better results by tuning hyper-parameters of models using `RandomizedSearchCV` method.\n",
    "`RandomizedSearchCV` is a hyperparameter tuning technique that searches for the best combination of hyperparameters by randomly sampling from a specified parameter grid. `RandomizedSearchCV` optimizes the hyperparameters the model, such as the number of trees, criterion for split, and maximum features considered. By exploring a wide range of hyperparameters efficiently, it enhances the model's performance and ensures that the chosen hyperparameters lead to the best predictive accuracy.\n",
    "\n",
    "While fine-tuning hyper-parameters of models, we use the same settings.\n",
    "For example,\n",
    "`RandomizedSearchCV(LogisticRegression(), param_grid, verbose=3, cv=5)` \n",
    "* `LogisticRegression()`: The base model to be tuned. \n",
    "* `param_grid`: The hyperparameter grid to be defined. \n",
    "* `verbose=3`: Controls the verbosity: the higher, the more messages. \n",
    "* `cv=5`: The number of cross-validation folds.”\n",
    "\n",
    "After getting results of all models we implemented, we will explain parameters of the best model, which parameters we choose to fine-tune. "
   ]
  },
  {
   "cell_type": "markdown",
   "id": "4af30d11",
   "metadata": {
    "id": "4af30d11"
   },
   "source": [
    "#### 5.2.1 Stochastic Gradient Descent Classifier"
   ]
  },
  {
   "cell_type": "code",
   "execution_count": null,
   "id": "ca50e1ce",
   "metadata": {
    "id": "ca50e1ce",
    "outputId": "73733c43-aaa3-42a2-8b9d-5af9937bb183"
   },
   "outputs": [
    {
     "name": "stdout",
     "output_type": "stream",
     "text": [
      "[[1185  149]\n",
      " [ 135 1171]]\n",
      "Number of wrong classifiers：284\n",
      "Accuracy score of 'SGDClassifier': 89.2424%\n"
     ]
    }
   ],
   "source": [
    "train_and_evaluate_model(SGDClassifier(), 'SGDClassifier')"
   ]
  },
  {
   "cell_type": "markdown",
   "id": "974f5fad",
   "metadata": {
    "id": "974f5fad"
   },
   "source": [
    "#### 5.2.2 Logistic Regression"
   ]
  },
  {
   "cell_type": "code",
   "execution_count": null,
   "id": "dc9b4d0b",
   "metadata": {
    "id": "dc9b4d0b",
    "outputId": "e66940f3-f94b-4567-e973-c9babed0c431",
    "scrolled": true
   },
   "outputs": [
    {
     "name": "stdout",
     "output_type": "stream",
     "text": [
      "[[1188  146]\n",
      " [ 106 1200]]\n",
      "Number of wrong classifiers：252\n",
      "Accuracy score of 'LogisticRegression': 90.4545%\n"
     ]
    }
   ],
   "source": [
    "train_and_evaluate_model(LogisticRegression(), 'LogisticRegression')"
   ]
  },
  {
   "cell_type": "code",
   "execution_count": null,
   "id": "ffaf35a2",
   "metadata": {
    "id": "ffaf35a2",
    "outputId": "fe417c04-93e0-434c-e5c3-663b688c2281",
    "scrolled": true
   },
   "outputs": [
    {
     "name": "stdout",
     "output_type": "stream",
     "text": [
      "Fitting 5 folds for each of 10 candidates, totalling 50 fits\n",
      "[CV 1/5] END C=0.01, l1_ratio=0.5, multi_class=multinomial, penalty=elasticnet, solver=saga;, score=0.895 total time=   0.4s\n",
      "[CV 2/5] END C=0.01, l1_ratio=0.5, multi_class=multinomial, penalty=elasticnet, solver=saga;, score=0.902 total time=   0.4s\n",
      "[CV 3/5] END C=0.01, l1_ratio=0.5, multi_class=multinomial, penalty=elasticnet, solver=saga;, score=0.900 total time=   0.3s\n",
      "[CV 4/5] END C=0.01, l1_ratio=0.5, multi_class=multinomial, penalty=elasticnet, solver=saga;, score=0.893 total time=   0.3s\n",
      "[CV 5/5] END C=0.01, l1_ratio=0.5, multi_class=multinomial, penalty=elasticnet, solver=saga;, score=0.898 total time=   0.3s\n",
      "[CV 1/5] END C=0.5, l1_ratio=0.5, multi_class=ovr, penalty=elasticnet, solver=liblinear;, score=nan total time=   0.0s\n",
      "[CV 2/5] END C=0.5, l1_ratio=0.5, multi_class=ovr, penalty=elasticnet, solver=liblinear;, score=nan total time=   0.0s\n",
      "[CV 3/5] END C=0.5, l1_ratio=0.5, multi_class=ovr, penalty=elasticnet, solver=liblinear;, score=nan total time=   0.0s\n",
      "[CV 4/5] END C=0.5, l1_ratio=0.5, multi_class=ovr, penalty=elasticnet, solver=liblinear;, score=nan total time=   0.0s\n",
      "[CV 5/5] END C=0.5, l1_ratio=0.5, multi_class=ovr, penalty=elasticnet, solver=liblinear;, score=nan total time=   0.0s\n",
      "[CV 1/5] END C=0.01, l1_ratio=0.2, multi_class=ovr, penalty=l2, solver=sag;, score=0.893 total time=   0.1s\n",
      "[CV 2/5] END C=0.01, l1_ratio=0.2, multi_class=ovr, penalty=l2, solver=sag;, score=0.902 total time=   0.1s\n",
      "[CV 3/5] END C=0.01, l1_ratio=0.2, multi_class=ovr, penalty=l2, solver=sag;, score=0.902 total time=   0.1s\n",
      "[CV 4/5] END C=0.01, l1_ratio=0.2, multi_class=ovr, penalty=l2, solver=sag;, score=0.894 total time=   0.1s\n",
      "[CV 5/5] END C=0.01, l1_ratio=0.2, multi_class=ovr, penalty=l2, solver=sag;, score=0.897 total time=   0.1s\n",
      "[CV 1/5] END C=0.01, l1_ratio=0.2, multi_class=ovr, penalty=l2, solver=newton-cg;, score=0.893 total time=   0.0s\n",
      "[CV 2/5] END C=0.01, l1_ratio=0.2, multi_class=ovr, penalty=l2, solver=newton-cg;, score=0.902 total time=   0.0s\n",
      "[CV 3/5] END C=0.01, l1_ratio=0.2, multi_class=ovr, penalty=l2, solver=newton-cg;, score=0.902 total time=   0.0s\n",
      "[CV 4/5] END C=0.01, l1_ratio=0.2, multi_class=ovr, penalty=l2, solver=newton-cg;, score=0.895 total time=   0.0s\n",
      "[CV 5/5] END C=0.01, l1_ratio=0.2, multi_class=ovr, penalty=l2, solver=newton-cg;, score=0.897 total time=   0.0s\n",
      "[CV 1/5] END C=0.01, l1_ratio=0.5, multi_class=ovr, penalty=l2, solver=liblinear;, score=0.893 total time=   0.0s\n",
      "[CV 2/5] END C=0.01, l1_ratio=0.5, multi_class=ovr, penalty=l2, solver=liblinear;, score=0.902 total time=   0.0s\n",
      "[CV 3/5] END C=0.01, l1_ratio=0.5, multi_class=ovr, penalty=l2, solver=liblinear;, score=0.902 total time=   0.0s\n",
      "[CV 4/5] END C=0.01, l1_ratio=0.5, multi_class=ovr, penalty=l2, solver=liblinear;, score=0.896 total time=   0.0s\n",
      "[CV 5/5] END C=0.01, l1_ratio=0.5, multi_class=ovr, penalty=l2, solver=liblinear;, score=0.897 total time=   0.0s\n",
      "[CV 1/5] END C=0.01, l1_ratio=0.2, multi_class=ovr, penalty=elasticnet, solver=sag;, score=nan total time=   0.0s\n",
      "[CV 2/5] END C=0.01, l1_ratio=0.2, multi_class=ovr, penalty=elasticnet, solver=sag;, score=nan total time=   0.0s\n",
      "[CV 3/5] END C=0.01, l1_ratio=0.2, multi_class=ovr, penalty=elasticnet, solver=sag;, score=nan total time=   0.0s\n",
      "[CV 4/5] END C=0.01, l1_ratio=0.2, multi_class=ovr, penalty=elasticnet, solver=sag;, score=nan total time=   0.0s\n",
      "[CV 5/5] END C=0.01, l1_ratio=0.2, multi_class=ovr, penalty=elasticnet, solver=sag;, score=nan total time=   0.0s\n",
      "[CV 1/5] END C=0.001, l1_ratio=0.5, multi_class=multinomial, penalty=l2, solver=lbfgs;, score=0.889 total time=   0.0s\n",
      "[CV 2/5] END C=0.001, l1_ratio=0.5, multi_class=multinomial, penalty=l2, solver=lbfgs;, score=0.900 total time=   0.0s\n",
      "[CV 3/5] END C=0.001, l1_ratio=0.5, multi_class=multinomial, penalty=l2, solver=lbfgs;, score=0.899 total time=   0.0s\n",
      "[CV 4/5] END C=0.001, l1_ratio=0.5, multi_class=multinomial, penalty=l2, solver=lbfgs;, score=0.890 total time=   0.0s\n",
      "[CV 5/5] END C=0.001, l1_ratio=0.5, multi_class=multinomial, penalty=l2, solver=lbfgs;, score=0.894 total time=   0.0s\n",
      "[CV 1/5] END C=0.1, l1_ratio=0.8, multi_class=ovr, penalty=elasticnet, solver=lbfgs;, score=nan total time=   0.0s\n",
      "[CV 2/5] END C=0.1, l1_ratio=0.8, multi_class=ovr, penalty=elasticnet, solver=lbfgs;, score=nan total time=   0.0s\n",
      "[CV 3/5] END C=0.1, l1_ratio=0.8, multi_class=ovr, penalty=elasticnet, solver=lbfgs;, score=nan total time=   0.0s\n",
      "[CV 4/5] END C=0.1, l1_ratio=0.8, multi_class=ovr, penalty=elasticnet, solver=lbfgs;, score=nan total time=   0.0s\n",
      "[CV 5/5] END C=0.1, l1_ratio=0.8, multi_class=ovr, penalty=elasticnet, solver=lbfgs;, score=nan total time=   0.0s\n",
      "[CV 1/5] END C=0.1, l1_ratio=0.5, multi_class=ovr, penalty=l1, solver=lbfgs;, score=nan total time=   0.0s\n",
      "[CV 2/5] END C=0.1, l1_ratio=0.5, multi_class=ovr, penalty=l1, solver=lbfgs;, score=nan total time=   0.0s\n",
      "[CV 3/5] END C=0.1, l1_ratio=0.5, multi_class=ovr, penalty=l1, solver=lbfgs;, score=nan total time=   0.0s\n",
      "[CV 4/5] END C=0.1, l1_ratio=0.5, multi_class=ovr, penalty=l1, solver=lbfgs;, score=nan total time=   0.0s\n",
      "[CV 5/5] END C=0.1, l1_ratio=0.5, multi_class=ovr, penalty=l1, solver=lbfgs;, score=nan total time=   0.0s\n",
      "[CV 1/5] END C=0.5, l1_ratio=0.5, multi_class=multinomial, penalty=l1, solver=lbfgs;, score=nan total time=   0.0s\n",
      "[CV 2/5] END C=0.5, l1_ratio=0.5, multi_class=multinomial, penalty=l1, solver=lbfgs;, score=nan total time=   0.0s\n",
      "[CV 3/5] END C=0.5, l1_ratio=0.5, multi_class=multinomial, penalty=l1, solver=lbfgs;, score=nan total time=   0.0s\n",
      "[CV 4/5] END C=0.5, l1_ratio=0.5, multi_class=multinomial, penalty=l1, solver=lbfgs;, score=nan total time=   0.0s\n",
      "[CV 5/5] END C=0.5, l1_ratio=0.5, multi_class=multinomial, penalty=l1, solver=lbfgs;, score=nan total time=   0.0s\n",
      "[[1164  170]\n",
      " [ 100 1206]]\n",
      "Number of wrong classifiers：270\n",
      "Accuracy score of 'RandomizedSearchCV_LogisticRegression': 89.7727%\n"
     ]
    }
   ],
   "source": [
    "# define a parameter grid for fine-tuning the model using RandomizedSearchCV\n",
    "param_grid = {'penalty': ['l1','l2','elasticnet'],\n",
    "              'C': [0.001,0.01,0.1,0.5],\n",
    "              'solver': ['newton-cg', 'lbfgs', 'liblinear', 'sag', 'saga'],\n",
    "              'multi_class': ['ovr', 'multinomial'],\n",
    "              'l1_ratio': [0.2,0.5,0.8]\n",
    "             }\n",
    "\n",
    "grid_lr = RandomizedSearchCV(LogisticRegression(), param_grid, verbose=3, cv=5)\n",
    "train_and_evaluate_model(grid_lr, 'RandomizedSearchCV_LogisticRegression')"
   ]
  },
  {
   "cell_type": "markdown",
   "id": "1c607a82",
   "metadata": {
    "id": "1c607a82"
   },
   "source": [
    "#### 5.2.3 Support Vector Machine"
   ]
  },
  {
   "cell_type": "code",
   "execution_count": null,
   "id": "c91b041e",
   "metadata": {
    "id": "c91b041e",
    "outputId": "54f35e36-109b-4c13-d649-44f8454a6cca"
   },
   "outputs": [
    {
     "name": "stdout",
     "output_type": "stream",
     "text": [
      "[[1178  156]\n",
      " [  86 1220]]\n",
      "Number of wrong classifiers：242\n",
      "Accuracy score of 'Support Vector Machine': 90.8333%\n"
     ]
    }
   ],
   "source": [
    "train_and_evaluate_model(SVC(kernel = 'linear', C = 2.0, random_state=1),\n",
    "                         'Support Vector Machine')"
   ]
  },
  {
   "cell_type": "code",
   "execution_count": null,
   "id": "d2a91cf6",
   "metadata": {
    "id": "d2a91cf6",
    "outputId": "8f62629b-b445-4e8f-bdbc-19fa061192c0",
    "scrolled": true
   },
   "outputs": [
    {
     "name": "stdout",
     "output_type": "stream",
     "text": [
      "Fitting 5 folds for each of 10 candidates, totalling 50 fits\n",
      "[CV 1/5] END C=5, degree=3, gamma=auto, kernel=linear, shrinking=False;, score=0.902 total time=   5.1s\n",
      "[CV 2/5] END C=5, degree=3, gamma=auto, kernel=linear, shrinking=False;, score=0.911 total time=   4.6s\n",
      "[CV 3/5] END C=5, degree=3, gamma=auto, kernel=linear, shrinking=False;, score=0.909 total time=   5.1s\n",
      "[CV 4/5] END C=5, degree=3, gamma=auto, kernel=linear, shrinking=False;, score=0.898 total time=   3.3s\n",
      "[CV 5/5] END C=5, degree=3, gamma=auto, kernel=linear, shrinking=False;, score=0.913 total time=   5.3s\n",
      "[CV 1/5] END C=0.1, degree=4, gamma=scale, kernel=sigmoid, shrinking=False;, score=0.821 total time=   1.0s\n",
      "[CV 2/5] END C=0.1, degree=4, gamma=scale, kernel=sigmoid, shrinking=False;, score=0.852 total time=   1.0s\n",
      "[CV 3/5] END C=0.1, degree=4, gamma=scale, kernel=sigmoid, shrinking=False;, score=0.838 total time=   1.0s\n",
      "[CV 4/5] END C=0.1, degree=4, gamma=scale, kernel=sigmoid, shrinking=False;, score=0.840 total time=   1.0s\n",
      "[CV 5/5] END C=0.1, degree=4, gamma=scale, kernel=sigmoid, shrinking=False;, score=0.820 total time=   1.0s\n",
      "[CV 1/5] END C=5, degree=5, gamma=auto, kernel=linear, shrinking=True;, score=0.902 total time=   2.4s\n",
      "[CV 2/5] END C=5, degree=5, gamma=auto, kernel=linear, shrinking=True;, score=0.911 total time=   2.2s\n",
      "[CV 3/5] END C=5, degree=5, gamma=auto, kernel=linear, shrinking=True;, score=0.909 total time=   2.3s\n",
      "[CV 4/5] END C=5, degree=5, gamma=auto, kernel=linear, shrinking=True;, score=0.898 total time=   2.3s\n",
      "[CV 5/5] END C=5, degree=5, gamma=auto, kernel=linear, shrinking=True;, score=0.913 total time=   2.3s\n",
      "[CV 1/5] END C=1, degree=5, gamma=scale, kernel=rbf, shrinking=True;, score=0.922 total time=   1.6s\n",
      "[CV 2/5] END C=1, degree=5, gamma=scale, kernel=rbf, shrinking=True;, score=0.931 total time=   1.7s\n",
      "[CV 3/5] END C=1, degree=5, gamma=scale, kernel=rbf, shrinking=True;, score=0.915 total time=   1.6s\n",
      "[CV 4/5] END C=1, degree=5, gamma=scale, kernel=rbf, shrinking=True;, score=0.923 total time=   1.6s\n",
      "[CV 5/5] END C=1, degree=5, gamma=scale, kernel=rbf, shrinking=True;, score=0.926 total time=   1.7s\n",
      "[CV 1/5] END C=5, degree=3, gamma=scale, kernel=linear, shrinking=False;, score=0.902 total time=   5.2s\n",
      "[CV 2/5] END C=5, degree=3, gamma=scale, kernel=linear, shrinking=False;, score=0.911 total time=   4.7s\n",
      "[CV 3/5] END C=5, degree=3, gamma=scale, kernel=linear, shrinking=False;, score=0.909 total time=   5.2s\n",
      "[CV 4/5] END C=5, degree=3, gamma=scale, kernel=linear, shrinking=False;, score=0.898 total time=   3.3s\n",
      "[CV 5/5] END C=5, degree=3, gamma=scale, kernel=linear, shrinking=False;, score=0.913 total time=   5.5s\n",
      "[CV 1/5] END C=1, degree=5, gamma=scale, kernel=sigmoid, shrinking=True;, score=0.817 total time=   0.9s\n",
      "[CV 2/5] END C=1, degree=5, gamma=scale, kernel=sigmoid, shrinking=True;, score=0.848 total time=   1.0s\n",
      "[CV 3/5] END C=1, degree=5, gamma=scale, kernel=sigmoid, shrinking=True;, score=0.835 total time=   0.9s\n",
      "[CV 4/5] END C=1, degree=5, gamma=scale, kernel=sigmoid, shrinking=True;, score=0.834 total time=   1.0s\n",
      "[CV 5/5] END C=1, degree=5, gamma=scale, kernel=sigmoid, shrinking=True;, score=0.816 total time=   1.0s\n",
      "[CV 1/5] END C=0.1, degree=2, gamma=auto, kernel=linear, shrinking=False;, score=0.898 total time=   1.1s\n",
      "[CV 2/5] END C=0.1, degree=2, gamma=auto, kernel=linear, shrinking=False;, score=0.911 total time=   1.2s\n",
      "[CV 3/5] END C=0.1, degree=2, gamma=auto, kernel=linear, shrinking=False;, score=0.902 total time=   1.1s\n",
      "[CV 4/5] END C=0.1, degree=2, gamma=auto, kernel=linear, shrinking=False;, score=0.896 total time=   1.1s\n",
      "[CV 5/5] END C=0.1, degree=2, gamma=auto, kernel=linear, shrinking=False;, score=0.911 total time=   1.1s\n",
      "[CV 1/5] END C=0.001, degree=4, gamma=scale, kernel=linear, shrinking=True;, score=0.889 total time=   1.4s\n",
      "[CV 2/5] END C=0.001, degree=4, gamma=scale, kernel=linear, shrinking=True;, score=0.902 total time=   1.4s\n",
      "[CV 3/5] END C=0.001, degree=4, gamma=scale, kernel=linear, shrinking=True;, score=0.895 total time=   1.3s\n",
      "[CV 4/5] END C=0.001, degree=4, gamma=scale, kernel=linear, shrinking=True;, score=0.893 total time=   1.3s\n",
      "[CV 5/5] END C=0.001, degree=4, gamma=scale, kernel=linear, shrinking=True;, score=0.897 total time=   1.3s\n",
      "[CV 1/5] END C=1, degree=2, gamma=auto, kernel=poly, shrinking=False;, score=0.802 total time=   2.6s\n",
      "[CV 2/5] END C=1, degree=2, gamma=auto, kernel=poly, shrinking=False;, score=0.823 total time=   2.6s\n",
      "[CV 3/5] END C=1, degree=2, gamma=auto, kernel=poly, shrinking=False;, score=0.798 total time=   2.5s\n",
      "[CV 4/5] END C=1, degree=2, gamma=auto, kernel=poly, shrinking=False;, score=0.824 total time=   2.5s\n",
      "[CV 5/5] END C=1, degree=2, gamma=auto, kernel=poly, shrinking=False;, score=0.811 total time=   2.5s\n",
      "[CV 1/5] END C=0.1, degree=5, gamma=scale, kernel=linear, shrinking=True;, score=0.898 total time=   1.2s\n",
      "[CV 2/5] END C=0.1, degree=5, gamma=scale, kernel=linear, shrinking=True;, score=0.911 total time=   1.2s\n",
      "[CV 3/5] END C=0.1, degree=5, gamma=scale, kernel=linear, shrinking=True;, score=0.902 total time=   1.2s\n",
      "[CV 4/5] END C=0.1, degree=5, gamma=scale, kernel=linear, shrinking=True;, score=0.896 total time=   1.2s\n",
      "[CV 5/5] END C=0.1, degree=5, gamma=scale, kernel=linear, shrinking=True;, score=0.911 total time=   1.2s\n",
      "[[1186  148]\n",
      " [  50 1256]]\n",
      "Number of wrong classifiers：198\n",
      "Accuracy score of 'RandomizedSearchCV_SVC': 92.5000%\n"
     ]
    }
   ],
   "source": [
    "# define a parameter grid for fine-tuning the model using RandomizedSearchCV\n",
    "param_grid = {'C': [0.001,0.01,0.1,1,5],\n",
    "             'gamma': ['scale','auto'],\n",
    "             'kernel': ['linear','poly','rbf','sigmoid'],\n",
    "             'degree': [2,3,4,5],\n",
    "             'shrinking': [True,False]\n",
    "             }\n",
    "\n",
    "grid_svm = RandomizedSearchCV(SVC(), param_grid, verbose=3, cv=5)\n",
    "train_and_evaluate_model(grid_svm, 'RandomizedSearchCV_SVC' )"
   ]
  },
  {
   "cell_type": "markdown",
   "id": "57a466ce",
   "metadata": {
    "id": "57a466ce"
   },
   "source": [
    "#### 5.2.4 Decision Tree"
   ]
  },
  {
   "cell_type": "code",
   "execution_count": null,
   "id": "c15e59f6",
   "metadata": {
    "id": "c15e59f6",
    "outputId": "6298d9e8-f137-48b8-ae2f-ff7c1b8c6f5e"
   },
   "outputs": [
    {
     "name": "stdout",
     "output_type": "stream",
     "text": [
      "[[1231  103]\n",
      " [  72 1234]]\n",
      "Number of wrong classifiers：175\n",
      "Accuracy score of 'DecisionTreeClassifier': 93.3712%\n"
     ]
    }
   ],
   "source": [
    "train_and_evaluate_model(DecisionTreeClassifier(max_depth=30, random_state=1),\n",
    "                         'DecisionTreeClassifier')"
   ]
  },
  {
   "cell_type": "code",
   "execution_count": null,
   "id": "e276b3fe",
   "metadata": {
    "id": "e276b3fe",
    "outputId": "562b8934-d16a-49ff-95a8-420da971d73b",
    "scrolled": true
   },
   "outputs": [
    {
     "name": "stdout",
     "output_type": "stream",
     "text": [
      "Fitting 5 folds for each of 10 candidates, totalling 50 fits\n",
      "[CV 1/5] END criterion=gini, max_features=log2, splitter=random;, score=0.926 total time=   0.0s\n",
      "[CV 2/5] END criterion=gini, max_features=log2, splitter=random;, score=0.936 total time=   0.0s\n",
      "[CV 3/5] END criterion=gini, max_features=log2, splitter=random;, score=0.924 total time=   0.0s\n",
      "[CV 4/5] END criterion=gini, max_features=log2, splitter=random;, score=0.925 total time=   0.0s\n",
      "[CV 5/5] END criterion=gini, max_features=log2, splitter=random;, score=0.927 total time=   0.0s\n",
      "[CV 1/5] END criterion=entropy, max_features=auto, splitter=best;, score=nan total time=   0.0s\n",
      "[CV 2/5] END criterion=entropy, max_features=auto, splitter=best;, score=nan total time=   0.0s\n",
      "[CV 3/5] END criterion=entropy, max_features=auto, splitter=best;, score=nan total time=   0.0s\n",
      "[CV 4/5] END criterion=entropy, max_features=auto, splitter=best;, score=nan total time=   0.0s\n",
      "[CV 5/5] END criterion=entropy, max_features=auto, splitter=best;, score=nan total time=   0.0s\n",
      "[CV 1/5] END criterion=log_loss, max_features=auto, splitter=best;, score=nan total time=   0.0s\n",
      "[CV 2/5] END criterion=log_loss, max_features=auto, splitter=best;, score=nan total time=   0.0s\n",
      "[CV 3/5] END criterion=log_loss, max_features=auto, splitter=best;, score=nan total time=   0.0s\n",
      "[CV 4/5] END criterion=log_loss, max_features=auto, splitter=best;, score=nan total time=   0.0s\n",
      "[CV 5/5] END criterion=log_loss, max_features=auto, splitter=best;, score=nan total time=   0.0s\n",
      "[CV 1/5] END criterion=log_loss, max_features=log2, splitter=random;, score=0.929 total time=   0.0s\n",
      "[CV 2/5] END criterion=log_loss, max_features=log2, splitter=random;, score=0.931 total time=   0.0s\n",
      "[CV 3/5] END criterion=log_loss, max_features=log2, splitter=random;, score=0.928 total time=   0.0s\n",
      "[CV 4/5] END criterion=log_loss, max_features=log2, splitter=random;, score=0.924 total time=   0.0s\n",
      "[CV 5/5] END criterion=log_loss, max_features=log2, splitter=random;, score=0.929 total time=   0.0s\n",
      "[CV 1/5] END criterion=log_loss, max_features=sqrt, splitter=random;, score=0.929 total time=   0.0s\n",
      "[CV 2/5] END criterion=log_loss, max_features=sqrt, splitter=random;, score=0.947 total time=   0.0s\n",
      "[CV 3/5] END criterion=log_loss, max_features=sqrt, splitter=random;, score=0.929 total time=   0.0s\n",
      "[CV 4/5] END criterion=log_loss, max_features=sqrt, splitter=random;, score=0.923 total time=   0.0s\n",
      "[CV 5/5] END criterion=log_loss, max_features=sqrt, splitter=random;, score=0.938 total time=   0.0s\n",
      "[CV 1/5] END criterion=entropy, max_features=log2, splitter=random;, score=0.937 total time=   0.0s\n",
      "[CV 2/5] END criterion=entropy, max_features=log2, splitter=random;, score=0.931 total time=   0.0s\n",
      "[CV 3/5] END criterion=entropy, max_features=log2, splitter=random;, score=0.930 total time=   0.0s\n",
      "[CV 4/5] END criterion=entropy, max_features=log2, splitter=random;, score=0.934 total time=   0.0s\n",
      "[CV 5/5] END criterion=entropy, max_features=log2, splitter=random;, score=0.938 total time=   0.0s\n",
      "[CV 1/5] END criterion=gini, max_features=auto, splitter=random;, score=nan total time=   0.0s\n",
      "[CV 2/5] END criterion=gini, max_features=auto, splitter=random;, score=nan total time=   0.0s\n",
      "[CV 3/5] END criterion=gini, max_features=auto, splitter=random;, score=nan total time=   0.0s\n",
      "[CV 4/5] END criterion=gini, max_features=auto, splitter=random;, score=nan total time=   0.0s\n",
      "[CV 5/5] END criterion=gini, max_features=auto, splitter=random;, score=nan total time=   0.0s\n",
      "[CV 1/5] END criterion=gini, max_features=log2, splitter=best;, score=0.925 total time=   0.0s\n",
      "[CV 2/5] END criterion=gini, max_features=log2, splitter=best;, score=0.941 total time=   0.0s\n",
      "[CV 3/5] END criterion=gini, max_features=log2, splitter=best;, score=0.933 total time=   0.0s\n",
      "[CV 4/5] END criterion=gini, max_features=log2, splitter=best;, score=0.928 total time=   0.0s\n",
      "[CV 5/5] END criterion=gini, max_features=log2, splitter=best;, score=0.926 total time=   0.0s\n",
      "[CV 1/5] END criterion=entropy, max_features=auto, splitter=random;, score=nan total time=   0.0s\n",
      "[CV 2/5] END criterion=entropy, max_features=auto, splitter=random;, score=nan total time=   0.0s\n",
      "[CV 3/5] END criterion=entropy, max_features=auto, splitter=random;, score=nan total time=   0.0s\n",
      "[CV 4/5] END criterion=entropy, max_features=auto, splitter=random;, score=nan total time=   0.0s\n",
      "[CV 5/5] END criterion=entropy, max_features=auto, splitter=random;, score=nan total time=   0.0s\n",
      "[CV 1/5] END criterion=entropy, max_features=sqrt, splitter=best;, score=0.932 total time=   0.0s\n",
      "[CV 2/5] END criterion=entropy, max_features=sqrt, splitter=best;, score=0.941 total time=   0.0s\n",
      "[CV 3/5] END criterion=entropy, max_features=sqrt, splitter=best;, score=0.933 total time=   0.0s\n",
      "[CV 4/5] END criterion=entropy, max_features=sqrt, splitter=best;, score=0.935 total time=   0.0s\n",
      "[CV 5/5] END criterion=entropy, max_features=sqrt, splitter=best;, score=0.933 total time=   0.0s\n",
      "[[1237   97]\n",
      " [  76 1230]]\n",
      "Number of wrong classifiers：173\n",
      "Accuracy score of 'RandomizedSearchCV_DecisionTreeClassifier': 93.4470%\n"
     ]
    }
   ],
   "source": [
    "# fine-tune the model using RandomizedSearchCV\n",
    "param_grid = {'criterion': ['gini','entropy','log_loss'],\n",
    "              'splitter': ['best','random'],\n",
    "              'max_features': ['auto','sqrt','log2']\n",
    "             }\n",
    "\n",
    "grid_dt = RandomizedSearchCV(DecisionTreeClassifier(), param_grid, verbose=3, cv=5)\n",
    "train_and_evaluate_model(grid_dt, 'RandomizedSearchCV_DecisionTreeClassifier')"
   ]
  },
  {
   "cell_type": "markdown",
   "id": "2d89c0bf",
   "metadata": {
    "id": "2d89c0bf"
   },
   "source": [
    "#### 5.2.5 K-Nearest Neighbors Classifier"
   ]
  },
  {
   "cell_type": "code",
   "execution_count": null,
   "id": "4ccbe829",
   "metadata": {
    "id": "4ccbe829",
    "outputId": "d5444d06-a2e2-4bff-b404-f2648c1816b1"
   },
   "outputs": [
    {
     "name": "stdout",
     "output_type": "stream",
     "text": [
      "[[1186  148]\n",
      " [  16 1290]]\n",
      "Number of wrong classifiers：164\n",
      "Accuracy score of 'KNeighborsClassifier': 93.7879%\n"
     ]
    }
   ],
   "source": [
    "train_and_evaluate_model(KNeighborsClassifier(),\n",
    "                         'KNeighborsClassifier')"
   ]
  },
  {
   "cell_type": "code",
   "execution_count": null,
   "id": "3d6048e6",
   "metadata": {
    "id": "3d6048e6",
    "outputId": "e3c47698-ca84-4a0a-b727-d18906611ff0",
    "scrolled": true
   },
   "outputs": [
    {
     "name": "stdout",
     "output_type": "stream",
     "text": [
      "Fitting 5 folds for each of 10 candidates, totalling 50 fits\n",
      "[CV 1/5] END algorithm=brute, metric=minkowski, n_neighbors=2, weights=distance;, score=0.963 total time=   0.0s\n",
      "[CV 2/5] END algorithm=brute, metric=minkowski, n_neighbors=2, weights=distance;, score=0.964 total time=   0.0s\n",
      "[CV 3/5] END algorithm=brute, metric=minkowski, n_neighbors=2, weights=distance;, score=0.955 total time=   0.0s\n",
      "[CV 4/5] END algorithm=brute, metric=minkowski, n_neighbors=2, weights=distance;, score=0.955 total time=   0.0s\n",
      "[CV 5/5] END algorithm=brute, metric=minkowski, n_neighbors=2, weights=distance;, score=0.966 total time=   0.0s\n",
      "[CV 1/5] END algorithm=ball_tree, metric=euclidean, n_neighbors=8, weights=uniform;, score=0.947 total time=   0.2s\n",
      "[CV 2/5] END algorithm=ball_tree, metric=euclidean, n_neighbors=8, weights=uniform;, score=0.943 total time=   0.2s\n",
      "[CV 3/5] END algorithm=ball_tree, metric=euclidean, n_neighbors=8, weights=uniform;, score=0.930 total time=   0.2s\n",
      "[CV 4/5] END algorithm=ball_tree, metric=euclidean, n_neighbors=8, weights=uniform;, score=0.934 total time=   0.2s\n",
      "[CV 5/5] END algorithm=ball_tree, metric=euclidean, n_neighbors=8, weights=uniform;, score=0.943 total time=   0.2s\n",
      "[CV 1/5] END algorithm=kd_tree, metric=euclidean, n_neighbors=20, weights=distance;, score=0.935 total time=   0.1s\n",
      "[CV 2/5] END algorithm=kd_tree, metric=euclidean, n_neighbors=20, weights=distance;, score=0.940 total time=   0.1s\n",
      "[CV 3/5] END algorithm=kd_tree, metric=euclidean, n_neighbors=20, weights=distance;, score=0.924 total time=   0.1s\n",
      "[CV 4/5] END algorithm=kd_tree, metric=euclidean, n_neighbors=20, weights=distance;, score=0.930 total time=   0.1s\n",
      "[CV 5/5] END algorithm=kd_tree, metric=euclidean, n_neighbors=20, weights=distance;, score=0.940 total time=   0.1s\n",
      "[CV 1/5] END algorithm=brute, metric=chebyshev, n_neighbors=12, weights=uniform;, score=0.930 total time=   0.2s\n",
      "[CV 2/5] END algorithm=brute, metric=chebyshev, n_neighbors=12, weights=uniform;, score=0.937 total time=   0.2s\n",
      "[CV 3/5] END algorithm=brute, metric=chebyshev, n_neighbors=12, weights=uniform;, score=0.920 total time=   0.1s\n",
      "[CV 4/5] END algorithm=brute, metric=chebyshev, n_neighbors=12, weights=uniform;, score=0.928 total time=   0.1s\n",
      "[CV 5/5] END algorithm=brute, metric=chebyshev, n_neighbors=12, weights=uniform;, score=0.930 total time=   0.1s\n",
      "[CV 1/5] END algorithm=brute, metric=chebyshev, n_neighbors=20, weights=uniform;, score=0.925 total time=   0.1s\n",
      "[CV 2/5] END algorithm=brute, metric=chebyshev, n_neighbors=20, weights=uniform;, score=0.932 total time=   0.2s\n",
      "[CV 3/5] END algorithm=brute, metric=chebyshev, n_neighbors=20, weights=uniform;, score=0.915 total time=   0.2s\n",
      "[CV 4/5] END algorithm=brute, metric=chebyshev, n_neighbors=20, weights=uniform;, score=0.921 total time=   0.1s\n",
      "[CV 5/5] END algorithm=brute, metric=chebyshev, n_neighbors=20, weights=uniform;, score=0.928 total time=   0.1s\n",
      "[CV 1/5] END algorithm=ball_tree, metric=chebyshev, n_neighbors=5, weights=uniform;, score=0.941 total time=   0.3s\n",
      "[CV 2/5] END algorithm=ball_tree, metric=chebyshev, n_neighbors=5, weights=uniform;, score=0.946 total time=   0.3s\n",
      "[CV 3/5] END algorithm=ball_tree, metric=chebyshev, n_neighbors=5, weights=uniform;, score=0.930 total time=   0.3s\n",
      "[CV 4/5] END algorithm=ball_tree, metric=chebyshev, n_neighbors=5, weights=uniform;, score=0.937 total time=   0.3s\n",
      "[CV 5/5] END algorithm=ball_tree, metric=chebyshev, n_neighbors=5, weights=uniform;, score=0.940 total time=   0.3s\n",
      "[CV 1/5] END algorithm=ball_tree, metric=euclidean, n_neighbors=2, weights=distance;, score=0.963 total time=   0.1s\n",
      "[CV 2/5] END algorithm=ball_tree, metric=euclidean, n_neighbors=2, weights=distance;, score=0.964 total time=   0.1s\n",
      "[CV 3/5] END algorithm=ball_tree, metric=euclidean, n_neighbors=2, weights=distance;, score=0.955 total time=   0.1s\n",
      "[CV 4/5] END algorithm=ball_tree, metric=euclidean, n_neighbors=2, weights=distance;, score=0.955 total time=   0.1s\n",
      "[CV 5/5] END algorithm=ball_tree, metric=euclidean, n_neighbors=2, weights=distance;, score=0.966 total time=   0.2s\n",
      "[CV 1/5] END algorithm=kd_tree, metric=euclidean, n_neighbors=20, weights=uniform;, score=0.928 total time=   0.1s\n",
      "[CV 2/5] END algorithm=kd_tree, metric=euclidean, n_neighbors=20, weights=uniform;, score=0.935 total time=   0.1s\n",
      "[CV 3/5] END algorithm=kd_tree, metric=euclidean, n_neighbors=20, weights=uniform;, score=0.921 total time=   0.1s\n",
      "[CV 4/5] END algorithm=kd_tree, metric=euclidean, n_neighbors=20, weights=uniform;, score=0.926 total time=   0.1s\n",
      "[CV 5/5] END algorithm=kd_tree, metric=euclidean, n_neighbors=20, weights=uniform;, score=0.935 total time=   0.1s\n",
      "[CV 1/5] END algorithm=brute, metric=chebyshev, n_neighbors=5, weights=uniform;, score=0.941 total time=   0.1s\n",
      "[CV 2/5] END algorithm=brute, metric=chebyshev, n_neighbors=5, weights=uniform;, score=0.946 total time=   0.1s\n",
      "[CV 3/5] END algorithm=brute, metric=chebyshev, n_neighbors=5, weights=uniform;, score=0.930 total time=   0.1s\n",
      "[CV 4/5] END algorithm=brute, metric=chebyshev, n_neighbors=5, weights=uniform;, score=0.937 total time=   0.1s\n",
      "[CV 5/5] END algorithm=brute, metric=chebyshev, n_neighbors=5, weights=uniform;, score=0.940 total time=   0.1s\n",
      "[CV 1/5] END algorithm=kd_tree, metric=chebyshev, n_neighbors=2, weights=distance;, score=0.959 total time=   0.0s\n",
      "[CV 2/5] END algorithm=kd_tree, metric=chebyshev, n_neighbors=2, weights=distance;, score=0.956 total time=   0.0s\n",
      "[CV 3/5] END algorithm=kd_tree, metric=chebyshev, n_neighbors=2, weights=distance;, score=0.955 total time=   0.0s\n",
      "[CV 4/5] END algorithm=kd_tree, metric=chebyshev, n_neighbors=2, weights=distance;, score=0.951 total time=   0.0s\n",
      "[CV 5/5] END algorithm=kd_tree, metric=chebyshev, n_neighbors=2, weights=distance;, score=0.957 total time=   0.0s\n",
      "[[1244   90]\n",
      " [   6 1300]]\n",
      "Number of wrong classifiers：96\n",
      "Accuracy score of 'RandomizedSearchCV_KNeighborsClassifier': 96.3636%\n"
     ]
    }
   ],
   "source": [
    "# define a parameter grid for fine-tuning the model using RandomizedSearchCV\n",
    "param_grid = {'n_neighbors': [2,5,8,12,20],\n",
    "              'weights': ['uniform','distance'],\n",
    "              'algorithm': ['ball_tree', 'kd_tree', 'brute'],\n",
    "              'metric': ['minkowski','manhattan','euclidean','chebyshev']\n",
    "             }\n",
    "\n",
    "grid_knn = RandomizedSearchCV(KNeighborsClassifier(), param_grid, verbose=3, cv=5)\n",
    "train_and_evaluate_model(grid_knn,'RandomizedSearchCV_KNeighborsClassifier')"
   ]
  },
  {
   "cell_type": "markdown",
   "id": "f90029b3",
   "metadata": {
    "id": "f90029b3"
   },
   "source": [
    "### 5.2.6 Random Forest"
   ]
  },
  {
   "cell_type": "code",
   "execution_count": null,
   "id": "2f4ae990",
   "metadata": {
    "id": "2f4ae990",
    "outputId": "9ba95194-52a0-4191-d822-fb5a9bca0a9c"
   },
   "outputs": [
    {
     "name": "stdout",
     "output_type": "stream",
     "text": [
      "[[1256   78]\n",
      " [  20 1286]]\n",
      "Number of wrong classifiers：98\n",
      "Accuracy score of 'RandomForestClassifier': 96.2879%\n"
     ]
    }
   ],
   "source": [
    "train_and_evaluate_model(RandomForestClassifier(n_estimators = 100, random_state=42),\n",
    "                         'RandomForestClassifier')"
   ]
  },
  {
   "cell_type": "markdown",
   "id": "a08a9f79",
   "metadata": {},
   "source": [
    "`param_grid` dictionary specifies the hyperparameters and their respective values that will be explored by RandomizedSearchCV.\n",
    "\n",
    "* `n_estimators`: [200, 600, 1000]: The number of trees in the forest. More trees usually improve the performance of the model but also increase the computation time.\n",
    "\n",
    "* `criterion`: ['gini', 'entropy', 'log_loss']: The function to measure the quality of a split:\n",
    "    * 'gini': Gini impurity\n",
    "    * 'entropy': Information gain (entropy)\n",
    "    * 'log_loss': Logarithmic loss (not commonly used in Random Forests, more relevant for classification tasks like Logistic Regression)\n",
    "    \n",
    "* `max_features`: ['auto', 'sqrt', 'log2']: The number of features to consider when looking for the best split:\n",
    "    * 'auto': Consider all features (equivalent to 'sqrt' for classification tasks)\n",
    "    * 'sqrt': Square root of the number of features\n",
    "    * 'log2': Logarithm base 2 of the number of features\n",
    "\n",
    "* `bootstrap`: [True, False]: Whether bootstrap samples are used when building trees:\n",
    "    * True: Use bootstrap samples\n",
    "    * False: Do not use bootstrap samples\n",
    "\n",
    "* `oob_score`: [True, False]: Whether to use out-of-bag samples to estimate the generalization accuracy:\n",
    "    * True: Use out-of-bag samples\n",
    "    * False: Do not use out-of-bag samples\n",
    "\n",
    "* `class_weight`: ['balanced', 'balanced_subsample']: Weights associated with classes to handle class imbalance:\n",
    "    * 'balanced': Adjust weights inversely proportional to class frequencies in the input data\n",
    "    * 'balanced_subsample': Compute weights based on the bootstrap sample for each tree"
   ]
  },
  {
   "cell_type": "code",
   "execution_count": null,
   "id": "977e8992",
   "metadata": {
    "id": "977e8992",
    "outputId": "3a51a54a-55e4-4039-8c71-c856b5e92019",
    "scrolled": true
   },
   "outputs": [
    {
     "name": "stdout",
     "output_type": "stream",
     "text": [
      "Fitting 5 folds for each of 10 candidates, totalling 50 fits\n",
      "[CV 1/5] END bootstrap=False, class_weight=balanced, criterion=log_loss, max_features=auto, n_estimators=600, oob_score=True;, score=nan total time=   0.0s\n",
      "[CV 2/5] END bootstrap=False, class_weight=balanced, criterion=log_loss, max_features=auto, n_estimators=600, oob_score=True;, score=nan total time=   0.0s\n",
      "[CV 3/5] END bootstrap=False, class_weight=balanced, criterion=log_loss, max_features=auto, n_estimators=600, oob_score=True;, score=nan total time=   0.0s\n",
      "[CV 4/5] END bootstrap=False, class_weight=balanced, criterion=log_loss, max_features=auto, n_estimators=600, oob_score=True;, score=nan total time=   0.0s\n",
      "[CV 5/5] END bootstrap=False, class_weight=balanced, criterion=log_loss, max_features=auto, n_estimators=600, oob_score=True;, score=nan total time=   0.0s\n",
      "[CV 1/5] END bootstrap=True, class_weight=balanced, criterion=log_loss, max_features=sqrt, n_estimators=600, oob_score=False;, score=0.961 total time=  15.9s\n",
      "[CV 2/5] END bootstrap=True, class_weight=balanced, criterion=log_loss, max_features=sqrt, n_estimators=600, oob_score=False;, score=0.967 total time=  15.8s\n",
      "[CV 3/5] END bootstrap=True, class_weight=balanced, criterion=log_loss, max_features=sqrt, n_estimators=600, oob_score=False;, score=0.949 total time=  15.8s\n",
      "[CV 4/5] END bootstrap=True, class_weight=balanced, criterion=log_loss, max_features=sqrt, n_estimators=600, oob_score=False;, score=0.957 total time=  15.6s\n",
      "[CV 5/5] END bootstrap=True, class_weight=balanced, criterion=log_loss, max_features=sqrt, n_estimators=600, oob_score=False;, score=0.960 total time=  16.1s\n",
      "[CV 1/5] END bootstrap=True, class_weight=balanced_subsample, criterion=gini, max_features=log2, n_estimators=600, oob_score=False;, score=0.960 total time=  15.9s\n",
      "[CV 2/5] END bootstrap=True, class_weight=balanced_subsample, criterion=gini, max_features=log2, n_estimators=600, oob_score=False;, score=0.968 total time=  16.3s\n",
      "[CV 3/5] END bootstrap=True, class_weight=balanced_subsample, criterion=gini, max_features=log2, n_estimators=600, oob_score=False;, score=0.952 total time=  16.0s\n",
      "[CV 4/5] END bootstrap=True, class_weight=balanced_subsample, criterion=gini, max_features=log2, n_estimators=600, oob_score=False;, score=0.956 total time=  15.9s\n",
      "[CV 5/5] END bootstrap=True, class_weight=balanced_subsample, criterion=gini, max_features=log2, n_estimators=600, oob_score=False;, score=0.961 total time=  16.2s\n",
      "[CV 1/5] END bootstrap=True, class_weight=balanced_subsample, criterion=gini, max_features=auto, n_estimators=200, oob_score=False;, score=nan total time=   0.0s\n",
      "[CV 2/5] END bootstrap=True, class_weight=balanced_subsample, criterion=gini, max_features=auto, n_estimators=200, oob_score=False;, score=nan total time=   0.0s\n",
      "[CV 3/5] END bootstrap=True, class_weight=balanced_subsample, criterion=gini, max_features=auto, n_estimators=200, oob_score=False;, score=nan total time=   0.0s\n",
      "[CV 4/5] END bootstrap=True, class_weight=balanced_subsample, criterion=gini, max_features=auto, n_estimators=200, oob_score=False;, score=nan total time=   0.0s\n",
      "[CV 5/5] END bootstrap=True, class_weight=balanced_subsample, criterion=gini, max_features=auto, n_estimators=200, oob_score=False;, score=nan total time=   0.0s\n",
      "[CV 1/5] END bootstrap=True, class_weight=balanced, criterion=entropy, max_features=auto, n_estimators=600, oob_score=False;, score=nan total time=   0.0s\n",
      "[CV 2/5] END bootstrap=True, class_weight=balanced, criterion=entropy, max_features=auto, n_estimators=600, oob_score=False;, score=nan total time=   0.0s\n",
      "[CV 3/5] END bootstrap=True, class_weight=balanced, criterion=entropy, max_features=auto, n_estimators=600, oob_score=False;, score=nan total time=   0.0s\n",
      "[CV 4/5] END bootstrap=True, class_weight=balanced, criterion=entropy, max_features=auto, n_estimators=600, oob_score=False;, score=nan total time=   0.0s\n",
      "[CV 5/5] END bootstrap=True, class_weight=balanced, criterion=entropy, max_features=auto, n_estimators=600, oob_score=False;, score=nan total time=   0.0s\n",
      "[CV 1/5] END bootstrap=True, class_weight=balanced_subsample, criterion=log_loss, max_features=log2, n_estimators=1000, oob_score=False;, score=0.961 total time=  27.6s\n",
      "[CV 2/5] END bootstrap=True, class_weight=balanced_subsample, criterion=log_loss, max_features=log2, n_estimators=1000, oob_score=False;, score=0.964 total time=  28.2s\n",
      "[CV 3/5] END bootstrap=True, class_weight=balanced_subsample, criterion=log_loss, max_features=log2, n_estimators=1000, oob_score=False;, score=0.950 total time=  27.7s\n",
      "[CV 4/5] END bootstrap=True, class_weight=balanced_subsample, criterion=log_loss, max_features=log2, n_estimators=1000, oob_score=False;, score=0.958 total time=  27.7s\n",
      "[CV 5/5] END bootstrap=True, class_weight=balanced_subsample, criterion=log_loss, max_features=log2, n_estimators=1000, oob_score=False;, score=0.960 total time=  29.1s\n",
      "[CV 1/5] END bootstrap=True, class_weight=balanced, criterion=gini, max_features=sqrt, n_estimators=1000, oob_score=False;, score=0.961 total time=  25.4s\n",
      "[CV 2/5] END bootstrap=True, class_weight=balanced, criterion=gini, max_features=sqrt, n_estimators=1000, oob_score=False;, score=0.968 total time=  25.6s\n",
      "[CV 3/5] END bootstrap=True, class_weight=balanced, criterion=gini, max_features=sqrt, n_estimators=1000, oob_score=False;, score=0.952 total time=  25.0s\n",
      "[CV 4/5] END bootstrap=True, class_weight=balanced, criterion=gini, max_features=sqrt, n_estimators=1000, oob_score=False;, score=0.957 total time=  25.0s\n",
      "[CV 5/5] END bootstrap=True, class_weight=balanced, criterion=gini, max_features=sqrt, n_estimators=1000, oob_score=False;, score=0.962 total time=  25.9s\n",
      "[CV 1/5] END bootstrap=False, class_weight=balanced, criterion=entropy, max_features=log2, n_estimators=1000, oob_score=True;, score=nan total time=   0.0s\n",
      "[CV 2/5] END bootstrap=False, class_weight=balanced, criterion=entropy, max_features=log2, n_estimators=1000, oob_score=True;, score=nan total time=   0.0s\n",
      "[CV 3/5] END bootstrap=False, class_weight=balanced, criterion=entropy, max_features=log2, n_estimators=1000, oob_score=True;, score=nan total time=   0.0s\n",
      "[CV 4/5] END bootstrap=False, class_weight=balanced, criterion=entropy, max_features=log2, n_estimators=1000, oob_score=True;, score=nan total time=   0.0s\n",
      "[CV 5/5] END bootstrap=False, class_weight=balanced, criterion=entropy, max_features=log2, n_estimators=1000, oob_score=True;, score=nan total time=   0.0s\n",
      "[CV 1/5] END bootstrap=False, class_weight=balanced, criterion=log_loss, max_features=log2, n_estimators=600, oob_score=False;, score=0.964 total time=  26.3s\n",
      "[CV 2/5] END bootstrap=False, class_weight=balanced, criterion=log_loss, max_features=log2, n_estimators=600, oob_score=False;, score=0.971 total time=  26.1s\n",
      "[CV 3/5] END bootstrap=False, class_weight=balanced, criterion=log_loss, max_features=log2, n_estimators=600, oob_score=False;, score=0.957 total time=  25.9s\n",
      "[CV 4/5] END bootstrap=False, class_weight=balanced, criterion=log_loss, max_features=log2, n_estimators=600, oob_score=False;, score=0.961 total time=  26.2s\n",
      "[CV 5/5] END bootstrap=False, class_weight=balanced, criterion=log_loss, max_features=log2, n_estimators=600, oob_score=False;, score=0.966 total time=  26.8s\n",
      "[CV 1/5] END bootstrap=True, class_weight=balanced_subsample, criterion=log_loss, max_features=auto, n_estimators=1000, oob_score=True;, score=nan total time=   0.0s\n",
      "[CV 2/5] END bootstrap=True, class_weight=balanced_subsample, criterion=log_loss, max_features=auto, n_estimators=1000, oob_score=True;, score=nan total time=   0.0s\n",
      "[CV 3/5] END bootstrap=True, class_weight=balanced_subsample, criterion=log_loss, max_features=auto, n_estimators=1000, oob_score=True;, score=nan total time=   0.0s\n",
      "[CV 4/5] END bootstrap=True, class_weight=balanced_subsample, criterion=log_loss, max_features=auto, n_estimators=1000, oob_score=True;, score=nan total time=   0.0s\n",
      "[CV 5/5] END bootstrap=True, class_weight=balanced_subsample, criterion=log_loss, max_features=auto, n_estimators=1000, oob_score=True;, score=nan total time=   0.0s\n",
      "[[1267   67]\n",
      " [  12 1294]]\n",
      "Number of wrong classifiers：79\n",
      "Accuracy score of 'RandomizedSearchCV_RandomForestClassifier': 97.0076%\n"
     ]
    }
   ],
   "source": [
    "# define a parameter grid for fine-tuning the model using RandomizedSearchCV\n",
    "param_grid = {'n_estimators': [200,600,1000],\n",
    "              'criterion': ['gini','entropy','log_loss'],\n",
    "              'max_features': ['auto','sqrt','log2'],\n",
    "              'bootstrap': [True,False],\n",
    "              'oob_score': [True,False],\n",
    "              'class_weight': ['balanced','balanced_subsample']}\n",
    "\n",
    "grid_rf = RandomizedSearchCV(RandomForestClassifier(), param_grid, verbose=3, cv=5)\n",
    "train_and_evaluate_model(grid_rf, 'RandomizedSearchCV_RandomForestClassifier')"
   ]
  },
  {
   "cell_type": "markdown",
   "id": "669c40e4",
   "metadata": {
    "id": "669c40e4"
   },
   "source": [
    "#### 5.2.7 Gradient Boosting Classifier"
   ]
  },
  {
   "cell_type": "code",
   "execution_count": null,
   "id": "42721433",
   "metadata": {
    "id": "42721433",
    "outputId": "16083c79-e318-4cee-a81b-94f3498f57d6",
    "scrolled": true
   },
   "outputs": [
    {
     "name": "stdout",
     "output_type": "stream",
     "text": [
      "[[1206  128]\n",
      " [  63 1243]]\n",
      "Number of wrong classifiers：191\n",
      "Accuracy score of 'GradientBoostingClassifier': 92.7652%\n"
     ]
    }
   ],
   "source": [
    "train_and_evaluate_model(GradientBoostingClassifier(n_estimators=100, random_state=42),\n",
    "                         'GradientBoostingClassifier')"
   ]
  },
  {
   "cell_type": "code",
   "execution_count": null,
   "id": "a765200f",
   "metadata": {
    "id": "a765200f",
    "outputId": "a8ae4771-0dac-4d86-adf6-891bb6e9882c",
    "scrolled": true
   },
   "outputs": [
    {
     "name": "stdout",
     "output_type": "stream",
     "text": [
      "Fitting 5 folds for each of 10 candidates, totalling 50 fits\n",
      "[CV 1/5] END criterion=absolute_error, learning_rate=1, loss=log_loss, max_features=auto, n_estimators=600;, score=nan total time=   0.0s\n",
      "[CV 2/5] END criterion=absolute_error, learning_rate=1, loss=log_loss, max_features=auto, n_estimators=600;, score=nan total time=   0.0s\n",
      "[CV 3/5] END criterion=absolute_error, learning_rate=1, loss=log_loss, max_features=auto, n_estimators=600;, score=nan total time=   0.0s\n",
      "[CV 4/5] END criterion=absolute_error, learning_rate=1, loss=log_loss, max_features=auto, n_estimators=600;, score=nan total time=   0.0s\n",
      "[CV 5/5] END criterion=absolute_error, learning_rate=1, loss=log_loss, max_features=auto, n_estimators=600;, score=nan total time=   0.0s\n",
      "[CV 1/5] END criterion=absolute_error, learning_rate=0.5, loss=deviance, max_features=auto, n_estimators=1000;, score=nan total time=   0.0s\n",
      "[CV 2/5] END criterion=absolute_error, learning_rate=0.5, loss=deviance, max_features=auto, n_estimators=1000;, score=nan total time=   0.0s\n",
      "[CV 3/5] END criterion=absolute_error, learning_rate=0.5, loss=deviance, max_features=auto, n_estimators=1000;, score=nan total time=   0.0s\n",
      "[CV 4/5] END criterion=absolute_error, learning_rate=0.5, loss=deviance, max_features=auto, n_estimators=1000;, score=nan total time=   0.0s\n",
      "[CV 5/5] END criterion=absolute_error, learning_rate=0.5, loss=deviance, max_features=auto, n_estimators=1000;, score=nan total time=   0.0s\n",
      "[CV 1/5] END criterion=squared_error, learning_rate=1, loss=exponential, max_features=log2, n_estimators=600;, score=0.958 total time=   6.5s\n",
      "[CV 2/5] END criterion=squared_error, learning_rate=1, loss=exponential, max_features=log2, n_estimators=600;, score=0.963 total time=   6.0s\n",
      "[CV 3/5] END criterion=squared_error, learning_rate=1, loss=exponential, max_features=log2, n_estimators=600;, score=0.958 total time=   6.3s\n",
      "[CV 4/5] END criterion=squared_error, learning_rate=1, loss=exponential, max_features=log2, n_estimators=600;, score=0.963 total time=   6.1s\n",
      "[CV 5/5] END criterion=squared_error, learning_rate=1, loss=exponential, max_features=log2, n_estimators=600;, score=0.962 total time=   6.0s\n",
      "[CV 1/5] END criterion=friedman_mse, learning_rate=0.2, loss=log_loss, max_features=sqrt, n_estimators=200;, score=0.951 total time=   2.1s\n",
      "[CV 2/5] END criterion=friedman_mse, learning_rate=0.2, loss=log_loss, max_features=sqrt, n_estimators=200;, score=0.956 total time=   2.1s\n",
      "[CV 3/5] END criterion=friedman_mse, learning_rate=0.2, loss=log_loss, max_features=sqrt, n_estimators=200;, score=0.947 total time=   2.1s\n",
      "[CV 4/5] END criterion=friedman_mse, learning_rate=0.2, loss=log_loss, max_features=sqrt, n_estimators=200;, score=0.947 total time=   2.1s\n",
      "[CV 5/5] END criterion=friedman_mse, learning_rate=0.2, loss=log_loss, max_features=sqrt, n_estimators=200;, score=0.951 total time=   2.2s\n",
      "[CV 1/5] END criterion=squared_error, learning_rate=0.5, loss=exponential, max_features=sqrt, n_estimators=1000;, score=0.965 total time=  10.7s\n",
      "[CV 2/5] END criterion=squared_error, learning_rate=0.5, loss=exponential, max_features=sqrt, n_estimators=1000;, score=0.964 total time=  10.4s\n",
      "[CV 3/5] END criterion=squared_error, learning_rate=0.5, loss=exponential, max_features=sqrt, n_estimators=1000;, score=0.959 total time=  10.4s\n",
      "[CV 4/5] END criterion=squared_error, learning_rate=0.5, loss=exponential, max_features=sqrt, n_estimators=1000;, score=0.968 total time=  10.5s\n",
      "[CV 5/5] END criterion=squared_error, learning_rate=0.5, loss=exponential, max_features=sqrt, n_estimators=1000;, score=0.964 total time=  10.3s\n",
      "[CV 1/5] END criterion=absolute_error, learning_rate=0.8, loss=log_loss, max_features=auto, n_estimators=600;, score=nan total time=   0.0s\n",
      "[CV 2/5] END criterion=absolute_error, learning_rate=0.8, loss=log_loss, max_features=auto, n_estimators=600;, score=nan total time=   0.0s\n",
      "[CV 3/5] END criterion=absolute_error, learning_rate=0.8, loss=log_loss, max_features=auto, n_estimators=600;, score=nan total time=   0.0s\n",
      "[CV 4/5] END criterion=absolute_error, learning_rate=0.8, loss=log_loss, max_features=auto, n_estimators=600;, score=nan total time=   0.0s\n",
      "[CV 5/5] END criterion=absolute_error, learning_rate=0.8, loss=log_loss, max_features=auto, n_estimators=600;, score=nan total time=   0.0s\n",
      "[CV 1/5] END criterion=friedman_mse, learning_rate=0.5, loss=log_loss, max_features=auto, n_estimators=1000;, score=nan total time=   0.0s\n",
      "[CV 2/5] END criterion=friedman_mse, learning_rate=0.5, loss=log_loss, max_features=auto, n_estimators=1000;, score=nan total time=   0.0s\n",
      "[CV 3/5] END criterion=friedman_mse, learning_rate=0.5, loss=log_loss, max_features=auto, n_estimators=1000;, score=nan total time=   0.0s\n",
      "[CV 4/5] END criterion=friedman_mse, learning_rate=0.5, loss=log_loss, max_features=auto, n_estimators=1000;, score=nan total time=   0.0s\n",
      "[CV 5/5] END criterion=friedman_mse, learning_rate=0.5, loss=log_loss, max_features=auto, n_estimators=1000;, score=nan total time=   0.0s\n",
      "[CV 1/5] END criterion=absolute_error, learning_rate=1, loss=exponential, max_features=sqrt, n_estimators=1000;, score=nan total time=   0.0s\n",
      "[CV 2/5] END criterion=absolute_error, learning_rate=1, loss=exponential, max_features=sqrt, n_estimators=1000;, score=nan total time=   0.0s\n",
      "[CV 3/5] END criterion=absolute_error, learning_rate=1, loss=exponential, max_features=sqrt, n_estimators=1000;, score=nan total time=   0.0s\n",
      "[CV 4/5] END criterion=absolute_error, learning_rate=1, loss=exponential, max_features=sqrt, n_estimators=1000;, score=nan total time=   0.0s\n",
      "[CV 5/5] END criterion=absolute_error, learning_rate=1, loss=exponential, max_features=sqrt, n_estimators=1000;, score=nan total time=   0.0s\n",
      "[CV 1/5] END criterion=squared_error, learning_rate=0.2, loss=log_loss, max_features=log2, n_estimators=200;, score=0.942 total time=   2.1s\n",
      "[CV 2/5] END criterion=squared_error, learning_rate=0.2, loss=log_loss, max_features=log2, n_estimators=200;, score=0.959 total time=   2.1s\n",
      "[CV 3/5] END criterion=squared_error, learning_rate=0.2, loss=log_loss, max_features=log2, n_estimators=200;, score=0.946 total time=   2.2s\n",
      "[CV 4/5] END criterion=squared_error, learning_rate=0.2, loss=log_loss, max_features=log2, n_estimators=200;, score=0.949 total time=   2.1s\n",
      "[CV 5/5] END criterion=squared_error, learning_rate=0.2, loss=log_loss, max_features=log2, n_estimators=200;, score=0.952 total time=   2.1s\n",
      "[CV 1/5] END criterion=absolute_error, learning_rate=0.2, loss=exponential, max_features=sqrt, n_estimators=1000;, score=nan total time=   0.0s\n",
      "[CV 2/5] END criterion=absolute_error, learning_rate=0.2, loss=exponential, max_features=sqrt, n_estimators=1000;, score=nan total time=   0.0s\n",
      "[CV 3/5] END criterion=absolute_error, learning_rate=0.2, loss=exponential, max_features=sqrt, n_estimators=1000;, score=nan total time=   0.0s\n",
      "[CV 4/5] END criterion=absolute_error, learning_rate=0.2, loss=exponential, max_features=sqrt, n_estimators=1000;, score=nan total time=   0.0s\n",
      "[CV 5/5] END criterion=absolute_error, learning_rate=0.2, loss=exponential, max_features=sqrt, n_estimators=1000;, score=nan total time=   0.0s\n",
      "[[1263   71]\n",
      " [  11 1295]]\n",
      "Number of wrong classifiers：82\n",
      "Accuracy score of 'RandomizedSearchCV_GradientBoostingClassifier': 96.8939%\n"
     ]
    }
   ],
   "source": [
    "# define a parameter grid for fine-tuning the model using RandomizedSearchCV\n",
    "param_grid = {'loss': ['log_loss','deviance','exponential'],\n",
    "              'n_estimators': [200,600,1000],\n",
    "              'learning_rate': [0.2,0.5,0.8,1],\n",
    "              'criterion': ['absolute_error','friedman_mse', 'squared_error'],\n",
    "              'max_features': ['auto','sqrt','log2']\n",
    "             }\n",
    "\n",
    "grid_gb = RandomizedSearchCV(GradientBoostingClassifier(),param_grid, verbose=3, cv=5)\n",
    "train_and_evaluate_model(grid_gb,'RandomizedSearchCV_GradientBoostingClassifier')"
   ]
  },
  {
   "cell_type": "markdown",
   "id": "eccfb4d3",
   "metadata": {
    "id": "eccfb4d3"
   },
   "source": [
    "#### 5.2.8 Extreme Gradient Boosting Classifier"
   ]
  },
  {
   "cell_type": "code",
   "execution_count": null,
   "id": "38aaa684",
   "metadata": {
    "id": "38aaa684",
    "outputId": "e732be4e-e407-467f-98ac-fbd3c85f390c"
   },
   "outputs": [
    {
     "name": "stdout",
     "output_type": "stream",
     "text": [
      "[[1258   76]\n",
      " [  13 1293]]\n",
      "Number of wrong classifiers：89\n",
      "Accuracy score of 'XGBoostingClassifier': 96.6288%\n"
     ]
    }
   ],
   "source": [
    "train_and_evaluate_model(XGBClassifier(n_estimators = 100, random_state = 42),\n",
    "                         'XGBoostingClassifier')"
   ]
  },
  {
   "cell_type": "code",
   "execution_count": null,
   "id": "4081a7d0",
   "metadata": {
    "id": "4081a7d0",
    "outputId": "4d997388-dc68-4066-fd8e-1eff5f9aedd5",
    "scrolled": true
   },
   "outputs": [
    {
     "name": "stdout",
     "output_type": "stream",
     "text": [
      "Fitting 5 folds for each of 10 candidates, totalling 50 fits\n",
      "[CV 1/5] END booster=gblinear, grow_policy=1, importance_type=total_cover, learning_rate=0.2, n_estimators=1000, sampling_method=gradient_based;, score=0.897 total time=   0.9s\n",
      "[CV 2/5] END booster=gblinear, grow_policy=1, importance_type=total_cover, learning_rate=0.2, n_estimators=1000, sampling_method=gradient_based;, score=0.912 total time=   0.9s\n",
      "[CV 3/5] END booster=gblinear, grow_policy=1, importance_type=total_cover, learning_rate=0.2, n_estimators=1000, sampling_method=gradient_based;, score=0.910 total time=   1.0s\n",
      "[CV 4/5] END booster=gblinear, grow_policy=1, importance_type=total_cover, learning_rate=0.2, n_estimators=1000, sampling_method=gradient_based;, score=0.896 total time=   0.9s\n",
      "[CV 5/5] END booster=gblinear, grow_policy=1, importance_type=total_cover, learning_rate=0.2, n_estimators=1000, sampling_method=gradient_based;, score=0.907 total time=   1.0s\n",
      "[CV 1/5] END booster=gblinear, grow_policy=1, importance_type=total_cover, learning_rate=0.8, n_estimators=200, sampling_method=uniform;, score=0.896 total time=   0.2s\n",
      "[CV 2/5] END booster=gblinear, grow_policy=1, importance_type=total_cover, learning_rate=0.8, n_estimators=200, sampling_method=uniform;, score=0.912 total time=   0.2s\n",
      "[CV 3/5] END booster=gblinear, grow_policy=1, importance_type=total_cover, learning_rate=0.8, n_estimators=200, sampling_method=uniform;, score=0.912 total time=   0.2s\n",
      "[CV 4/5] END booster=gblinear, grow_policy=1, importance_type=total_cover, learning_rate=0.8, n_estimators=200, sampling_method=uniform;, score=0.897 total time=   0.2s\n",
      "[CV 5/5] END booster=gblinear, grow_policy=1, importance_type=total_cover, learning_rate=0.8, n_estimators=200, sampling_method=uniform;, score=0.908 total time=   0.2s\n",
      "[CV 1/5] END booster=dart, grow_policy=0, importance_type=cover, learning_rate=1, n_estimators=600, sampling_method=gradient_based;, score=nan total time=   0.0s\n",
      "[CV 2/5] END booster=dart, grow_policy=0, importance_type=cover, learning_rate=1, n_estimators=600, sampling_method=gradient_based;, score=nan total time=   0.0s\n",
      "[CV 3/5] END booster=dart, grow_policy=0, importance_type=cover, learning_rate=1, n_estimators=600, sampling_method=gradient_based;, score=nan total time=   0.0s\n",
      "[CV 4/5] END booster=dart, grow_policy=0, importance_type=cover, learning_rate=1, n_estimators=600, sampling_method=gradient_based;, score=nan total time=   0.0s\n",
      "[CV 5/5] END booster=dart, grow_policy=0, importance_type=cover, learning_rate=1, n_estimators=600, sampling_method=gradient_based;, score=nan total time=   0.0s\n",
      "[CV 1/5] END booster=gbtree, grow_policy=1, importance_type=total_gain, learning_rate=0.5, n_estimators=200, sampling_method=uniform;, score=nan total time=   0.0s\n",
      "[CV 2/5] END booster=gbtree, grow_policy=1, importance_type=total_gain, learning_rate=0.5, n_estimators=200, sampling_method=uniform;, score=nan total time=   0.0s\n",
      "[CV 3/5] END booster=gbtree, grow_policy=1, importance_type=total_gain, learning_rate=0.5, n_estimators=200, sampling_method=uniform;, score=nan total time=   0.0s\n",
      "[CV 4/5] END booster=gbtree, grow_policy=1, importance_type=total_gain, learning_rate=0.5, n_estimators=200, sampling_method=uniform;, score=nan total time=   0.0s\n",
      "[CV 5/5] END booster=gbtree, grow_policy=1, importance_type=total_gain, learning_rate=0.5, n_estimators=200, sampling_method=uniform;, score=nan total time=   0.0s\n",
      "[CV 1/5] END booster=dart, grow_policy=1, importance_type=weight, learning_rate=0.8, n_estimators=600, sampling_method=gradient_based;, score=nan total time=   0.0s\n",
      "[CV 2/5] END booster=dart, grow_policy=1, importance_type=weight, learning_rate=0.8, n_estimators=600, sampling_method=gradient_based;, score=nan total time=   0.0s\n",
      "[CV 3/5] END booster=dart, grow_policy=1, importance_type=weight, learning_rate=0.8, n_estimators=600, sampling_method=gradient_based;, score=nan total time=   0.0s\n",
      "[CV 4/5] END booster=dart, grow_policy=1, importance_type=weight, learning_rate=0.8, n_estimators=600, sampling_method=gradient_based;, score=nan total time=   0.0s\n",
      "[CV 5/5] END booster=dart, grow_policy=1, importance_type=weight, learning_rate=0.8, n_estimators=600, sampling_method=gradient_based;, score=nan total time=   0.0s\n",
      "[CV 1/5] END booster=gbtree, grow_policy=1, importance_type=total_gain, learning_rate=1, n_estimators=200, sampling_method=gradient_based;, score=nan total time=   0.0s\n",
      "[CV 2/5] END booster=gbtree, grow_policy=1, importance_type=total_gain, learning_rate=1, n_estimators=200, sampling_method=gradient_based;, score=nan total time=   0.0s\n",
      "[CV 3/5] END booster=gbtree, grow_policy=1, importance_type=total_gain, learning_rate=1, n_estimators=200, sampling_method=gradient_based;, score=nan total time=   0.0s\n",
      "[CV 4/5] END booster=gbtree, grow_policy=1, importance_type=total_gain, learning_rate=1, n_estimators=200, sampling_method=gradient_based;, score=nan total time=   0.0s\n",
      "[CV 5/5] END booster=gbtree, grow_policy=1, importance_type=total_gain, learning_rate=1, n_estimators=200, sampling_method=gradient_based;, score=nan total time=   0.0s\n",
      "[CV 1/5] END booster=dart, grow_policy=0, importance_type=total_gain, learning_rate=0.2, n_estimators=200, sampling_method=gradient_based;, score=nan total time=   0.0s\n",
      "[CV 2/5] END booster=dart, grow_policy=0, importance_type=total_gain, learning_rate=0.2, n_estimators=200, sampling_method=gradient_based;, score=nan total time=   0.0s\n",
      "[CV 3/5] END booster=dart, grow_policy=0, importance_type=total_gain, learning_rate=0.2, n_estimators=200, sampling_method=gradient_based;, score=nan total time=   0.0s\n",
      "[CV 4/5] END booster=dart, grow_policy=0, importance_type=total_gain, learning_rate=0.2, n_estimators=200, sampling_method=gradient_based;, score=nan total time=   0.0s\n",
      "[CV 5/5] END booster=dart, grow_policy=0, importance_type=total_gain, learning_rate=0.2, n_estimators=200, sampling_method=gradient_based;, score=nan total time=   0.0s\n",
      "[CV 1/5] END booster=gbtree, grow_policy=0, importance_type=gain, learning_rate=0.5, n_estimators=1000, sampling_method=uniform;, score=nan total time=   0.0s\n",
      "[CV 2/5] END booster=gbtree, grow_policy=0, importance_type=gain, learning_rate=0.5, n_estimators=1000, sampling_method=uniform;, score=nan total time=   0.0s\n",
      "[CV 3/5] END booster=gbtree, grow_policy=0, importance_type=gain, learning_rate=0.5, n_estimators=1000, sampling_method=uniform;, score=nan total time=   0.0s\n",
      "[CV 4/5] END booster=gbtree, grow_policy=0, importance_type=gain, learning_rate=0.5, n_estimators=1000, sampling_method=uniform;, score=nan total time=   0.0s\n",
      "[CV 5/5] END booster=gbtree, grow_policy=0, importance_type=gain, learning_rate=0.5, n_estimators=1000, sampling_method=uniform;, score=nan total time=   0.0s\n",
      "[CV 1/5] END booster=gblinear, grow_policy=0, importance_type=cover, learning_rate=0.2, n_estimators=200, sampling_method=gradient_based;, score=0.897 total time=   0.2s\n",
      "[CV 2/5] END booster=gblinear, grow_policy=0, importance_type=cover, learning_rate=0.2, n_estimators=200, sampling_method=gradient_based;, score=0.912 total time=   0.2s\n",
      "[CV 3/5] END booster=gblinear, grow_policy=0, importance_type=cover, learning_rate=0.2, n_estimators=200, sampling_method=gradient_based;, score=0.909 total time=   0.2s\n",
      "[CV 4/5] END booster=gblinear, grow_policy=0, importance_type=cover, learning_rate=0.2, n_estimators=200, sampling_method=gradient_based;, score=0.892 total time=   0.2s\n",
      "[CV 5/5] END booster=gblinear, grow_policy=0, importance_type=cover, learning_rate=0.2, n_estimators=200, sampling_method=gradient_based;, score=0.904 total time=   0.2s\n",
      "[CV 1/5] END booster=gblinear, grow_policy=0, importance_type=total_gain, learning_rate=1, n_estimators=1000, sampling_method=gradient_based;, score=0.501 total time=   0.8s\n",
      "[CV 2/5] END booster=gblinear, grow_policy=0, importance_type=total_gain, learning_rate=1, n_estimators=1000, sampling_method=gradient_based;, score=0.499 total time=   0.8s\n",
      "[CV 3/5] END booster=gblinear, grow_policy=0, importance_type=total_gain, learning_rate=1, n_estimators=1000, sampling_method=gradient_based;, score=0.499 total time=   0.8s\n",
      "[CV 4/5] END booster=gblinear, grow_policy=0, importance_type=total_gain, learning_rate=1, n_estimators=1000, sampling_method=gradient_based;, score=0.501 total time=   0.8s\n"
     ]
    },
    {
     "name": "stdout",
     "output_type": "stream",
     "text": [
      "[CV 5/5] END booster=gblinear, grow_policy=0, importance_type=total_gain, learning_rate=1, n_estimators=1000, sampling_method=gradient_based;, score=0.499 total time=   0.8s\n",
      "[[1192  142]\n",
      " [ 108 1198]]\n",
      "Number of wrong classifiers：250\n",
      "Accuracy score of 'RandomizedSearchCV_XGBClassifier': 90.5303%\n"
     ]
    }
   ],
   "source": [
    "# define a parameter grid for fine-tuning the model using RandomizedSearchCV\n",
    "param_grid = {\n",
    "    'n_estimators': [200,600,1000],\n",
    "    'learning_rate': [0.2,0.5,0.8,1],\n",
    "    'booster': ['gbtree','gblinear','dart'],\n",
    "    'importance_type': ['gain','weight','cover','total_gain','total_cover'],\n",
    "    'sampling_method': ['uniform','gradient_based'],\n",
    "    'grow_policy': [0,1]\n",
    "}\n",
    "\n",
    "grid_xgb = RandomizedSearchCV(XGBClassifier(), param_grid, verbose=3, cv=5)\n",
    "train_and_evaluate_model(grid_xgb, 'RandomizedSearchCV_XGBClassifier')"
   ]
  },
  {
   "cell_type": "markdown",
   "id": "672f0698",
   "metadata": {
    "id": "672f0698"
   },
   "source": [
    "#### 5.2.9 Extreme Gradient Boosting Random Forest Classifier"
   ]
  },
  {
   "cell_type": "code",
   "execution_count": null,
   "id": "e0617525",
   "metadata": {
    "id": "e0617525",
    "outputId": "f69cadce-1795-4a51-e578-52d9ab9a2d33"
   },
   "outputs": [
    {
     "name": "stdout",
     "output_type": "stream",
     "text": [
      "[[1211  123]\n",
      " [  70 1236]]\n",
      "Number of wrong classifiers：193\n",
      "Accuracy score of 'XGBRFClassifier': 92.6894%\n"
     ]
    }
   ],
   "source": [
    "train_and_evaluate_model(XGBRFClassifier(), 'XGBRFClassifier')"
   ]
  },
  {
   "cell_type": "markdown",
   "id": "dab85ee4",
   "metadata": {
    "id": "dab85ee4"
   },
   "source": [
    "#### 5.2.10 Hard Voting"
   ]
  },
  {
   "cell_type": "code",
   "execution_count": null,
   "id": "e92aa1c6",
   "metadata": {
    "id": "e92aa1c6",
    "outputId": "f5808f2d-ba8c-4e35-9f93-7243cd939ece"
   },
   "outputs": [
    {
     "name": "stdout",
     "output_type": "stream",
     "text": [
      "[[1239   95]\n",
      " [  21 1285]]\n",
      "Number of wrong classifiers：116\n",
      "Accuracy score of 'VotingClassifier': 95.6061%\n"
     ]
    }
   ],
   "source": [
    "train_and_evaluate_model(VotingClassifier(estimators=[\n",
    "    ('DT', DecisionTreeClassifier(max_depth=30,random_state=1)),\n",
    "    ('RF', RandomForestClassifier(n_estimators = 100,random_state=42)),\n",
    "    ('SVC', SVC(kernel = 'linear', C = 2.0, random_state=1)),\n",
    "    ('GB', GradientBoostingClassifier(n_estimators=100, random_state=42)),\n",
    "    ('XGB', XGBClassifier(n_estimators=100, random_state=42)),],\n",
    "                 voting = 'hard'), 'VotingClassifier')"
   ]
  },
  {
   "cell_type": "code",
   "execution_count": null,
   "id": "62918153",
   "metadata": {
    "id": "62918153",
    "outputId": "bf4ec88e-6543-47f5-a82c-5b193685e505"
   },
   "outputs": [
    {
     "data": {
      "text/html": [
       "<div>\n",
       "<style scoped>\n",
       "    .dataframe tbody tr th:only-of-type {\n",
       "        vertical-align: middle;\n",
       "    }\n",
       "\n",
       "    .dataframe tbody tr th {\n",
       "        vertical-align: top;\n",
       "    }\n",
       "\n",
       "    .dataframe thead th {\n",
       "        text-align: right;\n",
       "    }\n",
       "</style>\n",
       "<table border=\"1\" class=\"dataframe\">\n",
       "  <thead>\n",
       "    <tr style=\"text-align: right;\">\n",
       "      <th></th>\n",
       "      <th>Model</th>\n",
       "      <th>Accuracy</th>\n",
       "      <th>Precision</th>\n",
       "      <th>Recall</th>\n",
       "      <th>F1</th>\n",
       "      <th>ROC-AUC</th>\n",
       "    </tr>\n",
       "  </thead>\n",
       "  <tbody>\n",
       "    <tr>\n",
       "      <th>0</th>\n",
       "      <td>RandomizedSearchCV_RandomForestClassifier</td>\n",
       "      <td>0.970076</td>\n",
       "      <td>0.970695</td>\n",
       "      <td>0.970293</td>\n",
       "      <td>0.970073</td>\n",
       "      <td>0.970293</td>\n",
       "    </tr>\n",
       "    <tr>\n",
       "      <th>1</th>\n",
       "      <td>RandomizedSearchCV_GradientBoostingClassifier</td>\n",
       "      <td>0.968939</td>\n",
       "      <td>0.969695</td>\n",
       "      <td>0.969177</td>\n",
       "      <td>0.968935</td>\n",
       "      <td>0.969177</td>\n",
       "    </tr>\n",
       "    <tr>\n",
       "      <th>2</th>\n",
       "      <td>XGBoostingClassifier</td>\n",
       "      <td>0.966288</td>\n",
       "      <td>0.967128</td>\n",
       "      <td>0.966537</td>\n",
       "      <td>0.966282</td>\n",
       "      <td>0.966537</td>\n",
       "    </tr>\n",
       "    <tr>\n",
       "      <th>3</th>\n",
       "      <td>RandomizedSearchCV_KNeighborsClassifier</td>\n",
       "      <td>0.963636</td>\n",
       "      <td>0.965226</td>\n",
       "      <td>0.963970</td>\n",
       "      <td>0.963620</td>\n",
       "      <td>0.963970</td>\n",
       "    </tr>\n",
       "    <tr>\n",
       "      <th>4</th>\n",
       "      <td>RandomForestClassifier</td>\n",
       "      <td>0.962879</td>\n",
       "      <td>0.963571</td>\n",
       "      <td>0.963108</td>\n",
       "      <td>0.962874</td>\n",
       "      <td>0.963108</td>\n",
       "    </tr>\n",
       "    <tr>\n",
       "      <th>5</th>\n",
       "      <td>VotingClassifier</td>\n",
       "      <td>0.956061</td>\n",
       "      <td>0.957246</td>\n",
       "      <td>0.956353</td>\n",
       "      <td>0.956047</td>\n",
       "      <td>0.956353</td>\n",
       "    </tr>\n",
       "    <tr>\n",
       "      <th>6</th>\n",
       "      <td>KNeighborsClassifier</td>\n",
       "      <td>0.937879</td>\n",
       "      <td>0.941884</td>\n",
       "      <td>0.938402</td>\n",
       "      <td>0.937782</td>\n",
       "      <td>0.938402</td>\n",
       "    </tr>\n",
       "    <tr>\n",
       "      <th>7</th>\n",
       "      <td>RandomizedSearchCV_DecisionTreeClassifier</td>\n",
       "      <td>0.934470</td>\n",
       "      <td>0.934510</td>\n",
       "      <td>0.934547</td>\n",
       "      <td>0.934469</td>\n",
       "      <td>0.934547</td>\n",
       "    </tr>\n",
       "    <tr>\n",
       "      <th>8</th>\n",
       "      <td>DecisionTreeClassifier</td>\n",
       "      <td>0.933712</td>\n",
       "      <td>0.933852</td>\n",
       "      <td>0.933829</td>\n",
       "      <td>0.933712</td>\n",
       "      <td>0.933829</td>\n",
       "    </tr>\n",
       "    <tr>\n",
       "      <th>9</th>\n",
       "      <td>GradientBoostingClassifier</td>\n",
       "      <td>0.927652</td>\n",
       "      <td>0.928496</td>\n",
       "      <td>0.927905</td>\n",
       "      <td>0.927637</td>\n",
       "      <td>0.927905</td>\n",
       "    </tr>\n",
       "    <tr>\n",
       "      <th>10</th>\n",
       "      <td>XGBRFClassifier</td>\n",
       "      <td>0.926894</td>\n",
       "      <td>0.927424</td>\n",
       "      <td>0.927099</td>\n",
       "      <td>0.926887</td>\n",
       "      <td>0.927099</td>\n",
       "    </tr>\n",
       "    <tr>\n",
       "      <th>11</th>\n",
       "      <td>RandomizedSearchCV_SVC</td>\n",
       "      <td>0.925000</td>\n",
       "      <td>0.927067</td>\n",
       "      <td>0.925385</td>\n",
       "      <td>0.924947</td>\n",
       "      <td>0.925385</td>\n",
       "    </tr>\n",
       "    <tr>\n",
       "      <th>12</th>\n",
       "      <td>Support Vector Machine</td>\n",
       "      <td>0.908333</td>\n",
       "      <td>0.909295</td>\n",
       "      <td>0.908604</td>\n",
       "      <td>0.908310</td>\n",
       "      <td>0.908604</td>\n",
       "    </tr>\n",
       "    <tr>\n",
       "      <th>13</th>\n",
       "      <td>RandomizedSearchCV_XGBClassifier</td>\n",
       "      <td>0.905303</td>\n",
       "      <td>0.905476</td>\n",
       "      <td>0.905429</td>\n",
       "      <td>0.905303</td>\n",
       "      <td>0.905429</td>\n",
       "    </tr>\n",
       "    <tr>\n",
       "      <th>14</th>\n",
       "      <td>LogisticRegression</td>\n",
       "      <td>0.904545</td>\n",
       "      <td>0.904807</td>\n",
       "      <td>0.904695</td>\n",
       "      <td>0.904543</td>\n",
       "      <td>0.904695</td>\n",
       "    </tr>\n",
       "    <tr>\n",
       "      <th>15</th>\n",
       "      <td>RandomizedSearchCV_LogisticRegression</td>\n",
       "      <td>0.897727</td>\n",
       "      <td>0.898670</td>\n",
       "      <td>0.897997</td>\n",
       "      <td>0.897701</td>\n",
       "      <td>0.897997</td>\n",
       "    </tr>\n",
       "    <tr>\n",
       "      <th>16</th>\n",
       "      <td>SGDClassifier</td>\n",
       "      <td>0.892424</td>\n",
       "      <td>0.892424</td>\n",
       "      <td>0.892468</td>\n",
       "      <td>0.892421</td>\n",
       "      <td>0.892468</td>\n",
       "    </tr>\n",
       "  </tbody>\n",
       "</table>\n",
       "</div>"
      ],
      "text/plain": [
       "                                            Model  Accuracy  Precision  \\\n",
       "0       RandomizedSearchCV_RandomForestClassifier  0.970076   0.970695   \n",
       "1   RandomizedSearchCV_GradientBoostingClassifier  0.968939   0.969695   \n",
       "2                            XGBoostingClassifier  0.966288   0.967128   \n",
       "3         RandomizedSearchCV_KNeighborsClassifier  0.963636   0.965226   \n",
       "4                          RandomForestClassifier  0.962879   0.963571   \n",
       "5                                VotingClassifier  0.956061   0.957246   \n",
       "6                            KNeighborsClassifier  0.937879   0.941884   \n",
       "7       RandomizedSearchCV_DecisionTreeClassifier  0.934470   0.934510   \n",
       "8                          DecisionTreeClassifier  0.933712   0.933852   \n",
       "9                      GradientBoostingClassifier  0.927652   0.928496   \n",
       "10                                XGBRFClassifier  0.926894   0.927424   \n",
       "11                         RandomizedSearchCV_SVC  0.925000   0.927067   \n",
       "12                         Support Vector Machine  0.908333   0.909295   \n",
       "13               RandomizedSearchCV_XGBClassifier  0.905303   0.905476   \n",
       "14                             LogisticRegression  0.904545   0.904807   \n",
       "15          RandomizedSearchCV_LogisticRegression  0.897727   0.898670   \n",
       "16                                  SGDClassifier  0.892424   0.892424   \n",
       "\n",
       "      Recall        F1   ROC-AUC  \n",
       "0   0.970293  0.970073  0.970293  \n",
       "1   0.969177  0.968935  0.969177  \n",
       "2   0.966537  0.966282  0.966537  \n",
       "3   0.963970  0.963620  0.963970  \n",
       "4   0.963108  0.962874  0.963108  \n",
       "5   0.956353  0.956047  0.956353  \n",
       "6   0.938402  0.937782  0.938402  \n",
       "7   0.934547  0.934469  0.934547  \n",
       "8   0.933829  0.933712  0.933829  \n",
       "9   0.927905  0.927637  0.927905  \n",
       "10  0.927099  0.926887  0.927099  \n",
       "11  0.925385  0.924947  0.925385  \n",
       "12  0.908604  0.908310  0.908604  \n",
       "13  0.905429  0.905303  0.905429  \n",
       "14  0.904695  0.904543  0.904695  \n",
       "15  0.897997  0.897701  0.897997  \n",
       "16  0.892468  0.892421  0.892468  "
      ]
     },
     "execution_count": 42,
     "metadata": {},
     "output_type": "execute_result"
    }
   ],
   "source": [
    "# Create a data frame to display scores of models\n",
    "model_perfs = pd.DataFrame({\n",
    "    'Model': models,\n",
    "    'Accuracy': accuracy_scores,\n",
    "    'Precision': precision_scores,\n",
    "    'Recall': recall_scores,\n",
    "    'F1': f1_scores,\n",
    "    'ROC-AUC': roc_auc_scores\n",
    "})\n",
    "\n",
    "# Sort by 'Accuracy' in descending order and reset the index\n",
    "model_perfs = model_perfs.sort_values('Accuracy', ascending=False).reset_index(drop=True)\n",
    "\n",
    "model_perfs"
   ]
  },
  {
   "cell_type": "markdown",
   "id": "4f5fd7b6",
   "metadata": {
    "id": "4f5fd7b6"
   },
   "source": [
    "### 5.3 Evaluating estimator performance of the best model  <a name=\"part53\"></a>"
   ]
  },
  {
   "cell_type": "code",
   "execution_count": null,
   "id": "c673f4ae",
   "metadata": {
    "id": "c673f4ae",
    "outputId": "b0706442-58b3-4fbc-e171-1771d2922acf"
   },
   "outputs": [
    {
     "data": {
      "text/plain": [
       "'RandomizedSearchCV_RandomForestClassifier'"
      ]
     },
     "execution_count": 43,
     "metadata": {},
     "output_type": "execute_result"
    }
   ],
   "source": [
    "best_model = model_perfs.iloc[0]['Model']\n",
    "best_model"
   ]
  },
  {
   "cell_type": "markdown",
   "id": "e93c5383",
   "metadata": {
    "id": "e93c5383"
   },
   "source": [
    "Even after completing hyperparameter tuning for all the models, none achieved an accuracy score as high as the `RandomizedSearchCV_RandomForestClassifier`. Therefore, it remains the best-performing model.\n",
    "\n",
    "And evaluating a fine-tuned model using cross-validation ensures that the model's performance metrics are robust, reliable, and generalizable to new data. This step is essential to validate that the hyper-parameter tuning process has indeed improved the model. "
   ]
  },
  {
   "cell_type": "code",
   "execution_count": null,
   "id": "234d8acf",
   "metadata": {
    "id": "234d8acf",
    "outputId": "8c604372-2970-41da-dda5-28b735ca82fb",
    "scrolled": true
   },
   "outputs": [
    {
     "name": "stdout",
     "output_type": "stream",
     "text": [
      "Fitting 5 folds for each of 10 candidates, totalling 50 fits\n",
      "[CV 1/5] END bootstrap=False, class_weight=balanced, criterion=gini, max_features=sqrt, n_estimators=600, oob_score=False;, score=0.939 total time=   3.5s\n",
      "[CV 2/5] END bootstrap=False, class_weight=balanced, criterion=gini, max_features=sqrt, n_estimators=600, oob_score=False;, score=0.953 total time=   3.5s\n",
      "[CV 3/5] END bootstrap=False, class_weight=balanced, criterion=gini, max_features=sqrt, n_estimators=600, oob_score=False;, score=0.917 total time=   3.5s\n",
      "[CV 4/5] END bootstrap=False, class_weight=balanced, criterion=gini, max_features=sqrt, n_estimators=600, oob_score=False;, score=0.934 total time=   3.5s\n",
      "[CV 5/5] END bootstrap=False, class_weight=balanced, criterion=gini, max_features=sqrt, n_estimators=600, oob_score=False;, score=0.934 total time=   3.6s\n",
      "[CV 1/5] END bootstrap=False, class_weight=balanced_subsample, criterion=log_loss, max_features=auto, n_estimators=200, oob_score=False;, score=nan total time=   0.0s\n",
      "[CV 2/5] END bootstrap=False, class_weight=balanced_subsample, criterion=log_loss, max_features=auto, n_estimators=200, oob_score=False;, score=nan total time=   0.0s\n",
      "[CV 3/5] END bootstrap=False, class_weight=balanced_subsample, criterion=log_loss, max_features=auto, n_estimators=200, oob_score=False;, score=nan total time=   0.0s\n",
      "[CV 4/5] END bootstrap=False, class_weight=balanced_subsample, criterion=log_loss, max_features=auto, n_estimators=200, oob_score=False;, score=nan total time=   0.0s\n",
      "[CV 5/5] END bootstrap=False, class_weight=balanced_subsample, criterion=log_loss, max_features=auto, n_estimators=200, oob_score=False;, score=nan total time=   0.0s\n",
      "[CV 1/5] END bootstrap=False, class_weight=balanced, criterion=gini, max_features=auto, n_estimators=200, oob_score=True;, score=nan total time=   0.0s\n",
      "[CV 2/5] END bootstrap=False, class_weight=balanced, criterion=gini, max_features=auto, n_estimators=200, oob_score=True;, score=nan total time=   0.0s\n",
      "[CV 3/5] END bootstrap=False, class_weight=balanced, criterion=gini, max_features=auto, n_estimators=200, oob_score=True;, score=nan total time=   0.0s\n",
      "[CV 4/5] END bootstrap=False, class_weight=balanced, criterion=gini, max_features=auto, n_estimators=200, oob_score=True;, score=nan total time=   0.0s\n",
      "[CV 5/5] END bootstrap=False, class_weight=balanced, criterion=gini, max_features=auto, n_estimators=200, oob_score=True;, score=nan total time=   0.0s\n",
      "[CV 1/5] END bootstrap=False, class_weight=balanced_subsample, criterion=log_loss, max_features=sqrt, n_estimators=600, oob_score=False;, score=0.941 total time=   3.7s\n",
      "[CV 2/5] END bootstrap=False, class_weight=balanced_subsample, criterion=log_loss, max_features=sqrt, n_estimators=600, oob_score=False;, score=0.948 total time=   3.8s\n",
      "[CV 3/5] END bootstrap=False, class_weight=balanced_subsample, criterion=log_loss, max_features=sqrt, n_estimators=600, oob_score=False;, score=0.919 total time=   3.7s\n",
      "[CV 4/5] END bootstrap=False, class_weight=balanced_subsample, criterion=log_loss, max_features=sqrt, n_estimators=600, oob_score=False;, score=0.934 total time=   3.8s\n",
      "[CV 5/5] END bootstrap=False, class_weight=balanced_subsample, criterion=log_loss, max_features=sqrt, n_estimators=600, oob_score=False;, score=0.931 total time=   4.0s\n",
      "[CV 1/5] END bootstrap=True, class_weight=balanced, criterion=entropy, max_features=auto, n_estimators=200, oob_score=True;, score=nan total time=   0.0s\n",
      "[CV 2/5] END bootstrap=True, class_weight=balanced, criterion=entropy, max_features=auto, n_estimators=200, oob_score=True;, score=nan total time=   0.0s\n",
      "[CV 3/5] END bootstrap=True, class_weight=balanced, criterion=entropy, max_features=auto, n_estimators=200, oob_score=True;, score=nan total time=   0.0s\n",
      "[CV 4/5] END bootstrap=True, class_weight=balanced, criterion=entropy, max_features=auto, n_estimators=200, oob_score=True;, score=nan total time=   0.0s\n",
      "[CV 5/5] END bootstrap=True, class_weight=balanced, criterion=entropy, max_features=auto, n_estimators=200, oob_score=True;, score=nan total time=   0.0s\n",
      "[CV 1/5] END bootstrap=True, class_weight=balanced, criterion=gini, max_features=auto, n_estimators=1000, oob_score=True;, score=nan total time=   0.0s\n",
      "[CV 2/5] END bootstrap=True, class_weight=balanced, criterion=gini, max_features=auto, n_estimators=1000, oob_score=True;, score=nan total time=   0.0s\n",
      "[CV 3/5] END bootstrap=True, class_weight=balanced, criterion=gini, max_features=auto, n_estimators=1000, oob_score=True;, score=nan total time=   0.0s\n",
      "[CV 4/5] END bootstrap=True, class_weight=balanced, criterion=gini, max_features=auto, n_estimators=1000, oob_score=True;, score=nan total time=   0.0s\n",
      "[CV 5/5] END bootstrap=True, class_weight=balanced, criterion=gini, max_features=auto, n_estimators=1000, oob_score=True;, score=nan total time=   0.0s\n",
      "[CV 1/5] END bootstrap=False, class_weight=balanced, criterion=log_loss, max_features=sqrt, n_estimators=1000, oob_score=False;, score=0.941 total time=   6.2s\n",
      "[CV 2/5] END bootstrap=False, class_weight=balanced, criterion=log_loss, max_features=sqrt, n_estimators=1000, oob_score=False;, score=0.948 total time=   6.4s\n",
      "[CV 3/5] END bootstrap=False, class_weight=balanced, criterion=log_loss, max_features=sqrt, n_estimators=1000, oob_score=False;, score=0.922 total time=   6.3s\n",
      "[CV 4/5] END bootstrap=False, class_weight=balanced, criterion=log_loss, max_features=sqrt, n_estimators=1000, oob_score=False;, score=0.934 total time=   6.3s\n",
      "[CV 5/5] END bootstrap=False, class_weight=balanced, criterion=log_loss, max_features=sqrt, n_estimators=1000, oob_score=False;, score=0.929 total time=   6.7s\n",
      "[CV 1/5] END bootstrap=True, class_weight=balanced_subsample, criterion=entropy, max_features=sqrt, n_estimators=200, oob_score=True;, score=0.934 total time=   1.0s\n",
      "[CV 2/5] END bootstrap=True, class_weight=balanced_subsample, criterion=entropy, max_features=sqrt, n_estimators=200, oob_score=True;, score=0.950 total time=   1.0s\n",
      "[CV 3/5] END bootstrap=True, class_weight=balanced_subsample, criterion=entropy, max_features=sqrt, n_estimators=200, oob_score=True;, score=0.915 total time=   1.0s\n",
      "[CV 4/5] END bootstrap=True, class_weight=balanced_subsample, criterion=entropy, max_features=sqrt, n_estimators=200, oob_score=True;, score=0.936 total time=   1.0s\n",
      "[CV 5/5] END bootstrap=True, class_weight=balanced_subsample, criterion=entropy, max_features=sqrt, n_estimators=200, oob_score=True;, score=0.924 total time=   1.0s\n",
      "[CV 1/5] END bootstrap=True, class_weight=balanced_subsample, criterion=gini, max_features=sqrt, n_estimators=200, oob_score=False;, score=0.931 total time=   0.9s\n",
      "[CV 2/5] END bootstrap=True, class_weight=balanced_subsample, criterion=gini, max_features=sqrt, n_estimators=200, oob_score=False;, score=0.948 total time=   0.9s\n",
      "[CV 3/5] END bootstrap=True, class_weight=balanced_subsample, criterion=gini, max_features=sqrt, n_estimators=200, oob_score=False;, score=0.915 total time=   0.9s\n",
      "[CV 4/5] END bootstrap=True, class_weight=balanced_subsample, criterion=gini, max_features=sqrt, n_estimators=200, oob_score=False;, score=0.936 total time=   0.9s\n",
      "[CV 5/5] END bootstrap=True, class_weight=balanced_subsample, criterion=gini, max_features=sqrt, n_estimators=200, oob_score=False;, score=0.924 total time=   0.9s\n",
      "[CV 1/5] END bootstrap=False, class_weight=balanced, criterion=entropy, max_features=log2, n_estimators=200, oob_score=True;, score=nan total time=   0.0s\n",
      "[CV 2/5] END bootstrap=False, class_weight=balanced, criterion=entropy, max_features=log2, n_estimators=200, oob_score=True;, score=nan total time=   0.0s\n",
      "[CV 3/5] END bootstrap=False, class_weight=balanced, criterion=entropy, max_features=log2, n_estimators=200, oob_score=True;, score=nan total time=   0.0s\n",
      "[CV 4/5] END bootstrap=False, class_weight=balanced, criterion=entropy, max_features=log2, n_estimators=200, oob_score=True;, score=nan total time=   0.0s\n",
      "[CV 5/5] END bootstrap=False, class_weight=balanced, criterion=entropy, max_features=log2, n_estimators=200, oob_score=True;, score=nan total time=   0.0s\n",
      "[CV] END ................................ score: (test=0.939) total time= 1.4min\n",
      "Fitting 5 folds for each of 10 candidates, totalling 50 fits\n",
      "[CV 1/5] END bootstrap=False, class_weight=balanced_subsample, criterion=gini, max_features=sqrt, n_estimators=1000, oob_score=True;, score=nan total time=   0.0s\n",
      "[CV 2/5] END bootstrap=False, class_weight=balanced_subsample, criterion=gini, max_features=sqrt, n_estimators=1000, oob_score=True;, score=nan total time=   0.0s\n",
      "[CV 3/5] END bootstrap=False, class_weight=balanced_subsample, criterion=gini, max_features=sqrt, n_estimators=1000, oob_score=True;, score=nan total time=   0.0s\n",
      "[CV 4/5] END bootstrap=False, class_weight=balanced_subsample, criterion=gini, max_features=sqrt, n_estimators=1000, oob_score=True;, score=nan total time=   0.0s\n",
      "[CV 5/5] END bootstrap=False, class_weight=balanced_subsample, criterion=gini, max_features=sqrt, n_estimators=1000, oob_score=True;, score=nan total time=   0.0s\n",
      "[CV 1/5] END bootstrap=False, class_weight=balanced, criterion=gini, max_features=log2, n_estimators=1000, oob_score=True;, score=nan total time=   0.0s\n",
      "[CV 2/5] END bootstrap=False, class_weight=balanced, criterion=gini, max_features=log2, n_estimators=1000, oob_score=True;, score=nan total time=   0.0s\n",
      "[CV 3/5] END bootstrap=False, class_weight=balanced, criterion=gini, max_features=log2, n_estimators=1000, oob_score=True;, score=nan total time=   0.0s\n",
      "[CV 4/5] END bootstrap=False, class_weight=balanced, criterion=gini, max_features=log2, n_estimators=1000, oob_score=True;, score=nan total time=   0.0s\n",
      "[CV 5/5] END bootstrap=False, class_weight=balanced, criterion=gini, max_features=log2, n_estimators=1000, oob_score=True;, score=nan total time=   0.0s\n",
      "[CV 1/5] END bootstrap=True, class_weight=balanced, criterion=log_loss, max_features=auto, n_estimators=200, oob_score=True;, score=nan total time=   0.0s\n",
      "[CV 2/5] END bootstrap=True, class_weight=balanced, criterion=log_loss, max_features=auto, n_estimators=200, oob_score=True;, score=nan total time=   0.0s\n",
      "[CV 3/5] END bootstrap=True, class_weight=balanced, criterion=log_loss, max_features=auto, n_estimators=200, oob_score=True;, score=nan total time=   0.0s\n",
      "[CV 4/5] END bootstrap=True, class_weight=balanced, criterion=log_loss, max_features=auto, n_estimators=200, oob_score=True;, score=nan total time=   0.0s\n",
      "[CV 5/5] END bootstrap=True, class_weight=balanced, criterion=log_loss, max_features=auto, n_estimators=200, oob_score=True;, score=nan total time=   0.0s\n",
      "[CV 1/5] END bootstrap=False, class_weight=balanced_subsample, criterion=log_loss, max_features=auto, n_estimators=1000, oob_score=True;, score=nan total time=   0.0s\n",
      "[CV 2/5] END bootstrap=False, class_weight=balanced_subsample, criterion=log_loss, max_features=auto, n_estimators=1000, oob_score=True;, score=nan total time=   0.0s\n",
      "[CV 3/5] END bootstrap=False, class_weight=balanced_subsample, criterion=log_loss, max_features=auto, n_estimators=1000, oob_score=True;, score=nan total time=   0.0s\n",
      "[CV 4/5] END bootstrap=False, class_weight=balanced_subsample, criterion=log_loss, max_features=auto, n_estimators=1000, oob_score=True;, score=nan total time=   0.0s\n",
      "[CV 5/5] END bootstrap=False, class_weight=balanced_subsample, criterion=log_loss, max_features=auto, n_estimators=1000, oob_score=True;, score=nan total time=   0.0s\n"
     ]
    },
    {
     "name": "stdout",
     "output_type": "stream",
     "text": [
      "[CV 1/5] END bootstrap=False, class_weight=balanced, criterion=log_loss, max_features=sqrt, n_estimators=1000, oob_score=False;, score=0.917 total time=   6.3s\n",
      "[CV 2/5] END bootstrap=False, class_weight=balanced, criterion=log_loss, max_features=sqrt, n_estimators=1000, oob_score=False;, score=0.950 total time=   6.4s\n",
      "[CV 3/5] END bootstrap=False, class_weight=balanced, criterion=log_loss, max_features=sqrt, n_estimators=1000, oob_score=False;, score=0.917 total time=   6.2s\n",
      "[CV 4/5] END bootstrap=False, class_weight=balanced, criterion=log_loss, max_features=sqrt, n_estimators=1000, oob_score=False;, score=0.934 total time=   6.2s\n",
      "[CV 5/5] END bootstrap=False, class_weight=balanced, criterion=log_loss, max_features=sqrt, n_estimators=1000, oob_score=False;, score=0.915 total time=   6.6s\n",
      "[CV 1/5] END bootstrap=True, class_weight=balanced_subsample, criterion=log_loss, max_features=log2, n_estimators=1000, oob_score=False;, score=0.915 total time=   4.5s\n",
      "[CV 2/5] END bootstrap=True, class_weight=balanced_subsample, criterion=log_loss, max_features=log2, n_estimators=1000, oob_score=False;, score=0.955 total time=   4.6s\n",
      "[CV 3/5] END bootstrap=True, class_weight=balanced_subsample, criterion=log_loss, max_features=log2, n_estimators=1000, oob_score=False;, score=0.917 total time=   4.4s\n",
      "[CV 4/5] END bootstrap=True, class_weight=balanced_subsample, criterion=log_loss, max_features=log2, n_estimators=1000, oob_score=False;, score=0.936 total time=   4.5s\n",
      "[CV 5/5] END bootstrap=True, class_weight=balanced_subsample, criterion=log_loss, max_features=log2, n_estimators=1000, oob_score=False;, score=0.912 total time=   4.6s\n",
      "[CV 1/5] END bootstrap=True, class_weight=balanced, criterion=gini, max_features=log2, n_estimators=1000, oob_score=False;, score=0.915 total time=   3.8s\n",
      "[CV 2/5] END bootstrap=True, class_weight=balanced, criterion=gini, max_features=log2, n_estimators=1000, oob_score=False;, score=0.957 total time=   3.8s\n",
      "[CV 3/5] END bootstrap=True, class_weight=balanced, criterion=gini, max_features=log2, n_estimators=1000, oob_score=False;, score=0.917 total time=   3.7s\n",
      "[CV 4/5] END bootstrap=True, class_weight=balanced, criterion=gini, max_features=log2, n_estimators=1000, oob_score=False;, score=0.934 total time=   3.7s\n",
      "[CV 5/5] END bootstrap=True, class_weight=balanced, criterion=gini, max_features=log2, n_estimators=1000, oob_score=False;, score=0.912 total time=   3.7s\n",
      "[CV 1/5] END bootstrap=False, class_weight=balanced_subsample, criterion=log_loss, max_features=auto, n_estimators=200, oob_score=True;, score=nan total time=   0.0s\n",
      "[CV 2/5] END bootstrap=False, class_weight=balanced_subsample, criterion=log_loss, max_features=auto, n_estimators=200, oob_score=True;, score=nan total time=   0.0s\n",
      "[CV 3/5] END bootstrap=False, class_weight=balanced_subsample, criterion=log_loss, max_features=auto, n_estimators=200, oob_score=True;, score=nan total time=   0.0s\n",
      "[CV 4/5] END bootstrap=False, class_weight=balanced_subsample, criterion=log_loss, max_features=auto, n_estimators=200, oob_score=True;, score=nan total time=   0.0s\n",
      "[CV 5/5] END bootstrap=False, class_weight=balanced_subsample, criterion=log_loss, max_features=auto, n_estimators=200, oob_score=True;, score=nan total time=   0.0s\n",
      "[CV 1/5] END bootstrap=False, class_weight=balanced_subsample, criterion=gini, max_features=auto, n_estimators=1000, oob_score=False;, score=nan total time=   0.0s\n",
      "[CV 2/5] END bootstrap=False, class_weight=balanced_subsample, criterion=gini, max_features=auto, n_estimators=1000, oob_score=False;, score=nan total time=   0.0s\n",
      "[CV 3/5] END bootstrap=False, class_weight=balanced_subsample, criterion=gini, max_features=auto, n_estimators=1000, oob_score=False;, score=nan total time=   0.0s\n",
      "[CV 4/5] END bootstrap=False, class_weight=balanced_subsample, criterion=gini, max_features=auto, n_estimators=1000, oob_score=False;, score=nan total time=   0.0s\n",
      "[CV 5/5] END bootstrap=False, class_weight=balanced_subsample, criterion=gini, max_features=auto, n_estimators=1000, oob_score=False;, score=nan total time=   0.0s\n",
      "[CV 1/5] END bootstrap=False, class_weight=balanced, criterion=gini, max_features=auto, n_estimators=200, oob_score=False;, score=nan total time=   0.0s\n",
      "[CV 2/5] END bootstrap=False, class_weight=balanced, criterion=gini, max_features=auto, n_estimators=200, oob_score=False;, score=nan total time=   0.0s\n",
      "[CV 3/5] END bootstrap=False, class_weight=balanced, criterion=gini, max_features=auto, n_estimators=200, oob_score=False;, score=nan total time=   0.0s\n",
      "[CV 4/5] END bootstrap=False, class_weight=balanced, criterion=gini, max_features=auto, n_estimators=200, oob_score=False;, score=nan total time=   0.0s\n",
      "[CV 5/5] END bootstrap=False, class_weight=balanced, criterion=gini, max_features=auto, n_estimators=200, oob_score=False;, score=nan total time=   0.0s\n",
      "[CV] END ................................ score: (test=0.938) total time= 1.3min\n",
      "Fitting 5 folds for each of 10 candidates, totalling 50 fits\n",
      "[CV 1/5] END bootstrap=True, class_weight=balanced_subsample, criterion=gini, max_features=sqrt, n_estimators=1000, oob_score=False;, score=0.924 total time=   4.5s\n",
      "[CV 2/5] END bootstrap=True, class_weight=balanced_subsample, criterion=gini, max_features=sqrt, n_estimators=1000, oob_score=False;, score=0.927 total time=   4.1s\n",
      "[CV 3/5] END bootstrap=True, class_weight=balanced_subsample, criterion=gini, max_features=sqrt, n_estimators=1000, oob_score=False;, score=0.924 total time=   4.0s\n",
      "[CV 4/5] END bootstrap=True, class_weight=balanced_subsample, criterion=gini, max_features=sqrt, n_estimators=1000, oob_score=False;, score=0.941 total time=   4.1s\n",
      "[CV 5/5] END bootstrap=True, class_weight=balanced_subsample, criterion=gini, max_features=sqrt, n_estimators=1000, oob_score=False;, score=0.927 total time=   4.0s\n",
      "[CV 1/5] END bootstrap=True, class_weight=balanced_subsample, criterion=gini, max_features=sqrt, n_estimators=1000, oob_score=True;, score=0.924 total time=   4.4s\n",
      "[CV 2/5] END bootstrap=True, class_weight=balanced_subsample, criterion=gini, max_features=sqrt, n_estimators=1000, oob_score=True;, score=0.934 total time=   4.5s\n",
      "[CV 3/5] END bootstrap=True, class_weight=balanced_subsample, criterion=gini, max_features=sqrt, n_estimators=1000, oob_score=True;, score=0.924 total time=   4.4s\n",
      "[CV 4/5] END bootstrap=True, class_weight=balanced_subsample, criterion=gini, max_features=sqrt, n_estimators=1000, oob_score=True;, score=0.941 total time=   4.5s\n",
      "[CV 5/5] END bootstrap=True, class_weight=balanced_subsample, criterion=gini, max_features=sqrt, n_estimators=1000, oob_score=True;, score=0.924 total time=   4.4s\n",
      "[CV 1/5] END bootstrap=False, class_weight=balanced_subsample, criterion=entropy, max_features=sqrt, n_estimators=1000, oob_score=True;, score=nan total time=   0.0s\n",
      "[CV 2/5] END bootstrap=False, class_weight=balanced_subsample, criterion=entropy, max_features=sqrt, n_estimators=1000, oob_score=True;, score=nan total time=   0.0s\n",
      "[CV 3/5] END bootstrap=False, class_weight=balanced_subsample, criterion=entropy, max_features=sqrt, n_estimators=1000, oob_score=True;, score=nan total time=   0.0s\n",
      "[CV 4/5] END bootstrap=False, class_weight=balanced_subsample, criterion=entropy, max_features=sqrt, n_estimators=1000, oob_score=True;, score=nan total time=   0.0s\n",
      "[CV 5/5] END bootstrap=False, class_weight=balanced_subsample, criterion=entropy, max_features=sqrt, n_estimators=1000, oob_score=True;, score=nan total time=   0.0s\n",
      "[CV 1/5] END bootstrap=True, class_weight=balanced, criterion=gini, max_features=sqrt, n_estimators=600, oob_score=False;, score=0.920 total time=   2.3s\n",
      "[CV 2/5] END bootstrap=True, class_weight=balanced, criterion=gini, max_features=sqrt, n_estimators=600, oob_score=False;, score=0.931 total time=   2.3s\n",
      "[CV 3/5] END bootstrap=True, class_weight=balanced, criterion=gini, max_features=sqrt, n_estimators=600, oob_score=False;, score=0.927 total time=   2.2s\n",
      "[CV 4/5] END bootstrap=True, class_weight=balanced, criterion=gini, max_features=sqrt, n_estimators=600, oob_score=False;, score=0.941 total time=   2.1s\n",
      "[CV 5/5] END bootstrap=True, class_weight=balanced, criterion=gini, max_features=sqrt, n_estimators=600, oob_score=False;, score=0.924 total time=   2.2s\n"
     ]
    },
    {
     "name": "stdout",
     "output_type": "stream",
     "text": [
      "[CV 1/5] END bootstrap=True, class_weight=balanced, criterion=gini, max_features=sqrt, n_estimators=200, oob_score=True;, score=0.922 total time=   0.8s\n",
      "[CV 2/5] END bootstrap=True, class_weight=balanced, criterion=gini, max_features=sqrt, n_estimators=200, oob_score=True;, score=0.934 total time=   0.8s\n",
      "[CV 3/5] END bootstrap=True, class_weight=balanced, criterion=gini, max_features=sqrt, n_estimators=200, oob_score=True;, score=0.927 total time=   0.8s\n",
      "[CV 4/5] END bootstrap=True, class_weight=balanced, criterion=gini, max_features=sqrt, n_estimators=200, oob_score=True;, score=0.938 total time=   0.8s\n",
      "[CV 5/5] END bootstrap=True, class_weight=balanced, criterion=gini, max_features=sqrt, n_estimators=200, oob_score=True;, score=0.919 total time=   0.8s\n",
      "[CV 1/5] END bootstrap=True, class_weight=balanced_subsample, criterion=log_loss, max_features=auto, n_estimators=200, oob_score=True;, score=nan total time=   0.0s\n",
      "[CV 2/5] END bootstrap=True, class_weight=balanced_subsample, criterion=log_loss, max_features=auto, n_estimators=200, oob_score=True;, score=nan total time=   0.0s\n",
      "[CV 3/5] END bootstrap=True, class_weight=balanced_subsample, criterion=log_loss, max_features=auto, n_estimators=200, oob_score=True;, score=nan total time=   0.0s\n",
      "[CV 4/5] END bootstrap=True, class_weight=balanced_subsample, criterion=log_loss, max_features=auto, n_estimators=200, oob_score=True;, score=nan total time=   0.0s\n",
      "[CV 5/5] END bootstrap=True, class_weight=balanced_subsample, criterion=log_loss, max_features=auto, n_estimators=200, oob_score=True;, score=nan total time=   0.0s\n",
      "[CV 1/5] END bootstrap=False, class_weight=balanced_subsample, criterion=gini, max_features=log2, n_estimators=1000, oob_score=False;, score=0.929 total time=   6.0s\n",
      "[CV 2/5] END bootstrap=False, class_weight=balanced_subsample, criterion=gini, max_features=log2, n_estimators=1000, oob_score=False;, score=0.936 total time=   5.9s\n",
      "[CV 3/5] END bootstrap=False, class_weight=balanced_subsample, criterion=gini, max_features=log2, n_estimators=1000, oob_score=False;, score=0.929 total time=   5.8s\n",
      "[CV 4/5] END bootstrap=False, class_weight=balanced_subsample, criterion=gini, max_features=log2, n_estimators=1000, oob_score=False;, score=0.936 total time=   5.9s\n",
      "[CV 5/5] END bootstrap=False, class_weight=balanced_subsample, criterion=gini, max_features=log2, n_estimators=1000, oob_score=False;, score=0.931 total time=   5.9s\n",
      "[CV 1/5] END bootstrap=True, class_weight=balanced, criterion=log_loss, max_features=sqrt, n_estimators=1000, oob_score=False;, score=0.922 total time=   4.3s\n",
      "[CV 2/5] END bootstrap=True, class_weight=balanced, criterion=log_loss, max_features=sqrt, n_estimators=1000, oob_score=False;, score=0.931 total time=   4.0s\n",
      "[CV 3/5] END bootstrap=True, class_weight=balanced, criterion=log_loss, max_features=sqrt, n_estimators=1000, oob_score=False;, score=0.931 total time=   3.9s\n",
      "[CV 4/5] END bootstrap=True, class_weight=balanced, criterion=log_loss, max_features=sqrt, n_estimators=1000, oob_score=False;, score=0.938 total time=   4.3s\n",
      "[CV 5/5] END bootstrap=True, class_weight=balanced, criterion=log_loss, max_features=sqrt, n_estimators=1000, oob_score=False;, score=0.924 total time=   4.2s\n",
      "[CV 1/5] END bootstrap=False, class_weight=balanced_subsample, criterion=log_loss, max_features=auto, n_estimators=600, oob_score=False;, score=nan total time=   0.0s\n",
      "[CV 2/5] END bootstrap=False, class_weight=balanced_subsample, criterion=log_loss, max_features=auto, n_estimators=600, oob_score=False;, score=nan total time=   0.0s\n",
      "[CV 3/5] END bootstrap=False, class_weight=balanced_subsample, criterion=log_loss, max_features=auto, n_estimators=600, oob_score=False;, score=nan total time=   0.0s\n",
      "[CV 4/5] END bootstrap=False, class_weight=balanced_subsample, criterion=log_loss, max_features=auto, n_estimators=600, oob_score=False;, score=nan total time=   0.0s\n",
      "[CV 5/5] END bootstrap=False, class_weight=balanced_subsample, criterion=log_loss, max_features=auto, n_estimators=600, oob_score=False;, score=nan total time=   0.0s\n",
      "[CV 1/5] END bootstrap=False, class_weight=balanced, criterion=log_loss, max_features=log2, n_estimators=200, oob_score=True;, score=nan total time=   0.0s\n",
      "[CV 2/5] END bootstrap=False, class_weight=balanced, criterion=log_loss, max_features=log2, n_estimators=200, oob_score=True;, score=nan total time=   0.0s\n",
      "[CV 3/5] END bootstrap=False, class_weight=balanced, criterion=log_loss, max_features=log2, n_estimators=200, oob_score=True;, score=nan total time=   0.0s\n",
      "[CV 4/5] END bootstrap=False, class_weight=balanced, criterion=log_loss, max_features=log2, n_estimators=200, oob_score=True;, score=nan total time=   0.0s\n",
      "[CV 5/5] END bootstrap=False, class_weight=balanced, criterion=log_loss, max_features=log2, n_estimators=200, oob_score=True;, score=nan total time=   0.0s\n",
      "[CV] END ................................ score: (test=0.951) total time= 1.9min\n",
      "Fitting 5 folds for each of 10 candidates, totalling 50 fits\n",
      "[CV 1/5] END bootstrap=True, class_weight=balanced, criterion=log_loss, max_features=auto, n_estimators=1000, oob_score=True;, score=nan total time=   0.0s\n",
      "[CV 2/5] END bootstrap=True, class_weight=balanced, criterion=log_loss, max_features=auto, n_estimators=1000, oob_score=True;, score=nan total time=   0.0s\n",
      "[CV 3/5] END bootstrap=True, class_weight=balanced, criterion=log_loss, max_features=auto, n_estimators=1000, oob_score=True;, score=nan total time=   0.0s\n",
      "[CV 4/5] END bootstrap=True, class_weight=balanced, criterion=log_loss, max_features=auto, n_estimators=1000, oob_score=True;, score=nan total time=   0.0s\n",
      "[CV 5/5] END bootstrap=True, class_weight=balanced, criterion=log_loss, max_features=auto, n_estimators=1000, oob_score=True;, score=nan total time=   0.0s\n",
      "[CV 1/5] END bootstrap=False, class_weight=balanced_subsample, criterion=gini, max_features=log2, n_estimators=1000, oob_score=False;, score=0.929 total time=   6.1s\n",
      "[CV 2/5] END bootstrap=False, class_weight=balanced_subsample, criterion=gini, max_features=log2, n_estimators=1000, oob_score=False;, score=0.931 total time=   6.0s\n",
      "[CV 3/5] END bootstrap=False, class_weight=balanced_subsample, criterion=gini, max_features=log2, n_estimators=1000, oob_score=False;, score=0.941 total time=   5.7s\n",
      "[CV 4/5] END bootstrap=False, class_weight=balanced_subsample, criterion=gini, max_features=log2, n_estimators=1000, oob_score=False;, score=0.929 total time=   5.8s\n",
      "[CV 5/5] END bootstrap=False, class_weight=balanced_subsample, criterion=gini, max_features=log2, n_estimators=1000, oob_score=False;, score=0.934 total time=   6.0s\n",
      "[CV 1/5] END bootstrap=False, class_weight=balanced, criterion=entropy, max_features=auto, n_estimators=200, oob_score=True;, score=nan total time=   0.0s\n",
      "[CV 2/5] END bootstrap=False, class_weight=balanced, criterion=entropy, max_features=auto, n_estimators=200, oob_score=True;, score=nan total time=   0.0s\n",
      "[CV 3/5] END bootstrap=False, class_weight=balanced, criterion=entropy, max_features=auto, n_estimators=200, oob_score=True;, score=nan total time=   0.0s\n",
      "[CV 4/5] END bootstrap=False, class_weight=balanced, criterion=entropy, max_features=auto, n_estimators=200, oob_score=True;, score=nan total time=   0.0s\n",
      "[CV 5/5] END bootstrap=False, class_weight=balanced, criterion=entropy, max_features=auto, n_estimators=200, oob_score=True;, score=nan total time=   0.0s\n",
      "[CV 1/5] END bootstrap=True, class_weight=balanced, criterion=entropy, max_features=log2, n_estimators=1000, oob_score=False;, score=0.924 total time=   4.2s\n",
      "[CV 2/5] END bootstrap=True, class_weight=balanced, criterion=entropy, max_features=log2, n_estimators=1000, oob_score=False;, score=0.922 total time=   4.0s\n",
      "[CV 3/5] END bootstrap=True, class_weight=balanced, criterion=entropy, max_features=log2, n_estimators=1000, oob_score=False;, score=0.936 total time=   4.2s\n",
      "[CV 4/5] END bootstrap=True, class_weight=balanced, criterion=entropy, max_features=log2, n_estimators=1000, oob_score=False;, score=0.936 total time=   4.2s\n",
      "[CV 5/5] END bootstrap=True, class_weight=balanced, criterion=entropy, max_features=log2, n_estimators=1000, oob_score=False;, score=0.915 total time=   4.0s\n",
      "[CV 1/5] END bootstrap=False, class_weight=balanced_subsample, criterion=log_loss, max_features=auto, n_estimators=200, oob_score=True;, score=nan total time=   0.0s\n",
      "[CV 2/5] END bootstrap=False, class_weight=balanced_subsample, criterion=log_loss, max_features=auto, n_estimators=200, oob_score=True;, score=nan total time=   0.0s\n",
      "[CV 3/5] END bootstrap=False, class_weight=balanced_subsample, criterion=log_loss, max_features=auto, n_estimators=200, oob_score=True;, score=nan total time=   0.0s\n",
      "[CV 4/5] END bootstrap=False, class_weight=balanced_subsample, criterion=log_loss, max_features=auto, n_estimators=200, oob_score=True;, score=nan total time=   0.0s\n",
      "[CV 5/5] END bootstrap=False, class_weight=balanced_subsample, criterion=log_loss, max_features=auto, n_estimators=200, oob_score=True;, score=nan total time=   0.0s\n",
      "[CV 1/5] END bootstrap=True, class_weight=balanced_subsample, criterion=log_loss, max_features=auto, n_estimators=1000, oob_score=False;, score=nan total time=   0.0s\n",
      "[CV 2/5] END bootstrap=True, class_weight=balanced_subsample, criterion=log_loss, max_features=auto, n_estimators=1000, oob_score=False;, score=nan total time=   0.0s\n",
      "[CV 3/5] END bootstrap=True, class_weight=balanced_subsample, criterion=log_loss, max_features=auto, n_estimators=1000, oob_score=False;, score=nan total time=   0.0s\n",
      "[CV 4/5] END bootstrap=True, class_weight=balanced_subsample, criterion=log_loss, max_features=auto, n_estimators=1000, oob_score=False;, score=nan total time=   0.0s\n",
      "[CV 5/5] END bootstrap=True, class_weight=balanced_subsample, criterion=log_loss, max_features=auto, n_estimators=1000, oob_score=False;, score=nan total time=   0.0s\n"
     ]
    },
    {
     "name": "stdout",
     "output_type": "stream",
     "text": [
      "[CV 1/5] END bootstrap=True, class_weight=balanced_subsample, criterion=log_loss, max_features=log2, n_estimators=600, oob_score=True;, score=0.927 total time=   3.1s\n",
      "[CV 2/5] END bootstrap=True, class_weight=balanced_subsample, criterion=log_loss, max_features=log2, n_estimators=600, oob_score=True;, score=0.929 total time=   2.7s\n",
      "[CV 3/5] END bootstrap=True, class_weight=balanced_subsample, criterion=log_loss, max_features=log2, n_estimators=600, oob_score=True;, score=0.938 total time=   2.7s\n",
      "[CV 4/5] END bootstrap=True, class_weight=balanced_subsample, criterion=log_loss, max_features=log2, n_estimators=600, oob_score=True;, score=0.936 total time=   3.0s\n",
      "[CV 5/5] END bootstrap=True, class_weight=balanced_subsample, criterion=log_loss, max_features=log2, n_estimators=600, oob_score=True;, score=0.917 total time=   3.0s\n",
      "[CV 1/5] END bootstrap=False, class_weight=balanced, criterion=log_loss, max_features=sqrt, n_estimators=600, oob_score=True;, score=nan total time=   0.0s\n",
      "[CV 2/5] END bootstrap=False, class_weight=balanced, criterion=log_loss, max_features=sqrt, n_estimators=600, oob_score=True;, score=nan total time=   0.0s\n",
      "[CV 3/5] END bootstrap=False, class_weight=balanced, criterion=log_loss, max_features=sqrt, n_estimators=600, oob_score=True;, score=nan total time=   0.0s\n",
      "[CV 4/5] END bootstrap=False, class_weight=balanced, criterion=log_loss, max_features=sqrt, n_estimators=600, oob_score=True;, score=nan total time=   0.0s\n",
      "[CV 5/5] END bootstrap=False, class_weight=balanced, criterion=log_loss, max_features=sqrt, n_estimators=600, oob_score=True;, score=nan total time=   0.0s\n",
      "[CV 1/5] END bootstrap=False, class_weight=balanced, criterion=entropy, max_features=log2, n_estimators=600, oob_score=False;, score=0.927 total time=   3.7s\n",
      "[CV 2/5] END bootstrap=False, class_weight=balanced, criterion=entropy, max_features=log2, n_estimators=600, oob_score=False;, score=0.931 total time=   3.6s\n",
      "[CV 3/5] END bootstrap=False, class_weight=balanced, criterion=entropy, max_features=log2, n_estimators=600, oob_score=False;, score=0.936 total time=   3.7s\n",
      "[CV 4/5] END bootstrap=False, class_weight=balanced, criterion=entropy, max_features=log2, n_estimators=600, oob_score=False;, score=0.934 total time=   3.7s\n",
      "[CV 5/5] END bootstrap=False, class_weight=balanced, criterion=entropy, max_features=log2, n_estimators=600, oob_score=False;, score=0.924 total time=   3.7s\n",
      "[CV 1/5] END bootstrap=True, class_weight=balanced, criterion=gini, max_features=log2, n_estimators=1000, oob_score=False;, score=0.927 total time=   4.0s\n",
      "[CV 2/5] END bootstrap=True, class_weight=balanced, criterion=gini, max_features=log2, n_estimators=1000, oob_score=False;, score=0.924 total time=   3.7s\n",
      "[CV 3/5] END bootstrap=True, class_weight=balanced, criterion=gini, max_features=log2, n_estimators=1000, oob_score=False;, score=0.938 total time=   3.6s\n",
      "[CV 4/5] END bootstrap=True, class_weight=balanced, criterion=gini, max_features=log2, n_estimators=1000, oob_score=False;, score=0.931 total time=   3.8s\n",
      "[CV 5/5] END bootstrap=True, class_weight=balanced, criterion=gini, max_features=log2, n_estimators=1000, oob_score=False;, score=0.919 total time=   3.8s\n",
      "[CV] END ................................ score: (test=0.936) total time= 1.8min\n",
      "Fitting 5 folds for each of 10 candidates, totalling 50 fits\n",
      "[CV 1/5] END bootstrap=True, class_weight=balanced_subsample, criterion=entropy, max_features=log2, n_estimators=200, oob_score=True;, score=0.929 total time=   1.0s\n",
      "[CV 2/5] END bootstrap=True, class_weight=balanced_subsample, criterion=entropy, max_features=log2, n_estimators=200, oob_score=True;, score=0.931 total time=   1.0s\n",
      "[CV 3/5] END bootstrap=True, class_weight=balanced_subsample, criterion=entropy, max_features=log2, n_estimators=200, oob_score=True;, score=0.950 total time=   1.0s\n",
      "[CV 4/5] END bootstrap=True, class_weight=balanced_subsample, criterion=entropy, max_features=log2, n_estimators=200, oob_score=True;, score=0.936 total time=   1.0s\n",
      "[CV 5/5] END bootstrap=True, class_weight=balanced_subsample, criterion=entropy, max_features=log2, n_estimators=200, oob_score=True;, score=0.924 total time=   0.9s\n",
      "[CV 1/5] END bootstrap=True, class_weight=balanced, criterion=gini, max_features=auto, n_estimators=600, oob_score=True;, score=nan total time=   0.0s\n",
      "[CV 2/5] END bootstrap=True, class_weight=balanced, criterion=gini, max_features=auto, n_estimators=600, oob_score=True;, score=nan total time=   0.0s\n",
      "[CV 3/5] END bootstrap=True, class_weight=balanced, criterion=gini, max_features=auto, n_estimators=600, oob_score=True;, score=nan total time=   0.0s\n",
      "[CV 4/5] END bootstrap=True, class_weight=balanced, criterion=gini, max_features=auto, n_estimators=600, oob_score=True;, score=nan total time=   0.0s\n",
      "[CV 5/5] END bootstrap=True, class_weight=balanced, criterion=gini, max_features=auto, n_estimators=600, oob_score=True;, score=nan total time=   0.0s\n",
      "[CV 1/5] END bootstrap=False, class_weight=balanced, criterion=log_loss, max_features=sqrt, n_estimators=200, oob_score=True;, score=nan total time=   0.0s\n",
      "[CV 2/5] END bootstrap=False, class_weight=balanced, criterion=log_loss, max_features=sqrt, n_estimators=200, oob_score=True;, score=nan total time=   0.0s\n",
      "[CV 3/5] END bootstrap=False, class_weight=balanced, criterion=log_loss, max_features=sqrt, n_estimators=200, oob_score=True;, score=nan total time=   0.0s\n",
      "[CV 4/5] END bootstrap=False, class_weight=balanced, criterion=log_loss, max_features=sqrt, n_estimators=200, oob_score=True;, score=nan total time=   0.0s\n",
      "[CV 5/5] END bootstrap=False, class_weight=balanced, criterion=log_loss, max_features=sqrt, n_estimators=200, oob_score=True;, score=nan total time=   0.0s\n",
      "[CV 1/5] END bootstrap=True, class_weight=balanced, criterion=log_loss, max_features=log2, n_estimators=1000, oob_score=True;, score=0.927 total time=   4.6s\n",
      "[CV 2/5] END bootstrap=True, class_weight=balanced, criterion=log_loss, max_features=log2, n_estimators=1000, oob_score=True;, score=0.927 total time=   4.4s\n",
      "[CV 3/5] END bootstrap=True, class_weight=balanced, criterion=log_loss, max_features=log2, n_estimators=1000, oob_score=True;, score=0.950 total time=   4.5s\n",
      "[CV 4/5] END bootstrap=True, class_weight=balanced, criterion=log_loss, max_features=log2, n_estimators=1000, oob_score=True;, score=0.929 total time=   4.6s\n",
      "[CV 5/5] END bootstrap=True, class_weight=balanced, criterion=log_loss, max_features=log2, n_estimators=1000, oob_score=True;, score=0.922 total time=   4.2s\n",
      "[CV 1/5] END bootstrap=False, class_weight=balanced, criterion=entropy, max_features=auto, n_estimators=200, oob_score=True;, score=nan total time=   0.0s\n",
      "[CV 2/5] END bootstrap=False, class_weight=balanced, criterion=entropy, max_features=auto, n_estimators=200, oob_score=True;, score=nan total time=   0.0s\n",
      "[CV 3/5] END bootstrap=False, class_weight=balanced, criterion=entropy, max_features=auto, n_estimators=200, oob_score=True;, score=nan total time=   0.0s\n",
      "[CV 4/5] END bootstrap=False, class_weight=balanced, criterion=entropy, max_features=auto, n_estimators=200, oob_score=True;, score=nan total time=   0.0s\n",
      "[CV 5/5] END bootstrap=False, class_weight=balanced, criterion=entropy, max_features=auto, n_estimators=200, oob_score=True;, score=nan total time=   0.0s\n",
      "[CV 1/5] END bootstrap=True, class_weight=balanced, criterion=log_loss, max_features=auto, n_estimators=1000, oob_score=True;, score=nan total time=   0.0s\n",
      "[CV 2/5] END bootstrap=True, class_weight=balanced, criterion=log_loss, max_features=auto, n_estimators=1000, oob_score=True;, score=nan total time=   0.0s\n",
      "[CV 3/5] END bootstrap=True, class_weight=balanced, criterion=log_loss, max_features=auto, n_estimators=1000, oob_score=True;, score=nan total time=   0.0s\n",
      "[CV 4/5] END bootstrap=True, class_weight=balanced, criterion=log_loss, max_features=auto, n_estimators=1000, oob_score=True;, score=nan total time=   0.0s\n",
      "[CV 5/5] END bootstrap=True, class_weight=balanced, criterion=log_loss, max_features=auto, n_estimators=1000, oob_score=True;, score=nan total time=   0.0s\n",
      "[CV 1/5] END bootstrap=False, class_weight=balanced, criterion=entropy, max_features=log2, n_estimators=1000, oob_score=False;, score=0.934 total time=   6.7s\n",
      "[CV 2/5] END bootstrap=False, class_weight=balanced, criterion=entropy, max_features=log2, n_estimators=1000, oob_score=False;, score=0.936 total time=   6.5s\n"
     ]
    },
    {
     "name": "stdout",
     "output_type": "stream",
     "text": [
      "[CV 3/5] END bootstrap=False, class_weight=balanced, criterion=entropy, max_features=log2, n_estimators=1000, oob_score=False;, score=0.945 total time=   6.4s\n",
      "[CV 4/5] END bootstrap=False, class_weight=balanced, criterion=entropy, max_features=log2, n_estimators=1000, oob_score=False;, score=0.938 total time=   6.8s\n",
      "[CV 5/5] END bootstrap=False, class_weight=balanced, criterion=entropy, max_features=log2, n_estimators=1000, oob_score=False;, score=0.931 total time=   6.2s\n",
      "[CV 1/5] END bootstrap=True, class_weight=balanced_subsample, criterion=entropy, max_features=auto, n_estimators=200, oob_score=False;, score=nan total time=   0.0s\n",
      "[CV 2/5] END bootstrap=True, class_weight=balanced_subsample, criterion=entropy, max_features=auto, n_estimators=200, oob_score=False;, score=nan total time=   0.0s\n",
      "[CV 3/5] END bootstrap=True, class_weight=balanced_subsample, criterion=entropy, max_features=auto, n_estimators=200, oob_score=False;, score=nan total time=   0.0s\n",
      "[CV 4/5] END bootstrap=True, class_weight=balanced_subsample, criterion=entropy, max_features=auto, n_estimators=200, oob_score=False;, score=nan total time=   0.0s\n",
      "[CV 5/5] END bootstrap=True, class_weight=balanced_subsample, criterion=entropy, max_features=auto, n_estimators=200, oob_score=False;, score=nan total time=   0.0s\n",
      "[CV 1/5] END bootstrap=False, class_weight=balanced_subsample, criterion=entropy, max_features=log2, n_estimators=1000, oob_score=False;, score=0.931 total time=   7.0s\n",
      "[CV 2/5] END bootstrap=False, class_weight=balanced_subsample, criterion=entropy, max_features=log2, n_estimators=1000, oob_score=False;, score=0.939 total time=   6.5s\n",
      "[CV 3/5] END bootstrap=False, class_weight=balanced_subsample, criterion=entropy, max_features=log2, n_estimators=1000, oob_score=False;, score=0.945 total time=   6.4s\n",
      "[CV 4/5] END bootstrap=False, class_weight=balanced_subsample, criterion=entropy, max_features=log2, n_estimators=1000, oob_score=False;, score=0.941 total time=   6.6s\n",
      "[CV 5/5] END bootstrap=False, class_weight=balanced_subsample, criterion=entropy, max_features=log2, n_estimators=1000, oob_score=False;, score=0.936 total time=   6.1s\n",
      "[CV 1/5] END bootstrap=True, class_weight=balanced, criterion=entropy, max_features=log2, n_estimators=600, oob_score=False;, score=0.924 total time=   2.5s\n",
      "[CV 2/5] END bootstrap=True, class_weight=balanced, criterion=entropy, max_features=log2, n_estimators=600, oob_score=False;, score=0.929 total time=   2.4s\n",
      "[CV 3/5] END bootstrap=True, class_weight=balanced, criterion=entropy, max_features=log2, n_estimators=600, oob_score=False;, score=0.950 total time=   2.5s\n",
      "[CV 4/5] END bootstrap=True, class_weight=balanced, criterion=entropy, max_features=log2, n_estimators=600, oob_score=False;, score=0.934 total time=   2.5s\n",
      "[CV 5/5] END bootstrap=True, class_weight=balanced, criterion=entropy, max_features=log2, n_estimators=600, oob_score=False;, score=0.924 total time=   2.5s\n",
      "[CV] END ................................ score: (test=0.934) total time= 1.9min\n",
      "Mean Cross Validation Performance of RandomizedSearchCV_RandomForestClassifier: 93.94%\n"
     ]
    }
   ],
   "source": [
    "avg_cv_scores = cross_val_score(grid_rf,\n",
    "                                X_test,y_test, scoring='accuracy', verbose=3, cv=5)\n",
    "mean_score = round(np.mean(avg_cv_scores),4)\n",
    "print(f\"Mean Cross Validation Performance of {best_model}: {mean_score*100}%\")"
   ]
  },
  {
   "cell_type": "markdown",
   "id": "3b2650f0",
   "metadata": {
    "id": "3b2650f0"
   },
   "source": [
    "Evaluating the performance of the  model fine-tuned `RandomForestClassifier` by `RandomizedSearchCV` using cross validation `cross_val_score` is thus able to maintain its performance level on the cross validation set which clearly suggests that there is no overfitting, the model's performance stable and reliable."
   ]
  },
  {
   "cell_type": "markdown",
   "id": "c740b967",
   "metadata": {
    "id": "c740b967"
   },
   "source": [
    "## 6. Conclusion and future work <a name=\"part6\"></a>\n",
    "The `RandomForestClassifier` with `RandomizedSearchCV` emerged as the best-performing model for bankruptcy prediction in Taiwan due to several key factors:\n",
    "* Ensemble Learning: improves predictive accuracy by aggregating multiple trees.\n",
    "* Feature Importance:  provides valuable insights into key predictors.\n",
    "* Robustness and Flexibility ensure consistent performance across various conditions.\n",
    "\n",
    "`RandomizedSearchCV` optimizes the model's hyperparameters, further enhancing its predictive capability.\n",
    "These factors combined make the Random Forest with RandomizedSearchCV a powerful and reliable choice for predicting bankruptcy.\n",
    "\n",
    "\n",
    "**Practical Implications:**\n",
    "\n",
    "The ability to accurately predict bankruptcy has significant implications for financial institutions and businesses:\n",
    "* Risk Management: Financial institutions can better manage credit risk and make informed lending decisions.\n",
    "* Proactive Measures: Companies can take proactive measures to address financial distress and potentially avoid bankruptcy.\n",
    "* Strategic Planning: Businesses can use these insights for strategic planning and improving their financial health.\n"
   ]
  }
 ],
 "metadata": {
  "colab": {
   "provenance": []
  },
  "kernelspec": {
   "display_name": "Python 3 (ipykernel)",
   "language": "python",
   "name": "python3"
  },
  "language_info": {
   "codemirror_mode": {
    "name": "ipython",
    "version": 3
   },
   "file_extension": ".py",
   "mimetype": "text/x-python",
   "name": "python",
   "nbconvert_exporter": "python",
   "pygments_lexer": "ipython3",
   "version": "3.9.7"
  }
 },
 "nbformat": 4,
 "nbformat_minor": 5
}
